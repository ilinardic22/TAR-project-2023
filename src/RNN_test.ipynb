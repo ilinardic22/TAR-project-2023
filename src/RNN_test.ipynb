{
 "cells": [
  {
   "cell_type": "code",
   "execution_count": 1,
   "id": "869153a0-ce90-48dc-89ed-52b9148e0dfc",
   "metadata": {},
   "outputs": [],
   "source": [
    "%load_ext autoreload\n",
    "%autoreload 2"
   ]
  },
  {
   "cell_type": "code",
   "execution_count": 2,
   "id": "24bb91f3-b5fd-40ac-9023-cb95b74b6740",
   "metadata": {},
   "outputs": [],
   "source": [
    "import torch\n",
    "import numpy as np\n",
    "import pandas as pd\n",
    "import spacy"
   ]
  },
  {
   "cell_type": "code",
   "execution_count": 3,
   "id": "b1b00c17-ec08-4896-8ed2-10c788ce2b3a",
   "metadata": {},
   "outputs": [],
   "source": [
    "essays_df = pd.read_csv('../data/essays_expanded.csv')"
   ]
  },
  {
   "cell_type": "code",
   "execution_count": 4,
   "id": "d7d6ed59-8ac3-4a0b-a857-3e1aaaa47798",
   "metadata": {},
   "outputs": [
    {
     "data": {
      "text/html": [
       "<div>\n",
       "<style scoped>\n",
       "    .dataframe tbody tr th:only-of-type {\n",
       "        vertical-align: middle;\n",
       "    }\n",
       "\n",
       "    .dataframe tbody tr th {\n",
       "        vertical-align: top;\n",
       "    }\n",
       "\n",
       "    .dataframe thead th {\n",
       "        text-align: right;\n",
       "    }\n",
       "</style>\n",
       "<table border=\"1\" class=\"dataframe\">\n",
       "  <thead>\n",
       "    <tr style=\"text-align: right;\">\n",
       "      <th></th>\n",
       "      <th>TEXT</th>\n",
       "      <th>cEXT</th>\n",
       "      <th>cNEU</th>\n",
       "      <th>cAGR</th>\n",
       "      <th>cCON</th>\n",
       "      <th>cOPN</th>\n",
       "      <th>words</th>\n",
       "      <th>sentences</th>\n",
       "      <th>bigrams</th>\n",
       "      <th>trigrams</th>\n",
       "      <th>average_word_embedding</th>\n",
       "    </tr>\n",
       "  </thead>\n",
       "  <tbody>\n",
       "    <tr>\n",
       "      <th>0</th>\n",
       "      <td>Well, right now I just woke up from a mid-day ...</td>\n",
       "      <td>0</td>\n",
       "      <td>1</td>\n",
       "      <td>1</td>\n",
       "      <td>0</td>\n",
       "      <td>1</td>\n",
       "      <td>['well', 'right', 'now', 'i', 'just', 'woke', ...</td>\n",
       "      <td>['well, right now i just woke up from a mid-da...</td>\n",
       "      <td>[('well', 'right'), ('right', 'now'), ('now', ...</td>\n",
       "      <td>[('well', 'right', 'now'), ('right', 'now', 'i...</td>\n",
       "      <td>[ 1.46904569e-02  1.52049020e-01 -2.17639774e-...</td>\n",
       "    </tr>\n",
       "    <tr>\n",
       "      <th>1</th>\n",
       "      <td>Well, here we go with the stream of consciousn...</td>\n",
       "      <td>0</td>\n",
       "      <td>0</td>\n",
       "      <td>1</td>\n",
       "      <td>0</td>\n",
       "      <td>0</td>\n",
       "      <td>['well', 'here', 'we', 'go', 'with', 'the', 's...</td>\n",
       "      <td>['well, here we go with the stream of consciou...</td>\n",
       "      <td>[('well', 'here'), ('here', 'we'), ('we', 'go'...</td>\n",
       "      <td>[('well', 'here', 'we'), ('here', 'we', 'go'),...</td>\n",
       "      <td>[ 1.93020366e-02  2.00337350e-01 -2.47012377e-...</td>\n",
       "    </tr>\n",
       "    <tr>\n",
       "      <th>2</th>\n",
       "      <td>An open keyboard and buttons to push. The thin...</td>\n",
       "      <td>0</td>\n",
       "      <td>1</td>\n",
       "      <td>0</td>\n",
       "      <td>1</td>\n",
       "      <td>1</td>\n",
       "      <td>['an', 'open', 'keyboard', 'and', 'buttons', '...</td>\n",
       "      <td>['an open keyboard and buttons to push.', 'the...</td>\n",
       "      <td>[('an', 'open'), ('open', 'keyboard'), ('keybo...</td>\n",
       "      <td>[('an', 'open', 'keyboard'), ('open', 'keyboar...</td>\n",
       "      <td>[ 1.21683925e-02  1.49960428e-01 -2.17856288e-...</td>\n",
       "    </tr>\n",
       "    <tr>\n",
       "      <th>3</th>\n",
       "      <td>I can't believe it!  It's really happening!  M...</td>\n",
       "      <td>1</td>\n",
       "      <td>0</td>\n",
       "      <td>1</td>\n",
       "      <td>1</td>\n",
       "      <td>0</td>\n",
       "      <td>['i', 'cant', 'believe', 'it', 'its', 'really'...</td>\n",
       "      <td>[\"i can't believe it!\", \"it's really happening...</td>\n",
       "      <td>[('i', 'cant'), ('cant', 'believe'), ('believe...</td>\n",
       "      <td>[('i', 'cant', 'believe'), ('cant', 'believe',...</td>\n",
       "      <td>[-1.21900747e-02  1.94802403e-01 -2.04183444e-...</td>\n",
       "    </tr>\n",
       "    <tr>\n",
       "      <th>4</th>\n",
       "      <td>Well, here I go with the good old stream of co...</td>\n",
       "      <td>1</td>\n",
       "      <td>0</td>\n",
       "      <td>1</td>\n",
       "      <td>0</td>\n",
       "      <td>1</td>\n",
       "      <td>['well', 'here', 'i', 'go', 'with', 'the', 'go...</td>\n",
       "      <td>['well, here i go with the good old stream of ...</td>\n",
       "      <td>[('well', 'here'), ('here', 'i'), ('i', 'go'),...</td>\n",
       "      <td>[('well', 'here', 'i'), ('here', 'i', 'go'), (...</td>\n",
       "      <td>[-6.53621508e-03  1.72239631e-01 -2.12745324e-...</td>\n",
       "    </tr>\n",
       "  </tbody>\n",
       "</table>\n",
       "</div>"
      ],
      "text/plain": [
       "                                                TEXT  cEXT  cNEU  cAGR  cCON   \n",
       "0  Well, right now I just woke up from a mid-day ...     0     1     1     0  \\\n",
       "1  Well, here we go with the stream of consciousn...     0     0     1     0   \n",
       "2  An open keyboard and buttons to push. The thin...     0     1     0     1   \n",
       "3  I can't believe it!  It's really happening!  M...     1     0     1     1   \n",
       "4  Well, here I go with the good old stream of co...     1     0     1     0   \n",
       "\n",
       "   cOPN                                              words   \n",
       "0     1  ['well', 'right', 'now', 'i', 'just', 'woke', ...  \\\n",
       "1     0  ['well', 'here', 'we', 'go', 'with', 'the', 's...   \n",
       "2     1  ['an', 'open', 'keyboard', 'and', 'buttons', '...   \n",
       "3     0  ['i', 'cant', 'believe', 'it', 'its', 'really'...   \n",
       "4     1  ['well', 'here', 'i', 'go', 'with', 'the', 'go...   \n",
       "\n",
       "                                           sentences   \n",
       "0  ['well, right now i just woke up from a mid-da...  \\\n",
       "1  ['well, here we go with the stream of consciou...   \n",
       "2  ['an open keyboard and buttons to push.', 'the...   \n",
       "3  [\"i can't believe it!\", \"it's really happening...   \n",
       "4  ['well, here i go with the good old stream of ...   \n",
       "\n",
       "                                             bigrams   \n",
       "0  [('well', 'right'), ('right', 'now'), ('now', ...  \\\n",
       "1  [('well', 'here'), ('here', 'we'), ('we', 'go'...   \n",
       "2  [('an', 'open'), ('open', 'keyboard'), ('keybo...   \n",
       "3  [('i', 'cant'), ('cant', 'believe'), ('believe...   \n",
       "4  [('well', 'here'), ('here', 'i'), ('i', 'go'),...   \n",
       "\n",
       "                                            trigrams   \n",
       "0  [('well', 'right', 'now'), ('right', 'now', 'i...  \\\n",
       "1  [('well', 'here', 'we'), ('here', 'we', 'go'),...   \n",
       "2  [('an', 'open', 'keyboard'), ('open', 'keyboar...   \n",
       "3  [('i', 'cant', 'believe'), ('cant', 'believe',...   \n",
       "4  [('well', 'here', 'i'), ('here', 'i', 'go'), (...   \n",
       "\n",
       "                              average_word_embedding  \n",
       "0  [ 1.46904569e-02  1.52049020e-01 -2.17639774e-...  \n",
       "1  [ 1.93020366e-02  2.00337350e-01 -2.47012377e-...  \n",
       "2  [ 1.21683925e-02  1.49960428e-01 -2.17856288e-...  \n",
       "3  [-1.21900747e-02  1.94802403e-01 -2.04183444e-...  \n",
       "4  [-6.53621508e-03  1.72239631e-01 -2.12745324e-...  "
      ]
     },
     "execution_count": 4,
     "metadata": {},
     "output_type": "execute_result"
    }
   ],
   "source": [
    "essays_df.head()"
   ]
  },
  {
   "cell_type": "code",
   "execution_count": 5,
   "id": "a38c4f8b-2793-440a-b382-279ee29fbcca",
   "metadata": {},
   "outputs": [],
   "source": [
    "nlp = spacy.load(\"en_core_web_lg\")"
   ]
  },
  {
   "cell_type": "code",
   "execution_count": 6,
   "id": "a6a794a0-ce71-4d0e-835f-f88b266b6043",
   "metadata": {},
   "outputs": [
    {
     "data": {
      "text/plain": [
       "0       ['well', 'right', 'now', 'i', 'just', 'woke', ...\n",
       "1       ['well', 'here', 'we', 'go', 'with', 'the', 's...\n",
       "2       ['an', 'open', 'keyboard', 'and', 'buttons', '...\n",
       "3       ['i', 'cant', 'believe', 'it', 'its', 'really'...\n",
       "4       ['well', 'here', 'i', 'go', 'with', 'the', 'go...\n",
       "                              ...                        \n",
       "2462    ['im', 'home', 'wanted', 'to', 'go', 'to', 'be...\n",
       "2463    ['stream', 'of', 'consiousnesssskdj', 'how', '...\n",
       "2464    ['it', 'is', 'wednesday', 'december', '8th', '...\n",
       "2465    ['man', 'this', 'week', 'has', 'been', 'hellis...\n",
       "2466    ['i', 'have', 'just', 'gotten', 'off', 'the', ...\n",
       "Name: words, Length: 2467, dtype: object"
      ]
     },
     "execution_count": 6,
     "metadata": {},
     "output_type": "execute_result"
    }
   ],
   "source": [
    "essays_df['words']"
   ]
  },
  {
   "cell_type": "code",
   "execution_count": 7,
   "id": "94c61ab6-aaf3-4f88-965b-9eb8696b299d",
   "metadata": {},
   "outputs": [
    {
     "data": {
      "text/plain": [
       "'[ 1.46904569e-02  1.52049020e-01 -2.17639774e-01 -8.80258828e-02\\n  8.52688029e-02 -3.94371850e-03  3.05371340e-02 -1.38843566e-01\\n  2.12251395e-02  2.34267139e+00 -2.21488938e-01  2.99450587e-02\\n  8.57699364e-02 -7.78461099e-02 -1.21614397e-01 -6.21049851e-02\\n -9.72699746e-02  1.01849878e+00 -2.24053293e-01  1.52853094e-02\\n  6.79433942e-02 -2.74071340e-02 -6.66414527e-03 -2.15105582e-02\\n -2.26805657e-02  1.32163977e-02 -8.90659615e-02 -1.25395164e-01\\n  8.17105994e-02 -9.40871239e-02 -8.99455696e-02  1.06132805e-01\\n -3.98628935e-02  3.39734629e-02  5.81113137e-02 -6.27174824e-02\\n  3.11215632e-02  5.75254969e-02 -1.10535875e-01 -7.40321204e-02\\n -3.18962969e-02  5.29051684e-02 -4.16491441e-02 -3.58616523e-02\\n  7.15998337e-02  1.21486261e-01 -1.28085256e-01 -6.53345138e-02\\n  1.25525100e-02 -9.21949930e-03 -1.07100956e-01  4.06682231e-02\\n  1.11232884e-02 -3.81595735e-03  1.00291662e-01  1.43503929e-02\\n -6.57458380e-02 -1.39213547e-01  3.55620757e-02 -3.74729112e-02\\n -5.77162206e-02 -1.05891235e-01 -1.04954131e-01  1.60063207e-01\\n  8.09653848e-02 -1.00833856e-01 -2.37632040e-02  1.03057601e-01\\n  1.00850016e-01  1.18793473e-01  8.89686793e-02  1.18195467e-01\\n  2.11141795e-01 -4.12410311e-02  1.47269264e-01  7.54521787e-02\\n  1.09506443e-01 -4.68295626e-02 -7.72465244e-02  2.04631597e-01\\n  5.03180847e-02  1.01719812e-01 -1.53272539e-01 -1.28280260e-02\\n  3.73462923e-02 -1.51713580e-01  6.99214488e-02 -2.33651444e-01\\n  2.85515964e-01  5.51237315e-02 -1.68583050e-01 -1.89756211e-02\\n -1.00395948e-01  6.80672824e-02  1.14886932e-01  4.88593131e-02\\n  8.88185352e-02 -5.21208830e-02 -2.63352953e-02  4.90067061e-03\\n -3.99641655e-02  2.36756704e-03 -5.72437197e-02 -7.67386630e-02\\n  1.26729250e-01 -7.66781747e-01  1.20753281e-01 -1.14847105e-02\\n -2.92015653e-02 -1.51424548e-02  4.42222394e-02 -2.25567520e-01\\n  1.35006934e-01 -8.97331834e-02  2.49921754e-02 -5.45691773e-02\\n  1.10560367e-02 -1.15593988e-02 -4.61283177e-02 -1.80062708e-02\\n  1.44606531e-01 -7.79548809e-02  3.45517471e-02 -4.32986207e-02\\n  1.03606530e-01  9.42205191e-02 -5.59286475e-02 -1.32287472e-01\\n  2.25472078e-02 -1.96800232e-02 -9.93818417e-03  1.66591927e-02\\n -1.73794910e-01  8.80554914e-02  1.78241745e-01 -3.32282856e-02\\n -2.99873599e-03 -1.58674875e-03 -4.25369442e-02 -4.32251617e-02\\n -1.55050886e+00  6.82110488e-02  1.26937523e-01 -1.44091379e-02\\n  3.47262770e-02 -7.34300241e-02 -1.51911229e-01  7.95065388e-02\\n -3.08410041e-02 -1.06771596e-01 -2.60589160e-02  4.41442803e-02\\n  8.79678577e-02 -2.75594424e-02 -6.09821193e-02 -7.68107623e-02\\n -4.09257673e-02 -5.92785962e-02 -3.04670120e-03 -1.36325002e-01\\n -2.67266203e-02  2.03836802e-02 -4.01591174e-02 -3.82635854e-02\\n -6.13203160e-02 -1.25283584e-01  4.22228165e-02 -4.36421223e-02\\n  1.46498576e-01  8.98216479e-03 -5.73826395e-02 -6.67270124e-02\\n  7.06811622e-02 -1.52594000e-01 -5.83150350e-02  4.54425178e-02\\n -1.00597419e-01  4.61764261e-02 -1.14905601e-02 -3.19630206e-02\\n  3.18962894e-02 -6.58776835e-02 -1.65997908e-01 -8.68243352e-03\\n -9.73446760e-03  3.35722486e-03 -1.01605140e-01 -5.52005209e-02\\n  1.26357630e-01  6.60844520e-02  5.51203340e-02 -4.95017739e-03\\n -1.83552444e-01 -2.49395799e-02  5.97609207e-02  1.41717628e-01\\n -2.78877635e-02 -1.36027753e-01  1.30289765e-02  1.32526353e-01\\n -2.37575825e-02 -7.28444904e-02 -6.44782409e-02 -3.69068049e-02\\n  1.77283600e-01  6.61964640e-02  2.99197622e-02 -6.43074140e-03\\n  9.33914855e-02  1.37828430e-02 -9.22328606e-02 -5.84491603e-02\\n -7.91524947e-02 -1.42335236e-01  2.67284121e-02  1.09308958e-01\\n -7.31461048e-02 -5.11942357e-02 -1.87249497e-01  5.14632352e-02\\n  4.21562232e-02 -1.90493502e-02 -6.20537810e-02 -2.04797904e-03\\n -3.00127100e-02  3.70514914e-02 -2.30509061e-02  1.30999014e-01\\n -1.03561897e-02 -3.14597823e-02 -1.52460143e-01  1.16664059e-02\\n  1.35481685e-01  1.38162747e-01  3.05598252e-03 -1.18510790e-01\\n  8.66531022e-03 -9.01936814e-02 -1.03918985e-01  1.47203654e-01\\n  8.71756673e-02  5.46687357e-02 -2.57107243e-03  2.08188280e-01\\n  1.00854769e-01 -1.94371313e-01 -1.03467278e-01 -8.63156766e-02\\n -1.43607318e-01  1.63794354e-01  4.37339060e-02 -1.32644549e-01\\n -6.81651905e-02  6.62971474e-03  7.27004483e-02  1.86722547e-01\\n  4.41627502e-02 -7.40187243e-02 -8.82903039e-02  2.79987343e-02\\n  1.10690519e-01  1.80299327e-01  1.05307102e-02  8.20029899e-02\\n  1.48642436e-01 -6.79383948e-02 -6.45055994e-02  7.57151321e-02\\n  2.81878769e-01  5.34815453e-02  9.06711742e-02 -4.05333117e-02\\n -1.37547433e-01 -1.44548863e-01 -7.29533657e-02  3.41080539e-02\\n -8.67667422e-03  3.60959545e-02  1.38613135e-02  2.18608275e-01\\n  1.32914171e-01  3.80691737e-02 -4.85459864e-02 -1.33652911e-02\\n -6.15161248e-02 -8.45100507e-02  1.93409234e-01 -6.98848069e-02\\n  8.48642439e-02 -4.78534820e-03 -1.77995861e-01  1.57530140e-02\\n -1.36198085e-02 -6.01403229e-02  1.20556191e-01 -2.17994805e-02\\n -4.19686548e-02 -3.10241636e-02  6.99337572e-02  1.20258786e-01]'"
      ]
     },
     "execution_count": 7,
     "metadata": {},
     "output_type": "execute_result"
    }
   ],
   "source": [
    "essays_df['average_word_embedding'][0]"
   ]
  },
  {
   "cell_type": "code",
   "execution_count": 8,
   "id": "2745b55b-7d1c-40c5-a584-3249b994e8e4",
   "metadata": {},
   "outputs": [
    {
     "data": {
      "text/plain": [
       "TEXT                      object\n",
       "cEXT                       int64\n",
       "cNEU                       int64\n",
       "cAGR                       int64\n",
       "cCON                       int64\n",
       "cOPN                       int64\n",
       "words                     object\n",
       "sentences                 object\n",
       "bigrams                   object\n",
       "trigrams                  object\n",
       "average_word_embedding    object\n",
       "dtype: object"
      ]
     },
     "execution_count": 8,
     "metadata": {},
     "output_type": "execute_result"
    }
   ],
   "source": [
    "essays_df.dtypes"
   ]
  },
  {
   "cell_type": "code",
   "execution_count": 9,
   "id": "c75557c7-a54e-4000-bd81-c1b32e0e95f4",
   "metadata": {},
   "outputs": [],
   "source": [
    "essays_df['average_word_embedding'] = essays_df['average_word_embedding'].apply(lambda x: np.array(x.strip('[]').split(), dtype=np.float32))"
   ]
  },
  {
   "cell_type": "code",
   "execution_count": 10,
   "id": "c14e96c8-520b-48bd-868d-d22f7a444e96",
   "metadata": {},
   "outputs": [
    {
     "data": {
      "text/plain": [
       "array([ 1.46904569e-02,  1.52049020e-01, -2.17639774e-01, -8.80258828e-02,\n",
       "        8.52688029e-02, -3.94371850e-03,  3.05371340e-02, -1.38843566e-01,\n",
       "        2.12251395e-02,  2.34267139e+00, -2.21488938e-01,  2.99450587e-02,\n",
       "        8.57699364e-02, -7.78461099e-02, -1.21614397e-01, -6.21049851e-02,\n",
       "       -9.72699746e-02,  1.01849878e+00, -2.24053293e-01,  1.52853094e-02,\n",
       "        6.79433942e-02, -2.74071340e-02, -6.66414527e-03, -2.15105582e-02,\n",
       "       -2.26805657e-02,  1.32163977e-02, -8.90659615e-02, -1.25395164e-01,\n",
       "        8.17105994e-02, -9.40871239e-02, -8.99455696e-02,  1.06132805e-01,\n",
       "       -3.98628935e-02,  3.39734629e-02,  5.81113137e-02, -6.27174824e-02,\n",
       "        3.11215632e-02,  5.75254969e-02, -1.10535875e-01, -7.40321204e-02,\n",
       "       -3.18962969e-02,  5.29051684e-02, -4.16491441e-02, -3.58616523e-02,\n",
       "        7.15998337e-02,  1.21486261e-01, -1.28085256e-01, -6.53345138e-02,\n",
       "        1.25525100e-02, -9.21949930e-03, -1.07100956e-01,  4.06682231e-02,\n",
       "        1.11232884e-02, -3.81595735e-03,  1.00291662e-01,  1.43503929e-02,\n",
       "       -6.57458380e-02, -1.39213547e-01,  3.55620757e-02, -3.74729112e-02,\n",
       "       -5.77162206e-02, -1.05891235e-01, -1.04954131e-01,  1.60063207e-01,\n",
       "        8.09653848e-02, -1.00833856e-01, -2.37632040e-02,  1.03057601e-01,\n",
       "        1.00850016e-01,  1.18793473e-01,  8.89686793e-02,  1.18195467e-01,\n",
       "        2.11141795e-01, -4.12410311e-02,  1.47269264e-01,  7.54521787e-02,\n",
       "        1.09506443e-01, -4.68295626e-02, -7.72465244e-02,  2.04631597e-01,\n",
       "        5.03180847e-02,  1.01719812e-01, -1.53272539e-01, -1.28280260e-02,\n",
       "        3.73462923e-02, -1.51713580e-01,  6.99214488e-02, -2.33651444e-01,\n",
       "        2.85515964e-01,  5.51237315e-02, -1.68583050e-01, -1.89756211e-02,\n",
       "       -1.00395948e-01,  6.80672824e-02,  1.14886932e-01,  4.88593131e-02,\n",
       "        8.88185352e-02, -5.21208830e-02, -2.63352953e-02,  4.90067061e-03,\n",
       "       -3.99641655e-02,  2.36756704e-03, -5.72437197e-02, -7.67386630e-02,\n",
       "        1.26729250e-01, -7.66781747e-01,  1.20753281e-01, -1.14847105e-02,\n",
       "       -2.92015653e-02, -1.51424548e-02,  4.42222394e-02, -2.25567520e-01,\n",
       "        1.35006934e-01, -8.97331834e-02,  2.49921754e-02, -5.45691773e-02,\n",
       "        1.10560367e-02, -1.15593988e-02, -4.61283177e-02, -1.80062708e-02,\n",
       "        1.44606531e-01, -7.79548809e-02,  3.45517471e-02, -4.32986207e-02,\n",
       "        1.03606530e-01,  9.42205191e-02, -5.59286475e-02, -1.32287472e-01,\n",
       "        2.25472078e-02, -1.96800232e-02, -9.93818417e-03,  1.66591927e-02,\n",
       "       -1.73794910e-01,  8.80554914e-02,  1.78241745e-01, -3.32282856e-02,\n",
       "       -2.99873599e-03, -1.58674875e-03, -4.25369442e-02, -4.32251617e-02,\n",
       "       -1.55050886e+00,  6.82110488e-02,  1.26937523e-01, -1.44091379e-02,\n",
       "        3.47262770e-02, -7.34300241e-02, -1.51911229e-01,  7.95065388e-02,\n",
       "       -3.08410041e-02, -1.06771596e-01, -2.60589160e-02,  4.41442803e-02,\n",
       "        8.79678577e-02, -2.75594424e-02, -6.09821193e-02, -7.68107623e-02,\n",
       "       -4.09257673e-02, -5.92785962e-02, -3.04670120e-03, -1.36325002e-01,\n",
       "       -2.67266203e-02,  2.03836802e-02, -4.01591174e-02, -3.82635854e-02,\n",
       "       -6.13203160e-02, -1.25283584e-01,  4.22228165e-02, -4.36421223e-02,\n",
       "        1.46498576e-01,  8.98216479e-03, -5.73826395e-02, -6.67270124e-02,\n",
       "        7.06811622e-02, -1.52594000e-01, -5.83150350e-02,  4.54425178e-02,\n",
       "       -1.00597419e-01,  4.61764261e-02, -1.14905601e-02, -3.19630206e-02,\n",
       "        3.18962894e-02, -6.58776835e-02, -1.65997908e-01, -8.68243352e-03,\n",
       "       -9.73446760e-03,  3.35722486e-03, -1.01605140e-01, -5.52005209e-02,\n",
       "        1.26357630e-01,  6.60844520e-02,  5.51203340e-02, -4.95017739e-03,\n",
       "       -1.83552444e-01, -2.49395799e-02,  5.97609207e-02,  1.41717628e-01,\n",
       "       -2.78877635e-02, -1.36027753e-01,  1.30289765e-02,  1.32526353e-01,\n",
       "       -2.37575825e-02, -7.28444904e-02, -6.44782409e-02, -3.69068049e-02,\n",
       "        1.77283600e-01,  6.61964640e-02,  2.99197622e-02, -6.43074140e-03,\n",
       "        9.33914855e-02,  1.37828430e-02, -9.22328606e-02, -5.84491603e-02,\n",
       "       -7.91524947e-02, -1.42335236e-01,  2.67284121e-02,  1.09308958e-01,\n",
       "       -7.31461048e-02, -5.11942357e-02, -1.87249497e-01,  5.14632352e-02,\n",
       "        4.21562232e-02, -1.90493502e-02, -6.20537810e-02, -2.04797904e-03,\n",
       "       -3.00127100e-02,  3.70514914e-02, -2.30509061e-02,  1.30999014e-01,\n",
       "       -1.03561897e-02, -3.14597823e-02, -1.52460143e-01,  1.16664059e-02,\n",
       "        1.35481685e-01,  1.38162747e-01,  3.05598252e-03, -1.18510790e-01,\n",
       "        8.66531022e-03, -9.01936814e-02, -1.03918985e-01,  1.47203654e-01,\n",
       "        8.71756673e-02,  5.46687357e-02, -2.57107243e-03,  2.08188280e-01,\n",
       "        1.00854769e-01, -1.94371313e-01, -1.03467278e-01, -8.63156766e-02,\n",
       "       -1.43607318e-01,  1.63794354e-01,  4.37339060e-02, -1.32644549e-01,\n",
       "       -6.81651905e-02,  6.62971474e-03,  7.27004483e-02,  1.86722547e-01,\n",
       "        4.41627502e-02, -7.40187243e-02, -8.82903039e-02,  2.79987343e-02,\n",
       "        1.10690519e-01,  1.80299327e-01,  1.05307102e-02,  8.20029899e-02,\n",
       "        1.48642436e-01, -6.79383948e-02, -6.45055994e-02,  7.57151321e-02,\n",
       "        2.81878769e-01,  5.34815453e-02,  9.06711742e-02, -4.05333117e-02,\n",
       "       -1.37547433e-01, -1.44548863e-01, -7.29533657e-02,  3.41080539e-02,\n",
       "       -8.67667422e-03,  3.60959545e-02,  1.38613135e-02,  2.18608275e-01,\n",
       "        1.32914171e-01,  3.80691737e-02, -4.85459864e-02, -1.33652911e-02,\n",
       "       -6.15161248e-02, -8.45100507e-02,  1.93409234e-01, -6.98848069e-02,\n",
       "        8.48642439e-02, -4.78534820e-03, -1.77995861e-01,  1.57530140e-02,\n",
       "       -1.36198085e-02, -6.01403229e-02,  1.20556191e-01, -2.17994805e-02,\n",
       "       -4.19686548e-02, -3.10241636e-02,  6.99337572e-02,  1.20258786e-01],\n",
       "      dtype=float32)"
      ]
     },
     "execution_count": 10,
     "metadata": {},
     "output_type": "execute_result"
    }
   ],
   "source": [
    "essays_df['average_word_embedding'][0]"
   ]
  },
  {
   "cell_type": "code",
   "execution_count": 11,
   "id": "7da01c69-0af2-44a0-94d4-3454f64911f9",
   "metadata": {},
   "outputs": [],
   "source": [
    "from sklearn.model_selection import train_test_split"
   ]
  },
  {
   "cell_type": "code",
   "execution_count": 12,
   "id": "bd0fff59-f3d7-4391-a7b7-ef9fb767f6bf",
   "metadata": {},
   "outputs": [],
   "source": [
    "prep_df = essays_df[['average_word_embedding', 'cEXT', 'cNEU', 'cAGR', 'cCON', 'cOPN']]"
   ]
  },
  {
   "cell_type": "code",
   "execution_count": 13,
   "id": "3c2ec6be-cb0f-4401-b7d4-991f16095663",
   "metadata": {},
   "outputs": [
    {
     "data": {
      "text/html": [
       "<div>\n",
       "<style scoped>\n",
       "    .dataframe tbody tr th:only-of-type {\n",
       "        vertical-align: middle;\n",
       "    }\n",
       "\n",
       "    .dataframe tbody tr th {\n",
       "        vertical-align: top;\n",
       "    }\n",
       "\n",
       "    .dataframe thead th {\n",
       "        text-align: right;\n",
       "    }\n",
       "</style>\n",
       "<table border=\"1\" class=\"dataframe\">\n",
       "  <thead>\n",
       "    <tr style=\"text-align: right;\">\n",
       "      <th></th>\n",
       "      <th>average_word_embedding</th>\n",
       "      <th>cEXT</th>\n",
       "      <th>cNEU</th>\n",
       "      <th>cAGR</th>\n",
       "      <th>cCON</th>\n",
       "      <th>cOPN</th>\n",
       "    </tr>\n",
       "  </thead>\n",
       "  <tbody>\n",
       "    <tr>\n",
       "      <th>0</th>\n",
       "      <td>[0.014690457, 0.15204902, -0.21763977, -0.0880...</td>\n",
       "      <td>0</td>\n",
       "      <td>1</td>\n",
       "      <td>1</td>\n",
       "      <td>0</td>\n",
       "      <td>1</td>\n",
       "    </tr>\n",
       "    <tr>\n",
       "      <th>1</th>\n",
       "      <td>[0.019302037, 0.20033735, -0.24701238, -0.0960...</td>\n",
       "      <td>0</td>\n",
       "      <td>0</td>\n",
       "      <td>1</td>\n",
       "      <td>0</td>\n",
       "      <td>0</td>\n",
       "    </tr>\n",
       "    <tr>\n",
       "      <th>2</th>\n",
       "      <td>[0.012168393, 0.14996043, -0.21785629, -0.0722...</td>\n",
       "      <td>0</td>\n",
       "      <td>1</td>\n",
       "      <td>0</td>\n",
       "      <td>1</td>\n",
       "      <td>1</td>\n",
       "    </tr>\n",
       "    <tr>\n",
       "      <th>3</th>\n",
       "      <td>[-0.012190075, 0.1948024, -0.20418344, -0.1039...</td>\n",
       "      <td>1</td>\n",
       "      <td>0</td>\n",
       "      <td>1</td>\n",
       "      <td>1</td>\n",
       "      <td>0</td>\n",
       "    </tr>\n",
       "    <tr>\n",
       "      <th>4</th>\n",
       "      <td>[-0.006536215, 0.17223963, -0.21274532, -0.080...</td>\n",
       "      <td>1</td>\n",
       "      <td>0</td>\n",
       "      <td>1</td>\n",
       "      <td>0</td>\n",
       "      <td>1</td>\n",
       "    </tr>\n",
       "    <tr>\n",
       "      <th>...</th>\n",
       "      <td>...</td>\n",
       "      <td>...</td>\n",
       "      <td>...</td>\n",
       "      <td>...</td>\n",
       "      <td>...</td>\n",
       "      <td>...</td>\n",
       "    </tr>\n",
       "    <tr>\n",
       "      <th>2462</th>\n",
       "      <td>[0.021462146, 0.19968559, -0.22316124, -0.0764...</td>\n",
       "      <td>0</td>\n",
       "      <td>1</td>\n",
       "      <td>0</td>\n",
       "      <td>1</td>\n",
       "      <td>0</td>\n",
       "    </tr>\n",
       "    <tr>\n",
       "      <th>2463</th>\n",
       "      <td>[-0.010568781, 0.18106191, -0.2313666, -0.1102...</td>\n",
       "      <td>1</td>\n",
       "      <td>1</td>\n",
       "      <td>0</td>\n",
       "      <td>0</td>\n",
       "      <td>1</td>\n",
       "    </tr>\n",
       "    <tr>\n",
       "      <th>2464</th>\n",
       "      <td>[-0.006983898, 0.1616632, -0.1643246, -0.01562...</td>\n",
       "      <td>0</td>\n",
       "      <td>0</td>\n",
       "      <td>1</td>\n",
       "      <td>0</td>\n",
       "      <td>0</td>\n",
       "    </tr>\n",
       "    <tr>\n",
       "      <th>2465</th>\n",
       "      <td>[-0.022540864, 0.16999334, -0.24239007, -0.081...</td>\n",
       "      <td>0</td>\n",
       "      <td>1</td>\n",
       "      <td>0</td>\n",
       "      <td>0</td>\n",
       "      <td>1</td>\n",
       "    </tr>\n",
       "    <tr>\n",
       "      <th>2466</th>\n",
       "      <td>[-0.0269053, 0.18507077, -0.23333019, -0.10882...</td>\n",
       "      <td>0</td>\n",
       "      <td>1</td>\n",
       "      <td>1</td>\n",
       "      <td>0</td>\n",
       "      <td>1</td>\n",
       "    </tr>\n",
       "  </tbody>\n",
       "</table>\n",
       "<p>2467 rows × 6 columns</p>\n",
       "</div>"
      ],
      "text/plain": [
       "                                 average_word_embedding  cEXT  cNEU  cAGR   \n",
       "0     [0.014690457, 0.15204902, -0.21763977, -0.0880...     0     1     1  \\\n",
       "1     [0.019302037, 0.20033735, -0.24701238, -0.0960...     0     0     1   \n",
       "2     [0.012168393, 0.14996043, -0.21785629, -0.0722...     0     1     0   \n",
       "3     [-0.012190075, 0.1948024, -0.20418344, -0.1039...     1     0     1   \n",
       "4     [-0.006536215, 0.17223963, -0.21274532, -0.080...     1     0     1   \n",
       "...                                                 ...   ...   ...   ...   \n",
       "2462  [0.021462146, 0.19968559, -0.22316124, -0.0764...     0     1     0   \n",
       "2463  [-0.010568781, 0.18106191, -0.2313666, -0.1102...     1     1     0   \n",
       "2464  [-0.006983898, 0.1616632, -0.1643246, -0.01562...     0     0     1   \n",
       "2465  [-0.022540864, 0.16999334, -0.24239007, -0.081...     0     1     0   \n",
       "2466  [-0.0269053, 0.18507077, -0.23333019, -0.10882...     0     1     1   \n",
       "\n",
       "      cCON  cOPN  \n",
       "0        0     1  \n",
       "1        0     0  \n",
       "2        1     1  \n",
       "3        1     0  \n",
       "4        0     1  \n",
       "...    ...   ...  \n",
       "2462     1     0  \n",
       "2463     0     1  \n",
       "2464     0     0  \n",
       "2465     0     1  \n",
       "2466     0     1  \n",
       "\n",
       "[2467 rows x 6 columns]"
      ]
     },
     "execution_count": 13,
     "metadata": {},
     "output_type": "execute_result"
    }
   ],
   "source": [
    "prep_df"
   ]
  },
  {
   "cell_type": "markdown",
   "id": "b45d0f83-c237-4c4a-89b7-f074bb691061",
   "metadata": {},
   "source": [
    "# cEXT"
   ]
  },
  {
   "cell_type": "code",
   "execution_count": 41,
   "id": "7fd416e4-505a-41d7-82f6-8b7cd8a18082",
   "metadata": {},
   "outputs": [],
   "source": [
    "trait = 'cEXT'"
   ]
  },
  {
   "cell_type": "code",
   "execution_count": 15,
   "id": "cdd6f36a-ba7a-41e0-a26e-75ea633070f7",
   "metadata": {},
   "outputs": [],
   "source": [
    "X = prep_df['average_word_embedding']\n",
    "y = prep_df[trait]\n",
    "\n",
    "X_train, X_test, y_train, y_test = train_test_split(X, y, test_size=0.2, random_state=42)\n",
    "\n",
    "train_df = pd.DataFrame({'average_word_embedding': X_train, trait: y_train})\n",
    "test_df = pd.DataFrame({'average_word_embedding': X_test, trait: y_test})"
   ]
  },
  {
   "cell_type": "code",
   "execution_count": 16,
   "id": "848c3e6b-2d09-4e91-b0bf-f04457a79f58",
   "metadata": {},
   "outputs": [
    {
     "data": {
      "text/html": [
       "<div>\n",
       "<style scoped>\n",
       "    .dataframe tbody tr th:only-of-type {\n",
       "        vertical-align: middle;\n",
       "    }\n",
       "\n",
       "    .dataframe tbody tr th {\n",
       "        vertical-align: top;\n",
       "    }\n",
       "\n",
       "    .dataframe thead th {\n",
       "        text-align: right;\n",
       "    }\n",
       "</style>\n",
       "<table border=\"1\" class=\"dataframe\">\n",
       "  <thead>\n",
       "    <tr style=\"text-align: right;\">\n",
       "      <th></th>\n",
       "      <th>average_word_embedding</th>\n",
       "      <th>cEXT</th>\n",
       "    </tr>\n",
       "  </thead>\n",
       "  <tbody>\n",
       "    <tr>\n",
       "      <th>1124</th>\n",
       "      <td>[0.0047519584, 0.19160539, -0.22515342, -0.036...</td>\n",
       "      <td>1</td>\n",
       "    </tr>\n",
       "    <tr>\n",
       "      <th>856</th>\n",
       "      <td>[-0.004163465, 0.18403755, -0.22957078, -0.086...</td>\n",
       "      <td>1</td>\n",
       "    </tr>\n",
       "    <tr>\n",
       "      <th>1807</th>\n",
       "      <td>[0.023374503, 0.17644878, -0.2189303, -0.09159...</td>\n",
       "      <td>0</td>\n",
       "    </tr>\n",
       "    <tr>\n",
       "      <th>219</th>\n",
       "      <td>[0.0041296654, 0.19335826, -0.20499475, -0.066...</td>\n",
       "      <td>1</td>\n",
       "    </tr>\n",
       "    <tr>\n",
       "      <th>445</th>\n",
       "      <td>[-0.050600443, 0.16999641, -0.21781166, -0.094...</td>\n",
       "      <td>0</td>\n",
       "    </tr>\n",
       "  </tbody>\n",
       "</table>\n",
       "</div>"
      ],
      "text/plain": [
       "                                 average_word_embedding  cEXT\n",
       "1124  [0.0047519584, 0.19160539, -0.22515342, -0.036...     1\n",
       "856   [-0.004163465, 0.18403755, -0.22957078, -0.086...     1\n",
       "1807  [0.023374503, 0.17644878, -0.2189303, -0.09159...     0\n",
       "219   [0.0041296654, 0.19335826, -0.20499475, -0.066...     1\n",
       "445   [-0.050600443, 0.16999641, -0.21781166, -0.094...     0"
      ]
     },
     "execution_count": 16,
     "metadata": {},
     "output_type": "execute_result"
    }
   ],
   "source": [
    "train_df.head()"
   ]
  },
  {
   "cell_type": "code",
   "execution_count": 17,
   "id": "bbd8bb2a-fd71-4db7-91a2-7d80f9745074",
   "metadata": {},
   "outputs": [
    {
     "data": {
      "text/html": [
       "<div>\n",
       "<style scoped>\n",
       "    .dataframe tbody tr th:only-of-type {\n",
       "        vertical-align: middle;\n",
       "    }\n",
       "\n",
       "    .dataframe tbody tr th {\n",
       "        vertical-align: top;\n",
       "    }\n",
       "\n",
       "    .dataframe thead th {\n",
       "        text-align: right;\n",
       "    }\n",
       "</style>\n",
       "<table border=\"1\" class=\"dataframe\">\n",
       "  <thead>\n",
       "    <tr style=\"text-align: right;\">\n",
       "      <th></th>\n",
       "      <th>average_word_embedding</th>\n",
       "      <th>cEXT</th>\n",
       "    </tr>\n",
       "  </thead>\n",
       "  <tbody>\n",
       "    <tr>\n",
       "      <th>1711</th>\n",
       "      <td>[-0.0051546628, 0.16568525, -0.23576146, -0.09...</td>\n",
       "      <td>0</td>\n",
       "    </tr>\n",
       "    <tr>\n",
       "      <th>1557</th>\n",
       "      <td>[0.036423888, 0.18878038, -0.21041845, -0.0526...</td>\n",
       "      <td>1</td>\n",
       "    </tr>\n",
       "    <tr>\n",
       "      <th>1870</th>\n",
       "      <td>[-0.005181362, 0.19168593, -0.21877897, -0.079...</td>\n",
       "      <td>1</td>\n",
       "    </tr>\n",
       "    <tr>\n",
       "      <th>1703</th>\n",
       "      <td>[-0.020454193, 0.22047283, -0.22707394, -0.077...</td>\n",
       "      <td>1</td>\n",
       "    </tr>\n",
       "    <tr>\n",
       "      <th>1857</th>\n",
       "      <td>[-0.00067129236, 0.18978432, -0.21113545, -0.0...</td>\n",
       "      <td>1</td>\n",
       "    </tr>\n",
       "  </tbody>\n",
       "</table>\n",
       "</div>"
      ],
      "text/plain": [
       "                                 average_word_embedding  cEXT\n",
       "1711  [-0.0051546628, 0.16568525, -0.23576146, -0.09...     0\n",
       "1557  [0.036423888, 0.18878038, -0.21041845, -0.0526...     1\n",
       "1870  [-0.005181362, 0.19168593, -0.21877897, -0.079...     1\n",
       "1703  [-0.020454193, 0.22047283, -0.22707394, -0.077...     1\n",
       "1857  [-0.00067129236, 0.18978432, -0.21113545, -0.0...     1"
      ]
     },
     "execution_count": 17,
     "metadata": {},
     "output_type": "execute_result"
    }
   ],
   "source": [
    "test_df.head()"
   ]
  },
  {
   "cell_type": "code",
   "execution_count": 32,
   "id": "7a3531a2-509b-4846-89ea-68ee23bf97d2",
   "metadata": {},
   "outputs": [],
   "source": [
    "from RNN_model import *"
   ]
  },
  {
   "cell_type": "code",
   "execution_count": 27,
   "id": "6526d7fa-eede-4399-9b7f-992e1e657279",
   "metadata": {},
   "outputs": [],
   "source": [
    "args = {\n",
    "    'epochs': 10,\n",
    "    'clip': 0.25\n",
    "}"
   ]
  },
  {
   "cell_type": "code",
   "execution_count": 28,
   "id": "6393429c-4168-4ecb-bbae-9b6067157ead",
   "metadata": {},
   "outputs": [],
   "source": [
    "baselineRunner = BaselineRunner(\n",
    "    args=args,\n",
    "    cell_type='RNN',\n",
    "    hidden_size=150,\n",
    "    num_layers=5,\n",
    "    dropout=False,\n",
    "    bidirectional=False,\n",
    "    train_df=train_df,\n",
    "    test_df=test_df,\n",
    "    trait=trait,\n",
    "    is_baseline=False\n",
    ")"
   ]
  },
  {
   "cell_type": "code",
   "execution_count": 29,
   "id": "a2ecb89f-d676-4a70-bb83-f302e12c21cd",
   "metadata": {},
   "outputs": [
    {
     "name": "stdout",
     "output_type": "stream",
     "text": [
      "Epoch: 1, Test Loss: 0.6917, Test F1-Score: 0.7017, Test Accuracy: 0.5405\n",
      "Epoch: 2, Test Loss: 0.6913, Test F1-Score: 0.7017, Test Accuracy: 0.5405\n",
      "Epoch: 3, Test Loss: 0.6897, Test F1-Score: 0.7017, Test Accuracy: 0.5405\n",
      "Epoch: 4, Test Loss: 0.6911, Test F1-Score: 0.7017, Test Accuracy: 0.5405\n",
      "Epoch: 5, Test Loss: 0.6902, Test F1-Score: 0.7017, Test Accuracy: 0.5405\n",
      "Epoch: 6, Test Loss: 0.6918, Test F1-Score: 0.7017, Test Accuracy: 0.5405\n",
      "Epoch: 7, Test Loss: 0.6928, Test F1-Score: 0.6816, Test Accuracy: 0.5405\n",
      "Epoch: 8, Test Loss: 0.6915, Test F1-Score: 0.7017, Test Accuracy: 0.5405\n",
      "Epoch: 9, Test Loss: 0.6921, Test F1-Score: 0.7017, Test Accuracy: 0.5405\n",
      "Epoch: 10, Test Loss: 0.6938, Test F1-Score: 0.5188, Test Accuracy: 0.4818\n"
     ]
    }
   ],
   "source": [
    "baselineRunner.run()"
   ]
  },
  {
   "cell_type": "markdown",
   "id": "491b8cd5-5aa4-43c7-9278-be524514ef4b",
   "metadata": {},
   "source": [
    "## not RNN"
   ]
  },
  {
   "cell_type": "code",
   "execution_count": 42,
   "id": "5694725a-065c-416b-8c83-453162f5985a",
   "metadata": {},
   "outputs": [],
   "source": [
    "baselineRunner = BaselineRunner(\n",
    "    args=args,\n",
    "    cell_type='RNN',\n",
    "    hidden_size=150,\n",
    "    num_layers=5,\n",
    "    dropout=False,\n",
    "    bidirectional=False,\n",
    "    train_df=train_df,\n",
    "    test_df=test_df,\n",
    "    trait=trait,\n",
    "    is_baseline=True\n",
    ")"
   ]
  },
  {
   "cell_type": "code",
   "execution_count": 43,
   "id": "4b768ba2-5e48-498a-8729-e0e81a3fbf67",
   "metadata": {},
   "outputs": [
    {
     "name": "stdout",
     "output_type": "stream",
     "text": [
      "Epoch: 1, Test Loss: 0.6915, Test F1-Score: 0.7017, Test Accuracy: 0.5405\n",
      "Epoch: 2, Test Loss: 0.6918, Test F1-Score: 0.7017, Test Accuracy: 0.5405\n",
      "Epoch: 3, Test Loss: 0.6919, Test F1-Score: 0.7017, Test Accuracy: 0.5405\n",
      "Epoch: 4, Test Loss: 0.6913, Test F1-Score: 0.7026, Test Accuracy: 0.5425\n",
      "Epoch: 5, Test Loss: 0.6909, Test F1-Score: 0.7036, Test Accuracy: 0.5445\n",
      "Epoch: 6, Test Loss: 0.6908, Test F1-Score: 0.7028, Test Accuracy: 0.5445\n",
      "Epoch: 7, Test Loss: 0.6907, Test F1-Score: 0.7048, Test Accuracy: 0.5506\n",
      "Epoch: 8, Test Loss: 0.6914, Test F1-Score: 0.6598, Test Accuracy: 0.5324\n",
      "Epoch: 9, Test Loss: 0.6904, Test F1-Score: 0.6896, Test Accuracy: 0.5425\n",
      "Epoch: 10, Test Loss: 0.6900, Test F1-Score: 0.6940, Test Accuracy: 0.5466\n"
     ]
    }
   ],
   "source": [
    "baselineRunner.run()"
   ]
  },
  {
   "cell_type": "markdown",
   "id": "c6ffc2f6-994c-46fb-9312-454a689ab9e7",
   "metadata": {},
   "source": [
    "# cNEU"
   ]
  },
  {
   "cell_type": "code",
   "execution_count": 44,
   "id": "6da9d91f-cb7a-42a4-8276-6eebf1d1c85c",
   "metadata": {},
   "outputs": [],
   "source": [
    "trait = 'cNEU'"
   ]
  },
  {
   "cell_type": "code",
   "execution_count": 45,
   "id": "12871d93-a099-4f28-919b-181c02ef48c3",
   "metadata": {},
   "outputs": [],
   "source": [
    "X = prep_df['average_word_embedding']\n",
    "y = prep_df[trait]\n",
    "\n",
    "X_train, X_test, y_train, y_test = train_test_split(X, y, test_size=0.2, random_state=42)\n",
    "\n",
    "train_df = pd.DataFrame({'average_word_embedding': X_train, trait: y_train})\n",
    "test_df = pd.DataFrame({'average_word_embedding': X_test, trait: y_test})"
   ]
  },
  {
   "cell_type": "code",
   "execution_count": 229,
   "id": "fe47878e-e1f6-492e-b722-bb9334b852f0",
   "metadata": {},
   "outputs": [],
   "source": [
    "baselineRunner = BaselineRunner(\n",
    "    args=args,\n",
    "    cell_type='RNN',\n",
    "    hidden_size=150,\n",
    "    num_layers=5,\n",
    "    dropout=False,\n",
    "    bidirectional=False,\n",
    "    train_df=train_df,\n",
    "    test_df=test_df,\n",
    "    trait = trait\n",
    ")"
   ]
  },
  {
   "cell_type": "code",
   "execution_count": 233,
   "id": "e4331148-7e9c-4188-b442-da8b0b530ab0",
   "metadata": {},
   "outputs": [
    {
     "name": "stdout",
     "output_type": "stream",
     "text": [
      "Epoch: 1, Test Loss: 0.6923, Test F1-Score: 0.5336, Test Accuracy: 0.5081\n",
      "Epoch: 2, Test Loss: 0.6936, Test F1-Score: 0.6372, Test Accuracy: 0.5020\n",
      "Epoch: 3, Test Loss: 0.6931, Test F1-Score: 0.1394, Test Accuracy: 0.5000\n",
      "Epoch: 4, Test Loss: 0.6939, Test F1-Score: 0.6234, Test Accuracy: 0.4717\n",
      "Epoch: 5, Test Loss: 0.6937, Test F1-Score: 0.5987, Test Accuracy: 0.4899\n",
      "Epoch: 6, Test Loss: 0.6936, Test F1-Score: 0.5828, Test Accuracy: 0.5101\n",
      "Epoch: 7, Test Loss: 0.6933, Test F1-Score: 0.6083, Test Accuracy: 0.5202\n",
      "Epoch: 8, Test Loss: 0.6915, Test F1-Score: 0.5735, Test Accuracy: 0.5304\n",
      "Epoch: 9, Test Loss: 0.6937, Test F1-Score: 0.6198, Test Accuracy: 0.4858\n",
      "Epoch: 10, Test Loss: 0.6895, Test F1-Score: 0.6227, Test Accuracy: 0.5364\n"
     ]
    }
   ],
   "source": [
    "baselineRunner.run()"
   ]
  },
  {
   "cell_type": "markdown",
   "id": "9b8e4304-f9a0-458d-982c-72fa4cb3607d",
   "metadata": {
    "tags": []
   },
   "source": [
    "## not RNN"
   ]
  },
  {
   "cell_type": "code",
   "execution_count": 46,
   "id": "1a86686e-63ce-4f07-a38f-821f27e1bda1",
   "metadata": {},
   "outputs": [],
   "source": [
    "baselineRunner = BaselineRunner(\n",
    "    args=args,\n",
    "    cell_type='RNN',\n",
    "    hidden_size=150,\n",
    "    num_layers=5,\n",
    "    dropout=False,\n",
    "    bidirectional=False,\n",
    "    train_df=train_df,\n",
    "    test_df=test_df,\n",
    "    trait=trait,\n",
    "    is_baseline=True\n",
    ")"
   ]
  },
  {
   "cell_type": "code",
   "execution_count": 48,
   "id": "18242750-4a8b-4061-8cfe-5b211ac6b5c7",
   "metadata": {},
   "outputs": [
    {
     "name": "stdout",
     "output_type": "stream",
     "text": [
      "Epoch: 1, Test Loss: 0.6934, Test F1-Score: 0.6429, Test Accuracy: 0.4737\n",
      "Epoch: 2, Test Loss: 0.6924, Test F1-Score: 0.1544, Test Accuracy: 0.5567\n",
      "Epoch: 3, Test Loss: 0.6923, Test F1-Score: 0.6040, Test Accuracy: 0.5567\n",
      "Epoch: 4, Test Loss: 0.6923, Test F1-Score: 0.6483, Test Accuracy: 0.5101\n",
      "Epoch: 5, Test Loss: 0.6953, Test F1-Score: 0.6419, Test Accuracy: 0.4737\n",
      "Epoch: 6, Test Loss: 0.6887, Test F1-Score: 0.2491, Test Accuracy: 0.5607\n",
      "Epoch: 7, Test Loss: 0.6897, Test F1-Score: 0.6171, Test Accuracy: 0.5202\n",
      "Epoch: 8, Test Loss: 0.6947, Test F1-Score: 0.6387, Test Accuracy: 0.4777\n",
      "Epoch: 9, Test Loss: 0.6844, Test F1-Score: 0.3675, Test Accuracy: 0.5749\n",
      "Epoch: 10, Test Loss: 0.6852, Test F1-Score: 0.6100, Test Accuracy: 0.5729\n"
     ]
    }
   ],
   "source": [
    "baselineRunner.run()"
   ]
  },
  {
   "cell_type": "markdown",
   "id": "1a5e92a5-3570-409f-af64-b7b4bd2ba0f6",
   "metadata": {},
   "source": [
    "# cAGR"
   ]
  },
  {
   "cell_type": "code",
   "execution_count": 49,
   "id": "c4ae879a-8401-47ca-a826-ded1fc366a2b",
   "metadata": {},
   "outputs": [],
   "source": [
    "trait = 'cAGR'"
   ]
  },
  {
   "cell_type": "code",
   "execution_count": 50,
   "id": "c71e4cd4-84cb-4256-a014-6b141d1f5185",
   "metadata": {},
   "outputs": [],
   "source": [
    "X = prep_df['average_word_embedding']\n",
    "y = prep_df[trait]\n",
    "\n",
    "X_train, X_test, y_train, y_test = train_test_split(X, y, test_size=0.2, random_state=42)\n",
    "\n",
    "train_df = pd.DataFrame({'average_word_embedding': X_train, trait: y_train})\n",
    "test_df = pd.DataFrame({'average_word_embedding': X_test, trait: y_test})"
   ]
  },
  {
   "cell_type": "code",
   "execution_count": 236,
   "id": "bdad5e96-31f0-45e1-88d3-119f886c747a",
   "metadata": {},
   "outputs": [],
   "source": [
    "baselineRunner = BaselineRunner(\n",
    "    args=args,\n",
    "    cell_type='RNN',\n",
    "    hidden_size=150,\n",
    "    num_layers=5,\n",
    "    dropout=False,\n",
    "    bidirectional=False,\n",
    "    train_df=train_df,\n",
    "    test_df=test_df,\n",
    "    trait = trait\n",
    ")"
   ]
  },
  {
   "cell_type": "code",
   "execution_count": 238,
   "id": "bdf7d89f-c73c-41e2-87cb-c5049958131d",
   "metadata": {},
   "outputs": [
    {
     "name": "stdout",
     "output_type": "stream",
     "text": [
      "Epoch: 1, Test Loss: 0.6881, Test F1-Score: 0.7135, Test Accuracy: 0.5547\n",
      "Epoch: 2, Test Loss: 0.6886, Test F1-Score: 0.7135, Test Accuracy: 0.5547\n",
      "Epoch: 3, Test Loss: 0.6884, Test F1-Score: 0.7135, Test Accuracy: 0.5547\n",
      "Epoch: 4, Test Loss: 0.6890, Test F1-Score: 0.7135, Test Accuracy: 0.5547\n",
      "Epoch: 5, Test Loss: 0.6888, Test F1-Score: 0.7135, Test Accuracy: 0.5547\n",
      "Epoch: 6, Test Loss: 0.6910, Test F1-Score: 0.7135, Test Accuracy: 0.5547\n",
      "Epoch: 7, Test Loss: 0.6884, Test F1-Score: 0.7135, Test Accuracy: 0.5547\n",
      "Epoch: 8, Test Loss: 0.6895, Test F1-Score: 0.7135, Test Accuracy: 0.5547\n",
      "Epoch: 9, Test Loss: 0.6890, Test F1-Score: 0.7135, Test Accuracy: 0.5547\n",
      "Epoch: 10, Test Loss: 0.6905, Test F1-Score: 0.7135, Test Accuracy: 0.5547\n"
     ]
    }
   ],
   "source": [
    "baselineRunner.run()"
   ]
  },
  {
   "cell_type": "markdown",
   "id": "9cc092f9-2afe-4d81-8b73-ec6b0fc46860",
   "metadata": {},
   "source": [
    "## not RNN"
   ]
  },
  {
   "cell_type": "code",
   "execution_count": 51,
   "id": "c016ed34-f21c-4288-a16a-8aa1e83b63eb",
   "metadata": {},
   "outputs": [],
   "source": [
    "baselineRunner = BaselineRunner(\n",
    "    args=args,\n",
    "    cell_type='RNN',\n",
    "    hidden_size=150,\n",
    "    num_layers=5,\n",
    "    dropout=False,\n",
    "    bidirectional=False,\n",
    "    train_df=train_df,\n",
    "    test_df=test_df,\n",
    "    trait=trait,\n",
    "    is_baseline=True\n",
    ")"
   ]
  },
  {
   "cell_type": "code",
   "execution_count": 52,
   "id": "36d22486-dd90-4a9b-b2aa-6964cf107a84",
   "metadata": {},
   "outputs": [
    {
     "name": "stdout",
     "output_type": "stream",
     "text": [
      "Epoch: 1, Test Loss: 0.6885, Test F1-Score: 0.7135, Test Accuracy: 0.5547\n",
      "Epoch: 2, Test Loss: 0.6885, Test F1-Score: 0.7135, Test Accuracy: 0.5547\n",
      "Epoch: 3, Test Loss: 0.6884, Test F1-Score: 0.7135, Test Accuracy: 0.5547\n",
      "Epoch: 4, Test Loss: 0.6888, Test F1-Score: 0.7135, Test Accuracy: 0.5547\n",
      "Epoch: 5, Test Loss: 0.6883, Test F1-Score: 0.7135, Test Accuracy: 0.5547\n",
      "Epoch: 6, Test Loss: 0.6890, Test F1-Score: 0.7135, Test Accuracy: 0.5547\n",
      "Epoch: 7, Test Loss: 0.6879, Test F1-Score: 0.7135, Test Accuracy: 0.5547\n",
      "Epoch: 8, Test Loss: 0.6891, Test F1-Score: 0.7071, Test Accuracy: 0.5506\n",
      "Epoch: 9, Test Loss: 0.6895, Test F1-Score: 0.6949, Test Accuracy: 0.5628\n",
      "Epoch: 10, Test Loss: 0.6878, Test F1-Score: 0.7012, Test Accuracy: 0.5567\n"
     ]
    }
   ],
   "source": [
    "baselineRunner.run()"
   ]
  },
  {
   "cell_type": "markdown",
   "id": "868645e2-8b62-4df1-a7e7-0207e4a00ca7",
   "metadata": {},
   "source": [
    "# cCON"
   ]
  },
  {
   "cell_type": "code",
   "execution_count": 53,
   "id": "dfd6c038-3620-4e43-a5e7-37ceeeffa43e",
   "metadata": {},
   "outputs": [],
   "source": [
    "trait = 'cCON'"
   ]
  },
  {
   "cell_type": "code",
   "execution_count": 54,
   "id": "9162697c-e5e6-47cf-9605-7a4fa88b729f",
   "metadata": {},
   "outputs": [],
   "source": [
    "X = prep_df['average_word_embedding']\n",
    "y = prep_df[trait]\n",
    "\n",
    "X_train, X_test, y_train, y_test = train_test_split(X, y, test_size=0.2, random_state=42)\n",
    "\n",
    "train_df = pd.DataFrame({'average_word_embedding': X_train, trait: y_train})\n",
    "test_df = pd.DataFrame({'average_word_embedding': X_test, trait: y_test})"
   ]
  },
  {
   "cell_type": "code",
   "execution_count": 241,
   "id": "611ac8bb-7816-4393-8f4d-faeec2d15c7e",
   "metadata": {},
   "outputs": [],
   "source": [
    "baselineRunner = BaselineRunner(\n",
    "    args=args,\n",
    "    cell_type='RNN',\n",
    "    hidden_size=150,\n",
    "    num_layers=5,\n",
    "    dropout=False,\n",
    "    bidirectional=False,\n",
    "    train_df=train_df,\n",
    "    test_df=test_df,\n",
    "    trait = trait\n",
    ")"
   ]
  },
  {
   "cell_type": "code",
   "execution_count": 243,
   "id": "fe6050bb-6dba-483c-9bb2-5a62cddfcaa1",
   "metadata": {},
   "outputs": [
    {
     "name": "stdout",
     "output_type": "stream",
     "text": [
      "Epoch: 1, Test Loss: 0.6924, Test F1-Score: 0.6807, Test Accuracy: 0.5405\n",
      "Epoch: 2, Test Loss: 0.6935, Test F1-Score: 0.3127, Test Accuracy: 0.4838\n",
      "Epoch: 3, Test Loss: 0.6945, Test F1-Score: 0.2833, Test Accuracy: 0.4879\n",
      "Epoch: 4, Test Loss: 0.6926, Test F1-Score: 0.5835, Test Accuracy: 0.5202\n",
      "Epoch: 5, Test Loss: 0.6920, Test F1-Score: 0.6023, Test Accuracy: 0.5081\n",
      "Epoch: 6, Test Loss: 0.6914, Test F1-Score: 0.6549, Test Accuracy: 0.5243\n",
      "Epoch: 7, Test Loss: 0.6915, Test F1-Score: 0.4292, Test Accuracy: 0.5101\n",
      "Epoch: 8, Test Loss: 0.6858, Test F1-Score: 0.6391, Test Accuracy: 0.5587\n",
      "Epoch: 9, Test Loss: 0.6800, Test F1-Score: 0.6580, Test Accuracy: 0.5749\n",
      "Epoch: 10, Test Loss: 0.6806, Test F1-Score: 0.5935, Test Accuracy: 0.5951\n"
     ]
    }
   ],
   "source": [
    "baselineRunner.run()"
   ]
  },
  {
   "cell_type": "markdown",
   "id": "8a1ccf49-8575-42be-b16d-1c0c4aa5c350",
   "metadata": {},
   "source": [
    "## not RNN"
   ]
  },
  {
   "cell_type": "code",
   "execution_count": 55,
   "id": "7c8fb76b-f2e5-45cd-ba7f-a4bc5556f0f1",
   "metadata": {},
   "outputs": [],
   "source": [
    "baselineRunner = BaselineRunner(\n",
    "    args=args,\n",
    "    cell_type='RNN',\n",
    "    hidden_size=150,\n",
    "    num_layers=5,\n",
    "    dropout=False,\n",
    "    bidirectional=False,\n",
    "    train_df=train_df,\n",
    "    test_df=test_df,\n",
    "    trait=trait,\n",
    "    is_baseline=True\n",
    ")"
   ]
  },
  {
   "cell_type": "code",
   "execution_count": 57,
   "id": "83f72358-e745-4021-8418-99e11fa27ea4",
   "metadata": {},
   "outputs": [
    {
     "name": "stdout",
     "output_type": "stream",
     "text": [
      "Epoch: 1, Test Loss: 0.6928, Test F1-Score: 0.6079, Test Accuracy: 0.5405\n",
      "Epoch: 2, Test Loss: 0.6937, Test F1-Score: 0.0000, Test Accuracy: 0.4595\n",
      "Epoch: 3, Test Loss: 0.6918, Test F1-Score: 0.6774, Test Accuracy: 0.5547\n",
      "Epoch: 4, Test Loss: 0.6918, Test F1-Score: 0.5678, Test Accuracy: 0.5810\n",
      "Epoch: 5, Test Loss: 0.6898, Test F1-Score: 0.7060, Test Accuracy: 0.5668\n",
      "Epoch: 6, Test Loss: 0.6949, Test F1-Score: 0.0220, Test Accuracy: 0.4595\n",
      "Epoch: 7, Test Loss: 0.6915, Test F1-Score: 0.2997, Test Accuracy: 0.5081\n",
      "Epoch: 8, Test Loss: 0.6915, Test F1-Score: 0.2765, Test Accuracy: 0.5020\n",
      "Epoch: 9, Test Loss: 0.6849, Test F1-Score: 0.6546, Test Accuracy: 0.5749\n",
      "Epoch: 10, Test Loss: 0.6833, Test F1-Score: 0.6545, Test Accuracy: 0.5769\n"
     ]
    }
   ],
   "source": [
    "baselineRunner.run()"
   ]
  },
  {
   "cell_type": "markdown",
   "id": "225f7d7b-995e-4244-b82d-c89eb60d1f84",
   "metadata": {},
   "source": [
    "# cOPN"
   ]
  },
  {
   "cell_type": "code",
   "execution_count": 58,
   "id": "7108d4f7-e249-4171-9aeb-7852636102a7",
   "metadata": {},
   "outputs": [],
   "source": [
    "trait = 'cOPN'"
   ]
  },
  {
   "cell_type": "code",
   "execution_count": 59,
   "id": "979c1b59-d40c-4538-bb19-91886a613bc7",
   "metadata": {},
   "outputs": [],
   "source": [
    "X = prep_df['average_word_embedding']\n",
    "y = prep_df[trait]\n",
    "\n",
    "X_train, X_test, y_train, y_test = train_test_split(X, y, test_size=0.2, random_state=42)\n",
    "\n",
    "train_df = pd.DataFrame({'average_word_embedding': X_train, trait: y_train})\n",
    "test_df = pd.DataFrame({'average_word_embedding': X_test, trait: y_test})"
   ]
  },
  {
   "cell_type": "code",
   "execution_count": 246,
   "id": "6429e819-b239-4827-912f-35288b9be8ef",
   "metadata": {},
   "outputs": [],
   "source": [
    "baselineRunner = BaselineRunner(\n",
    "    args=args,\n",
    "    cell_type='RNN',\n",
    "    hidden_size=150,\n",
    "    num_layers=5,\n",
    "    dropout=False,\n",
    "    bidirectional=False,\n",
    "    train_df=train_df,\n",
    "    test_df=test_df,\n",
    "    trait = trait\n",
    ")"
   ]
  },
  {
   "cell_type": "code",
   "execution_count": 249,
   "id": "9a85a97e-da15-4aee-9440-9d27b7872dce",
   "metadata": {},
   "outputs": [
    {
     "name": "stdout",
     "output_type": "stream",
     "text": [
      "Epoch: 1, Test Loss: 0.6923, Test F1-Score: 0.6648, Test Accuracy: 0.5243\n",
      "Epoch: 2, Test Loss: 0.6928, Test F1-Score: 0.6844, Test Accuracy: 0.5202\n",
      "Epoch: 3, Test Loss: 0.6916, Test F1-Score: 0.6829, Test Accuracy: 0.5526\n",
      "Epoch: 4, Test Loss: 0.6913, Test F1-Score: 0.6283, Test Accuracy: 0.5425\n",
      "Epoch: 5, Test Loss: 0.6797, Test F1-Score: 0.6644, Test Accuracy: 0.5931\n",
      "Epoch: 6, Test Loss: 0.6737, Test F1-Score: 0.5171, Test Accuracy: 0.5992\n",
      "Epoch: 7, Test Loss: 0.6555, Test F1-Score: 0.6397, Test Accuracy: 0.6032\n",
      "Epoch: 8, Test Loss: 0.6568, Test F1-Score: 0.6497, Test Accuracy: 0.6093\n",
      "Epoch: 9, Test Loss: 0.6593, Test F1-Score: 0.5920, Test Accuracy: 0.6093\n",
      "Epoch: 10, Test Loss: 0.6608, Test F1-Score: 0.6082, Test Accuracy: 0.5931\n"
     ]
    }
   ],
   "source": [
    "baselineRunner.run()"
   ]
  },
  {
   "cell_type": "markdown",
   "id": "4372d408-aad0-4658-8c78-39ee93b8b72b",
   "metadata": {},
   "source": [
    "## not RNN"
   ]
  },
  {
   "cell_type": "code",
   "execution_count": 60,
   "id": "e9880489-ac75-4236-99bd-161712c44860",
   "metadata": {},
   "outputs": [],
   "source": [
    "baselineRunner = BaselineRunner(\n",
    "    args=args,\n",
    "    cell_type='RNN',\n",
    "    hidden_size=150,\n",
    "    num_layers=5,\n",
    "    dropout=False,\n",
    "    bidirectional=False,\n",
    "    train_df=train_df,\n",
    "    test_df=test_df,\n",
    "    trait=trait,\n",
    "    is_baseline=True\n",
    ")"
   ]
  },
  {
   "cell_type": "code",
   "execution_count": 63,
   "id": "6d6ac88c-5603-49e8-8315-41d942d0b671",
   "metadata": {},
   "outputs": [
    {
     "name": "stdout",
     "output_type": "stream",
     "text": [
      "Epoch: 1, Test Loss: 0.6922, Test F1-Score: 0.6923, Test Accuracy: 0.5466\n",
      "Epoch: 2, Test Loss: 0.6905, Test F1-Score: 0.6862, Test Accuracy: 0.5243\n",
      "Epoch: 3, Test Loss: 0.6885, Test F1-Score: 0.6844, Test Accuracy: 0.5202\n",
      "Epoch: 4, Test Loss: 0.6850, Test F1-Score: 0.6708, Test Accuracy: 0.5729\n",
      "Epoch: 5, Test Loss: 0.6821, Test F1-Score: 0.6896, Test Accuracy: 0.5425\n",
      "Epoch: 6, Test Loss: 0.6755, Test F1-Score: 0.6302, Test Accuracy: 0.6032\n",
      "Epoch: 7, Test Loss: 0.6718, Test F1-Score: 0.6735, Test Accuracy: 0.5506\n",
      "Epoch: 8, Test Loss: 0.6657, Test F1-Score: 0.6720, Test Accuracy: 0.5850\n",
      "Epoch: 9, Test Loss: 0.6635, Test F1-Score: 0.5739, Test Accuracy: 0.5972\n",
      "Epoch: 10, Test Loss: 0.6625, Test F1-Score: 0.6710, Test Accuracy: 0.5891\n"
     ]
    }
   ],
   "source": [
    "baselineRunner.run()"
   ]
  },
  {
   "cell_type": "code",
   "execution_count": null,
   "id": "66cae11d-8310-4738-9021-072c8d4645e1",
   "metadata": {},
   "outputs": [],
   "source": []
  }
 ],
 "metadata": {
  "kernelspec": {
   "display_name": "Python 3 (ipykernel)",
   "language": "python",
   "name": "python3"
  },
  "language_info": {
   "codemirror_mode": {
    "name": "ipython",
    "version": 3
   },
   "file_extension": ".py",
   "mimetype": "text/x-python",
   "name": "python",
   "nbconvert_exporter": "python",
   "pygments_lexer": "ipython3",
   "version": "3.10.10"
  }
 },
 "nbformat": 4,
 "nbformat_minor": 5
}
