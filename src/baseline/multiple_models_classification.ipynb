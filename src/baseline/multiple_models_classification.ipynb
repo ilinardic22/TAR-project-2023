{
 "cells": [
  {
   "cell_type": "markdown",
   "source": [
    "# Multiple model classification of personality types"
   ],
   "metadata": {
    "collapsed": false
   }
  },
  {
   "cell_type": "code",
   "execution_count": 19,
   "metadata": {
    "collapsed": true
   },
   "outputs": [],
   "source": [
    "from sklearn.feature_extraction.text import CountVectorizer, TfidfVectorizer\n",
    "from sklearn.linear_model import LogisticRegression as LR\n",
    "import pandas as pd\n",
    "from functools import partial\n",
    "import re\n",
    "import spacy\n",
    "from itertools import tee\n",
    "from sklearn.model_selection import train_test_split"
   ]
  },
  {
   "cell_type": "code",
   "execution_count": 20,
   "outputs": [],
   "source": [
    "#Load spacy model\n",
    "nlp = spacy.load(\"en_core_web_sm\")"
   ],
   "metadata": {
    "collapsed": false
   }
  },
  {
   "cell_type": "code",
   "execution_count": 21,
   "outputs": [],
   "source": [
    "#Import data\n",
    "df = pd.read_csv('../../data/essays - essays.csv')"
   ],
   "metadata": {
    "collapsed": false
   }
  },
  {
   "cell_type": "code",
   "execution_count": 22,
   "outputs": [
    {
     "data": {
      "text/plain": "           #AUTHID                                               TEXT cEXT   \n0  1997_504851.txt  Well, right now I just woke up from a mid-day ...    n  \\\n1  1997_605191.txt  Well, here we go with the stream of consciousn...    n   \n2  1997_687252.txt  An open keyboard and buttons to push. The thin...    n   \n3  1997_568848.txt  I can't believe it!  It's really happening!  M...    y   \n4  1997_688160.txt  Well, here I go with the good old stream of co...    y   \n\n  cNEU cAGR cCON cOPN  \n0    y    y    n    y  \n1    n    y    n    n  \n2    y    n    y    y  \n3    n    y    y    n  \n4    n    y    n    y  ",
      "text/html": "<div>\n<style scoped>\n    .dataframe tbody tr th:only-of-type {\n        vertical-align: middle;\n    }\n\n    .dataframe tbody tr th {\n        vertical-align: top;\n    }\n\n    .dataframe thead th {\n        text-align: right;\n    }\n</style>\n<table border=\"1\" class=\"dataframe\">\n  <thead>\n    <tr style=\"text-align: right;\">\n      <th></th>\n      <th>#AUTHID</th>\n      <th>TEXT</th>\n      <th>cEXT</th>\n      <th>cNEU</th>\n      <th>cAGR</th>\n      <th>cCON</th>\n      <th>cOPN</th>\n    </tr>\n  </thead>\n  <tbody>\n    <tr>\n      <th>0</th>\n      <td>1997_504851.txt</td>\n      <td>Well, right now I just woke up from a mid-day ...</td>\n      <td>n</td>\n      <td>y</td>\n      <td>y</td>\n      <td>n</td>\n      <td>y</td>\n    </tr>\n    <tr>\n      <th>1</th>\n      <td>1997_605191.txt</td>\n      <td>Well, here we go with the stream of consciousn...</td>\n      <td>n</td>\n      <td>n</td>\n      <td>y</td>\n      <td>n</td>\n      <td>n</td>\n    </tr>\n    <tr>\n      <th>2</th>\n      <td>1997_687252.txt</td>\n      <td>An open keyboard and buttons to push. The thin...</td>\n      <td>n</td>\n      <td>y</td>\n      <td>n</td>\n      <td>y</td>\n      <td>y</td>\n    </tr>\n    <tr>\n      <th>3</th>\n      <td>1997_568848.txt</td>\n      <td>I can't believe it!  It's really happening!  M...</td>\n      <td>y</td>\n      <td>n</td>\n      <td>y</td>\n      <td>y</td>\n      <td>n</td>\n    </tr>\n    <tr>\n      <th>4</th>\n      <td>1997_688160.txt</td>\n      <td>Well, here I go with the good old stream of co...</td>\n      <td>y</td>\n      <td>n</td>\n      <td>y</td>\n      <td>n</td>\n      <td>y</td>\n    </tr>\n  </tbody>\n</table>\n</div>"
     },
     "execution_count": 22,
     "metadata": {},
     "output_type": "execute_result"
    }
   ],
   "source": [
    "df.head()"
   ],
   "metadata": {
    "collapsed": false
   }
  },
  {
   "cell_type": "code",
   "execution_count": 23,
   "outputs": [
    {
     "data": {
      "text/plain": "           #AUTHID                                               TEXT  cEXT   \n0  1997_504851.txt  Well, right now I just woke up from a mid-day ...     0  \\\n1  1997_605191.txt  Well, here we go with the stream of consciousn...     0   \n2  1997_687252.txt  An open keyboard and buttons to push. The thin...     0   \n3  1997_568848.txt  I can't believe it!  It's really happening!  M...     1   \n4  1997_688160.txt  Well, here I go with the good old stream of co...     1   \n\n   cNEU  cAGR  cCON  cOPN  \n0     1     1     0     1  \n1     0     1     0     0  \n2     1     0     1     1  \n3     0     1     1     0  \n4     0     1     0     1  ",
      "text/html": "<div>\n<style scoped>\n    .dataframe tbody tr th:only-of-type {\n        vertical-align: middle;\n    }\n\n    .dataframe tbody tr th {\n        vertical-align: top;\n    }\n\n    .dataframe thead th {\n        text-align: right;\n    }\n</style>\n<table border=\"1\" class=\"dataframe\">\n  <thead>\n    <tr style=\"text-align: right;\">\n      <th></th>\n      <th>#AUTHID</th>\n      <th>TEXT</th>\n      <th>cEXT</th>\n      <th>cNEU</th>\n      <th>cAGR</th>\n      <th>cCON</th>\n      <th>cOPN</th>\n    </tr>\n  </thead>\n  <tbody>\n    <tr>\n      <th>0</th>\n      <td>1997_504851.txt</td>\n      <td>Well, right now I just woke up from a mid-day ...</td>\n      <td>0</td>\n      <td>1</td>\n      <td>1</td>\n      <td>0</td>\n      <td>1</td>\n    </tr>\n    <tr>\n      <th>1</th>\n      <td>1997_605191.txt</td>\n      <td>Well, here we go with the stream of consciousn...</td>\n      <td>0</td>\n      <td>0</td>\n      <td>1</td>\n      <td>0</td>\n      <td>0</td>\n    </tr>\n    <tr>\n      <th>2</th>\n      <td>1997_687252.txt</td>\n      <td>An open keyboard and buttons to push. The thin...</td>\n      <td>0</td>\n      <td>1</td>\n      <td>0</td>\n      <td>1</td>\n      <td>1</td>\n    </tr>\n    <tr>\n      <th>3</th>\n      <td>1997_568848.txt</td>\n      <td>I can't believe it!  It's really happening!  M...</td>\n      <td>1</td>\n      <td>0</td>\n      <td>1</td>\n      <td>1</td>\n      <td>0</td>\n    </tr>\n    <tr>\n      <th>4</th>\n      <td>1997_688160.txt</td>\n      <td>Well, here I go with the good old stream of co...</td>\n      <td>1</td>\n      <td>0</td>\n      <td>1</td>\n      <td>0</td>\n      <td>1</td>\n    </tr>\n  </tbody>\n</table>\n</div>"
     },
     "execution_count": 23,
     "metadata": {},
     "output_type": "execute_result"
    }
   ],
   "source": [
    "#Replace string representations of target variables to boolean\n",
    "df['cEXT'] = df['cEXT'].map({'n': 0, 'y': 1})\n",
    "df['cNEU'] = df['cNEU'].map({'n': 0, 'y': 1})\n",
    "df['cAGR'] = df['cAGR'].map({'n': 0, 'y': 1})\n",
    "df['cCON'] = df['cCON'].map({'n': 0, 'y': 1})\n",
    "df['cOPN'] = df['cOPN'].map({'n': 0, 'y': 1})\n",
    "df.head()"
   ],
   "metadata": {
    "collapsed": false
   }
  },
  {
   "cell_type": "markdown",
   "source": [
    "### Sentiment represenatation of text\n",
    "\n",
    "For sentiment analysis of given essays Vader library is used. This library gives each word in text a score depending on if it is considered positive or negative. Final score is given as a normalized sum."
   ],
   "metadata": {
    "collapsed": false
   }
  },
  {
   "cell_type": "code",
   "execution_count": 24,
   "outputs": [
    {
     "name": "stderr",
     "output_type": "stream",
     "text": [
      "[nltk_data] Downloading package vader_lexicon to\n",
      "[nltk_data]     C:\\Users\\ilinardic\\AppData\\Roaming\\nltk_data...\n",
      "[nltk_data]   Package vader_lexicon is already up-to-date!\n"
     ]
    },
    {
     "data": {
      "text/plain": "True"
     },
     "execution_count": 24,
     "metadata": {},
     "output_type": "execute_result"
    }
   ],
   "source": [
    "import nltk\n",
    "from nltk.sentiment.vader import SentimentIntensityAnalyzer\n",
    "nltk.download('vader_lexicon')"
   ],
   "metadata": {
    "collapsed": false
   }
  },
  {
   "cell_type": "code",
   "execution_count": 25,
   "outputs": [],
   "source": [
    "sid = SentimentIntensityAnalyzer()\n",
    "vader=lambda x: sid.polarity_scores(x)['compound']\n",
    "\n",
    "df['vader_review'] = df['TEXT'].apply(vader)"
   ],
   "metadata": {
    "collapsed": false
   }
  },
  {
   "cell_type": "code",
   "execution_count": 26,
   "outputs": [
    {
     "data": {
      "text/plain": "           #AUTHID                                               TEXT  cEXT   \n0  1997_504851.txt  Well, right now I just woke up from a mid-day ...     0  \\\n1  1997_605191.txt  Well, here we go with the stream of consciousn...     0   \n2  1997_687252.txt  An open keyboard and buttons to push. The thin...     0   \n3  1997_568848.txt  I can't believe it!  It's really happening!  M...     1   \n4  1997_688160.txt  Well, here I go with the good old stream of co...     1   \n\n   cNEU  cAGR  cCON  cOPN  vader_review  \n0     1     1     0     1        0.9982  \n1     0     1     0     0        0.9978  \n2     1     0     1     1        0.9659  \n3     0     1     1     0        0.9961  \n4     0     1     0     1        0.9896  ",
      "text/html": "<div>\n<style scoped>\n    .dataframe tbody tr th:only-of-type {\n        vertical-align: middle;\n    }\n\n    .dataframe tbody tr th {\n        vertical-align: top;\n    }\n\n    .dataframe thead th {\n        text-align: right;\n    }\n</style>\n<table border=\"1\" class=\"dataframe\">\n  <thead>\n    <tr style=\"text-align: right;\">\n      <th></th>\n      <th>#AUTHID</th>\n      <th>TEXT</th>\n      <th>cEXT</th>\n      <th>cNEU</th>\n      <th>cAGR</th>\n      <th>cCON</th>\n      <th>cOPN</th>\n      <th>vader_review</th>\n    </tr>\n  </thead>\n  <tbody>\n    <tr>\n      <th>0</th>\n      <td>1997_504851.txt</td>\n      <td>Well, right now I just woke up from a mid-day ...</td>\n      <td>0</td>\n      <td>1</td>\n      <td>1</td>\n      <td>0</td>\n      <td>1</td>\n      <td>0.9982</td>\n    </tr>\n    <tr>\n      <th>1</th>\n      <td>1997_605191.txt</td>\n      <td>Well, here we go with the stream of consciousn...</td>\n      <td>0</td>\n      <td>0</td>\n      <td>1</td>\n      <td>0</td>\n      <td>0</td>\n      <td>0.9978</td>\n    </tr>\n    <tr>\n      <th>2</th>\n      <td>1997_687252.txt</td>\n      <td>An open keyboard and buttons to push. The thin...</td>\n      <td>0</td>\n      <td>1</td>\n      <td>0</td>\n      <td>1</td>\n      <td>1</td>\n      <td>0.9659</td>\n    </tr>\n    <tr>\n      <th>3</th>\n      <td>1997_568848.txt</td>\n      <td>I can't believe it!  It's really happening!  M...</td>\n      <td>1</td>\n      <td>0</td>\n      <td>1</td>\n      <td>1</td>\n      <td>0</td>\n      <td>0.9961</td>\n    </tr>\n    <tr>\n      <th>4</th>\n      <td>1997_688160.txt</td>\n      <td>Well, here I go with the good old stream of co...</td>\n      <td>1</td>\n      <td>0</td>\n      <td>1</td>\n      <td>0</td>\n      <td>1</td>\n      <td>0.9896</td>\n    </tr>\n  </tbody>\n</table>\n</div>"
     },
     "execution_count": 26,
     "metadata": {},
     "output_type": "execute_result"
    }
   ],
   "source": [
    "df.head()"
   ],
   "metadata": {
    "collapsed": false
   }
  },
  {
   "cell_type": "markdown",
   "source": [
    "### Text preprocessing"
   ],
   "metadata": {
    "collapsed": false
   }
  },
  {
   "cell_type": "code",
   "execution_count": 27,
   "outputs": [],
   "source": [
    "def lemmatizer(text):\n",
    "    \"\"\"\n",
    "    Receives a string as an input and lemmatizes it.\n",
    "    The lemmas are returned in a list.\n",
    "    \"\"\"\n",
    "    lemmas = nlp(text)\n",
    "    return [token.lemma_ for token in lemmas]\n",
    "\n",
    "\n",
    "def ngrams(sequence, n, **kwargs):\n",
    "    \"\"\"\n",
    "    Receives a list of tokens and generates n-grams.\n",
    "    \"\"\"\n",
    "    seq_len = len(sequence)\n",
    "    num_of_ngrams = seq_len-n+1\n",
    "    iti = iter(sequence)\n",
    "    it = tee(iti, num_of_ngrams)\n",
    "    tuple_list = []\n",
    "    for i in range(num_of_ngrams):  #iterate over iterators\n",
    "        list_to_create_tuple = []\n",
    "        for j, w in enumerate(it[i]):   #iterate over iterator to create a touple\n",
    "            if i+n > seq_len or j >= i+n:\n",
    "                break\n",
    "            if j >= i:\n",
    "                list_to_create_tuple.append(w)\n",
    "        tuple_list.append(tuple(list_to_create_tuple))\n",
    "\n",
    "    return tuple_list\n",
    "\n",
    "\n",
    "def clean_text(text):\n",
    "    \"\"\"\n",
    "    Replaces all whitespaces with single spaces.\n",
    "    Returns preprocessed text.\n",
    "    \"\"\"\n",
    "    return re.sub(r'\\s+', ' ', text)\n",
    "\n",
    "\n"
   ],
   "metadata": {
    "collapsed": false
   }
  },
  {
   "cell_type": "code",
   "execution_count": 28,
   "outputs": [],
   "source": [
    "stop_words = nlp.Defaults.stop_words\n",
    "\n",
    "def lemmatize_pipe(doc, max_len, ngram_min, ngram_max):\n",
    "    \"\"\"\n",
    "    Removes stopword, truncates the document to `max_len` tokens,\n",
    "    and returns lemma n-grams in range [`ngram_min`, `ngram_max`].\n",
    "    \"\"\"\n",
    "    doc_without_sw = [token for token in doc if not token.text.lower() in stop_words]\n",
    "    doc_without_sw_trunc = doc_without_sw[:max_len]\n",
    "    result_list = []\n",
    "    for n in range(ngram_min,ngram_max+1):\n",
    "        result_list = result_list + ngrams([token.lemma_ for token in doc_without_sw_trunc], n)\n",
    "\n",
    "    return result_list\n",
    "\n",
    "\n",
    "def preprocess_pipe(texts, pipe_fn):\n",
    "    processed_list = []\n",
    "    for doc in nlp.pipe(texts):\n",
    "        processed_list.append(pipe_fn(doc))\n",
    "    return processed_list"
   ],
   "metadata": {
    "collapsed": false
   }
  },
  {
   "cell_type": "code",
   "execution_count": 29,
   "outputs": [],
   "source": [
    "pipe_fn = partial(lemmatize_pipe, max_len=100, ngram_min=1, ngram_max=2)"
   ],
   "metadata": {
    "collapsed": false
   }
  },
  {
   "cell_type": "code",
   "execution_count": 30,
   "outputs": [],
   "source": [
    "pipe_fn = partial(lemmatize_pipe, max_len=100, ngram_min=3, ngram_max=3)"
   ],
   "metadata": {
    "collapsed": false
   }
  },
  {
   "cell_type": "code",
   "execution_count": 31,
   "outputs": [],
   "source": [
    "df['lemmas'] = preprocess_pipe(df.TEXT, pipe_fn)"
   ],
   "metadata": {
    "collapsed": false
   }
  },
  {
   "cell_type": "code",
   "execution_count": 32,
   "outputs": [
    {
     "data": {
      "text/plain": "           #AUTHID                                               TEXT  cEXT   \n0  1997_504851.txt  Well, right now I just woke up from a mid-day ...     0  \\\n1  1997_605191.txt  Well, here we go with the stream of consciousn...     0   \n2  1997_687252.txt  An open keyboard and buttons to push. The thin...     0   \n3  1997_568848.txt  I can't believe it!  It's really happening!  M...     1   \n4  1997_688160.txt  Well, here I go with the good old stream of co...     1   \n\n   cNEU  cAGR  cCON  cOPN  vader_review   \n0     1     1     0     1        0.9982  \\\n1     0     1     0     0        0.9978   \n2     1     0     1     1        0.9659   \n3     0     1     1     0        0.9961   \n4     0     1     0     1        0.9896   \n\n                                              lemmas  \n0  [(,, right, wake), (right, wake, mid), (wake, ...  \n1  [(,, stream, consciousness), (stream, consciou...  \n2  [(open, keyboard, button), (keyboard, button, ...  \n3  [(believe, !,  ), (!,  , happen), ( , happen, ...  \n4  [(,, good, old), (good, old, stream), (old, st...  ",
      "text/html": "<div>\n<style scoped>\n    .dataframe tbody tr th:only-of-type {\n        vertical-align: middle;\n    }\n\n    .dataframe tbody tr th {\n        vertical-align: top;\n    }\n\n    .dataframe thead th {\n        text-align: right;\n    }\n</style>\n<table border=\"1\" class=\"dataframe\">\n  <thead>\n    <tr style=\"text-align: right;\">\n      <th></th>\n      <th>#AUTHID</th>\n      <th>TEXT</th>\n      <th>cEXT</th>\n      <th>cNEU</th>\n      <th>cAGR</th>\n      <th>cCON</th>\n      <th>cOPN</th>\n      <th>vader_review</th>\n      <th>lemmas</th>\n    </tr>\n  </thead>\n  <tbody>\n    <tr>\n      <th>0</th>\n      <td>1997_504851.txt</td>\n      <td>Well, right now I just woke up from a mid-day ...</td>\n      <td>0</td>\n      <td>1</td>\n      <td>1</td>\n      <td>0</td>\n      <td>1</td>\n      <td>0.9982</td>\n      <td>[(,, right, wake), (right, wake, mid), (wake, ...</td>\n    </tr>\n    <tr>\n      <th>1</th>\n      <td>1997_605191.txt</td>\n      <td>Well, here we go with the stream of consciousn...</td>\n      <td>0</td>\n      <td>0</td>\n      <td>1</td>\n      <td>0</td>\n      <td>0</td>\n      <td>0.9978</td>\n      <td>[(,, stream, consciousness), (stream, consciou...</td>\n    </tr>\n    <tr>\n      <th>2</th>\n      <td>1997_687252.txt</td>\n      <td>An open keyboard and buttons to push. The thin...</td>\n      <td>0</td>\n      <td>1</td>\n      <td>0</td>\n      <td>1</td>\n      <td>1</td>\n      <td>0.9659</td>\n      <td>[(open, keyboard, button), (keyboard, button, ...</td>\n    </tr>\n    <tr>\n      <th>3</th>\n      <td>1997_568848.txt</td>\n      <td>I can't believe it!  It's really happening!  M...</td>\n      <td>1</td>\n      <td>0</td>\n      <td>1</td>\n      <td>1</td>\n      <td>0</td>\n      <td>0.9961</td>\n      <td>[(believe, !,  ), (!,  , happen), ( , happen, ...</td>\n    </tr>\n    <tr>\n      <th>4</th>\n      <td>1997_688160.txt</td>\n      <td>Well, here I go with the good old stream of co...</td>\n      <td>1</td>\n      <td>0</td>\n      <td>1</td>\n      <td>0</td>\n      <td>1</td>\n      <td>0.9896</td>\n      <td>[(,, good, old), (good, old, stream), (old, st...</td>\n    </tr>\n  </tbody>\n</table>\n</div>"
     },
     "execution_count": 32,
     "metadata": {},
     "output_type": "execute_result"
    }
   ],
   "source": [
    "df.head()"
   ],
   "metadata": {
    "collapsed": false
   }
  },
  {
   "cell_type": "code",
   "execution_count": 38,
   "outputs": [],
   "source": [
    "df_train_ext, df_test_ext = train_test_split(\n",
    "    df[[\"lemmas\", \"vader_review\", \"cEXT\"]], test_size=0.2, random_state=42\n",
    ")\n",
    "df_train_neu, df_test_neu = train_test_split(\n",
    "    df[[\"lemmas\", \"vader_review\", \"cNEU\"]], test_size=0.2, random_state=42\n",
    ")\n",
    "df_train_agr, df_test_agr = train_test_split(\n",
    "    df[[\"lemmas\", \"vader_review\", \"cAGR\"]], test_size=0.2, random_state=42\n",
    ")\n",
    "df_train_con, df_test_con = train_test_split(\n",
    "    df[[\"lemmas\", \"vader_review\", \"cCON\"]], test_size=0.2, random_state=42\n",
    ")\n",
    "df_train_opn, df_test_opn = train_test_split(\n",
    "    df[[\"lemmas\", \"vader_review\", \"cOPN\"]], test_size=0.2, random_state=42\n",
    ")"
   ],
   "metadata": {
    "collapsed": false
   }
  },
  {
   "cell_type": "code",
   "execution_count": 39,
   "outputs": [],
   "source": [
    "# Load vectorizers\n",
    "count_vectorizer = CountVectorizer(tokenizer=lambda doc: doc, lowercase=False, min_df=3)\n",
    "tfidf_vectorizer = TfidfVectorizer(tokenizer=lambda doc: doc, lowercase=False, min_df=3)"
   ],
   "metadata": {
    "collapsed": false
   }
  },
  {
   "cell_type": "code",
   "execution_count": 52,
   "outputs": [],
   "source": [
    "df_TFIDF = df[['lemmas', 'vader_review']]\n",
    "df_COUNT = df[['lemmas', 'vader_review']]"
   ],
   "metadata": {
    "collapsed": false
   }
  },
  {
   "cell_type": "markdown",
   "source": [
    "### Model training"
   ],
   "metadata": {
    "collapsed": false
   }
  },
  {
   "cell_type": "code",
   "execution_count": 53,
   "outputs": [
    {
     "name": "stderr",
     "output_type": "stream",
     "text": [
      "C:\\Users\\ilinardic\\Documents\\FER\\ATR\\project\\TAR-project-2023\\venv\\lib\\site-packages\\sklearn\\feature_extraction\\text.py:528: UserWarning: The parameter 'token_pattern' will not be used since 'tokenizer' is not None'\n",
      "  warnings.warn(\n"
     ]
    }
   ],
   "source": [
    "count_matrix = count_vectorizer.fit_transform(df_COUNT.lemmas)\n",
    "count_df = pd.DataFrame(count_matrix.toarray())\n",
    "count_df['vader_review'] = df_COUNT['vader_review']"
   ],
   "metadata": {
    "collapsed": false
   }
  },
  {
   "cell_type": "code",
   "execution_count": 54,
   "outputs": [
    {
     "name": "stderr",
     "output_type": "stream",
     "text": [
      "C:\\Users\\ilinardic\\Documents\\FER\\ATR\\project\\TAR-project-2023\\venv\\lib\\site-packages\\sklearn\\feature_extraction\\text.py:528: UserWarning: The parameter 'token_pattern' will not be used since 'tokenizer' is not None'\n",
      "  warnings.warn(\n"
     ]
    }
   ],
   "source": [
    "tfidf_matrix = tfidf_vectorizer.fit_transform(df_TFIDF.lemmas)\n",
    "tfidf_df = pd.DataFrame(tfidf_matrix.toarray())\n",
    "tfidf_df['vader_review'] = df_TFIDF['vader_review']"
   ],
   "metadata": {
    "collapsed": false
   }
  },
  {
   "cell_type": "code",
   "execution_count": 59,
   "outputs": [],
   "source": [
    "count_df.columns = count_df.columns.astype(str)\n",
    "tfidf_df.columns = tfidf_df.columns.astype(str)"
   ],
   "metadata": {
    "collapsed": false
   }
  },
  {
   "cell_type": "code",
   "execution_count": 56,
   "outputs": [],
   "source": [
    "def train_lr(X_train, y_train, lr_kwargs={\"max_iter\": 1000, \"solver\": \"lbfgs\"}):\n",
    "    \"\"\"\n",
    "    Receives the train set and uses it to train a logistic regression with\n",
    "    training arguments passed as `lr_kwargs`.\n",
    "    Returns the fitted model.\n",
    "    \"\"\"\n",
    "    model = LR(**lr_kwargs).fit(X_train,y_train)\n",
    "    return model"
   ],
   "metadata": {
    "collapsed": false
   }
  },
  {
   "cell_type": "code",
   "execution_count": 57,
   "outputs": [],
   "source": [
    "from sklearn.metrics import f1_score\n",
    "from sklearn.metrics import classification_report\n",
    "\n",
    "def test_performance(X_test, y_test, model):\n",
    "    y_pred = model.predict(X_test)\n",
    "    print(classification_report(y_pred=y_pred, y_true=y_test))\n",
    "    return f1_score(y_pred=y_pred, y_true=y_test, average=\"macro\")"
   ],
   "metadata": {
    "collapsed": false
   }
  },
  {
   "cell_type": "code",
   "execution_count": 81,
   "outputs": [],
   "source": [
    "count_f1_values = []\n",
    "tf_idf_f1_values = []"
   ],
   "metadata": {
    "collapsed": false
   }
  },
  {
   "cell_type": "markdown",
   "source": [
    "##### Count vectorizer scenario"
   ],
   "metadata": {
    "collapsed": false
   }
  },
  {
   "cell_type": "code",
   "execution_count": 82,
   "outputs": [
    {
     "name": "stderr",
     "output_type": "stream",
     "text": [
      "C:\\Users\\ilinardic\\Documents\\FER\\ATR\\project\\TAR-project-2023\\venv\\lib\\site-packages\\sklearn\\utils\\validation.py:1143: DataConversionWarning: A column-vector y was passed when a 1d array was expected. Please change the shape of y to (n_samples, ), for example using ravel().\n",
      "  y = column_or_1d(y, warn=True)\n"
     ]
    },
    {
     "name": "stdout",
     "output_type": "stream",
     "text": [
      "              precision    recall  f1-score   support\n",
      "\n",
      "           0       0.45      0.45      0.45       227\n",
      "           1       0.53      0.53      0.53       267\n",
      "\n",
      "    accuracy                           0.49       494\n",
      "   macro avg       0.49      0.49      0.49       494\n",
      "weighted avg       0.49      0.49      0.49       494\n",
      "\n",
      "\n",
      "f1 = 0.489\n",
      "\n"
     ]
    }
   ],
   "source": [
    "#Extroverted\n",
    "df_y = df[[\"cEXT\"]]\n",
    "X_train, X_test, y_train, y_test = train_test_split(count_df, df_y, test_size=0.2, random_state=42)\n",
    "\n",
    "lr_ext = train_lr(X_train=X_train, y_train=y_train)\n",
    "f1 = test_performance(X_test=X_test, y_test=y_test, model=lr_ext)\n",
    "count_f1_values.append(f1)\n",
    "print(f\"\\nf1 = {f1:.3f}\\n\")"
   ],
   "metadata": {
    "collapsed": false
   }
  },
  {
   "cell_type": "code",
   "execution_count": 83,
   "outputs": [
    {
     "name": "stderr",
     "output_type": "stream",
     "text": [
      "C:\\Users\\ilinardic\\Documents\\FER\\ATR\\project\\TAR-project-2023\\venv\\lib\\site-packages\\sklearn\\utils\\validation.py:1143: DataConversionWarning: A column-vector y was passed when a 1d array was expected. Please change the shape of y to (n_samples, ), for example using ravel().\n",
      "  y = column_or_1d(y, warn=True)\n"
     ]
    },
    {
     "name": "stdout",
     "output_type": "stream",
     "text": [
      "              precision    recall  f1-score   support\n",
      "\n",
      "           0       0.57      0.57      0.57       260\n",
      "           1       0.52      0.52      0.52       234\n",
      "\n",
      "    accuracy                           0.54       494\n",
      "   macro avg       0.54      0.54      0.54       494\n",
      "weighted avg       0.54      0.54      0.54       494\n",
      "\n",
      "\n",
      "f1 = 0.541\n",
      "\n"
     ]
    }
   ],
   "source": [
    "#Neuroticism\n",
    "df_y = df[[\"cNEU\"]]\n",
    "X_train, X_test, y_train, y_test = train_test_split(count_df, df_y, test_size=0.2, random_state=42)\n",
    "\n",
    "lr_ext = train_lr(X_train=X_train, y_train=y_train)\n",
    "f1 = test_performance(X_test=X_test, y_test=y_test, model=lr_ext)\n",
    "count_f1_values.append(f1)\n",
    "print(f\"\\nf1 = {f1:.3f}\\n\")"
   ],
   "metadata": {
    "collapsed": false
   }
  },
  {
   "cell_type": "code",
   "execution_count": 84,
   "outputs": [
    {
     "name": "stderr",
     "output_type": "stream",
     "text": [
      "C:\\Users\\ilinardic\\Documents\\FER\\ATR\\project\\TAR-project-2023\\venv\\lib\\site-packages\\sklearn\\utils\\validation.py:1143: DataConversionWarning: A column-vector y was passed when a 1d array was expected. Please change the shape of y to (n_samples, ), for example using ravel().\n",
      "  y = column_or_1d(y, warn=True)\n"
     ]
    },
    {
     "name": "stdout",
     "output_type": "stream",
     "text": [
      "              precision    recall  f1-score   support\n",
      "\n",
      "           0       0.46      0.44      0.45       220\n",
      "           1       0.57      0.59      0.58       274\n",
      "\n",
      "    accuracy                           0.52       494\n",
      "   macro avg       0.52      0.52      0.52       494\n",
      "weighted avg       0.52      0.52      0.52       494\n",
      "\n",
      "\n",
      "f1 = 0.515\n",
      "\n"
     ]
    }
   ],
   "source": [
    "#Agreeableness\n",
    "df_y = df[[\"cAGR\"]]\n",
    "X_train, X_test, y_train, y_test = train_test_split(count_df, df_y, test_size=0.2, random_state=42)\n",
    "\n",
    "lr_ext = train_lr(X_train=X_train, y_train=y_train)\n",
    "f1 = test_performance(X_test=X_test, y_test=y_test, model=lr_ext)\n",
    "count_f1_values.append(f1)\n",
    "print(f\"\\nf1 = {f1:.3f}\\n\")"
   ],
   "metadata": {
    "collapsed": false
   }
  },
  {
   "cell_type": "code",
   "execution_count": 85,
   "outputs": [
    {
     "name": "stderr",
     "output_type": "stream",
     "text": [
      "C:\\Users\\ilinardic\\Documents\\FER\\ATR\\project\\TAR-project-2023\\venv\\lib\\site-packages\\sklearn\\utils\\validation.py:1143: DataConversionWarning: A column-vector y was passed when a 1d array was expected. Please change the shape of y to (n_samples, ), for example using ravel().\n",
      "  y = column_or_1d(y, warn=True)\n"
     ]
    },
    {
     "name": "stdout",
     "output_type": "stream",
     "text": [
      "              precision    recall  f1-score   support\n",
      "\n",
      "           0       0.50      0.60      0.55       227\n",
      "           1       0.59      0.49      0.54       267\n",
      "\n",
      "    accuracy                           0.54       494\n",
      "   macro avg       0.55      0.55      0.54       494\n",
      "weighted avg       0.55      0.54      0.54       494\n",
      "\n",
      "\n",
      "f1 = 0.544\n",
      "\n"
     ]
    }
   ],
   "source": [
    "#Consciousness\n",
    "df_y = df[[\"cCON\"]]\n",
    "X_train, X_test, y_train, y_test = train_test_split(count_df, df_y, test_size=0.2, random_state=42)\n",
    "\n",
    "lr_ext = train_lr(X_train=X_train, y_train=y_train)\n",
    "f1 = test_performance(X_test=X_test, y_test=y_test, model=lr_ext)\n",
    "count_f1_values.append(f1)\n",
    "print(f\"\\nf1 = {f1:.3f}\\n\")"
   ],
   "metadata": {
    "collapsed": false
   }
  },
  {
   "cell_type": "code",
   "execution_count": 86,
   "outputs": [
    {
     "name": "stderr",
     "output_type": "stream",
     "text": [
      "C:\\Users\\ilinardic\\Documents\\FER\\ATR\\project\\TAR-project-2023\\venv\\lib\\site-packages\\sklearn\\utils\\validation.py:1143: DataConversionWarning: A column-vector y was passed when a 1d array was expected. Please change the shape of y to (n_samples, ), for example using ravel().\n",
      "  y = column_or_1d(y, warn=True)\n"
     ]
    },
    {
     "name": "stdout",
     "output_type": "stream",
     "text": [
      "              precision    recall  f1-score   support\n",
      "\n",
      "           0       0.52      0.46      0.49       237\n",
      "           1       0.55      0.61      0.58       257\n",
      "\n",
      "    accuracy                           0.54       494\n",
      "   macro avg       0.54      0.54      0.53       494\n",
      "weighted avg       0.54      0.54      0.54       494\n",
      "\n",
      "\n",
      "f1 = 0.534\n",
      "\n"
     ]
    }
   ],
   "source": [
    "#Openness\n",
    "df_y = df[[\"cOPN\"]]\n",
    "X_train, X_test, y_train, y_test = train_test_split(count_df, df_y, test_size=0.2, random_state=42)\n",
    "\n",
    "lr_ext = train_lr(X_train=X_train, y_train=y_train)\n",
    "f1 = test_performance(X_test=X_test, y_test=y_test, model=lr_ext)\n",
    "count_f1_values.append(f1)\n",
    "print(f\"\\nf1 = {f1:.3f}\\n\")"
   ],
   "metadata": {
    "collapsed": false
   }
  },
  {
   "cell_type": "markdown",
   "source": [
    "##### Tf-Idf vectorizer scenario"
   ],
   "metadata": {
    "collapsed": false
   }
  },
  {
   "cell_type": "code",
   "execution_count": 87,
   "outputs": [
    {
     "name": "stderr",
     "output_type": "stream",
     "text": [
      "C:\\Users\\ilinardic\\Documents\\FER\\ATR\\project\\TAR-project-2023\\venv\\lib\\site-packages\\sklearn\\utils\\validation.py:1143: DataConversionWarning: A column-vector y was passed when a 1d array was expected. Please change the shape of y to (n_samples, ), for example using ravel().\n",
      "  y = column_or_1d(y, warn=True)\n"
     ]
    },
    {
     "name": "stdout",
     "output_type": "stream",
     "text": [
      "              precision    recall  f1-score   support\n",
      "\n",
      "           0       0.47      0.44      0.45       227\n",
      "           1       0.55      0.58      0.57       267\n",
      "\n",
      "    accuracy                           0.52       494\n",
      "   macro avg       0.51      0.51      0.51       494\n",
      "weighted avg       0.51      0.52      0.51       494\n",
      "\n",
      "\n",
      "f1 = 0.510\n",
      "\n"
     ]
    }
   ],
   "source": [
    "#Extroverted\n",
    "df_y = df[[\"cEXT\"]]\n",
    "X_train, X_test, y_train, y_test = train_test_split(tfidf_df, df_y, test_size=0.2, random_state=42)\n",
    "\n",
    "lr_ext = train_lr(X_train=X_train, y_train=y_train)\n",
    "f1 = test_performance(X_test=X_test, y_test=y_test, model=lr_ext)\n",
    "tf_idf_f1_values.append(f1)\n",
    "print(f\"\\nf1 = {f1:.3f}\\n\")"
   ],
   "metadata": {
    "collapsed": false
   }
  },
  {
   "cell_type": "code",
   "execution_count": 88,
   "outputs": [
    {
     "name": "stderr",
     "output_type": "stream",
     "text": [
      "C:\\Users\\ilinardic\\Documents\\FER\\ATR\\project\\TAR-project-2023\\venv\\lib\\site-packages\\sklearn\\utils\\validation.py:1143: DataConversionWarning: A column-vector y was passed when a 1d array was expected. Please change the shape of y to (n_samples, ), for example using ravel().\n",
      "  y = column_or_1d(y, warn=True)\n"
     ]
    },
    {
     "name": "stdout",
     "output_type": "stream",
     "text": [
      "              precision    recall  f1-score   support\n",
      "\n",
      "           0       0.58      0.55      0.57       260\n",
      "           1       0.53      0.56      0.54       234\n",
      "\n",
      "    accuracy                           0.55       494\n",
      "   macro avg       0.55      0.55      0.55       494\n",
      "weighted avg       0.56      0.55      0.55       494\n",
      "\n",
      "\n",
      "f1 = 0.554\n",
      "\n"
     ]
    }
   ],
   "source": [
    "#Neuroticism\n",
    "df_y = df[[\"cNEU\"]]\n",
    "X_train, X_test, y_train, y_test = train_test_split(tfidf_df, df_y, test_size=0.2, random_state=42)\n",
    "\n",
    "lr_ext = train_lr(X_train=X_train, y_train=y_train)\n",
    "f1 = test_performance(X_test=X_test, y_test=y_test, model=lr_ext)\n",
    "tf_idf_f1_values.append(f1)\n",
    "print(f\"\\nf1 = {f1:.3f}\\n\")"
   ],
   "metadata": {
    "collapsed": false
   }
  },
  {
   "cell_type": "code",
   "execution_count": 89,
   "outputs": [
    {
     "name": "stderr",
     "output_type": "stream",
     "text": [
      "C:\\Users\\ilinardic\\Documents\\FER\\ATR\\project\\TAR-project-2023\\venv\\lib\\site-packages\\sklearn\\utils\\validation.py:1143: DataConversionWarning: A column-vector y was passed when a 1d array was expected. Please change the shape of y to (n_samples, ), for example using ravel().\n",
      "  y = column_or_1d(y, warn=True)\n"
     ]
    },
    {
     "name": "stdout",
     "output_type": "stream",
     "text": [
      "              precision    recall  f1-score   support\n",
      "\n",
      "           0       0.49      0.36      0.42       220\n",
      "           1       0.58      0.70      0.63       274\n",
      "\n",
      "    accuracy                           0.55       494\n",
      "   macro avg       0.53      0.53      0.52       494\n",
      "weighted avg       0.54      0.55      0.54       494\n",
      "\n",
      "\n",
      "f1 = 0.525\n",
      "\n"
     ]
    }
   ],
   "source": [
    "#Agreeableness\n",
    "df_y = df[[\"cAGR\"]]\n",
    "X_train, X_test, y_train, y_test = train_test_split(tfidf_df, df_y, test_size=0.2, random_state=42)\n",
    "\n",
    "lr_ext = train_lr(X_train=X_train, y_train=y_train)\n",
    "f1 = test_performance(X_test=X_test, y_test=y_test, model=lr_ext)\n",
    "tf_idf_f1_values.append(f1)\n",
    "print(f\"\\nf1 = {f1:.3f}\\n\")"
   ],
   "metadata": {
    "collapsed": false
   }
  },
  {
   "cell_type": "code",
   "execution_count": 90,
   "outputs": [
    {
     "name": "stderr",
     "output_type": "stream",
     "text": [
      "C:\\Users\\ilinardic\\Documents\\FER\\ATR\\project\\TAR-project-2023\\venv\\lib\\site-packages\\sklearn\\utils\\validation.py:1143: DataConversionWarning: A column-vector y was passed when a 1d array was expected. Please change the shape of y to (n_samples, ), for example using ravel().\n",
      "  y = column_or_1d(y, warn=True)\n"
     ]
    },
    {
     "name": "stdout",
     "output_type": "stream",
     "text": [
      "              precision    recall  f1-score   support\n",
      "\n",
      "           0       0.51      0.56      0.53       227\n",
      "           1       0.59      0.54      0.56       267\n",
      "\n",
      "    accuracy                           0.55       494\n",
      "   macro avg       0.55      0.55      0.55       494\n",
      "weighted avg       0.55      0.55      0.55       494\n",
      "\n",
      "\n",
      "f1 = 0.546\n",
      "\n"
     ]
    }
   ],
   "source": [
    "#Consciousness\n",
    "df_y = df[[\"cCON\"]]\n",
    "X_train, X_test, y_train, y_test = train_test_split(tfidf_df, df_y, test_size=0.2, random_state=42)\n",
    "\n",
    "lr_ext = train_lr(X_train=X_train, y_train=y_train)\n",
    "f1 = test_performance(X_test=X_test, y_test=y_test, model=lr_ext)\n",
    "tf_idf_f1_values.append(f1)\n",
    "print(f\"\\nf1 = {f1:.3f}\\n\")"
   ],
   "metadata": {
    "collapsed": false
   }
  },
  {
   "cell_type": "code",
   "execution_count": 91,
   "outputs": [
    {
     "name": "stderr",
     "output_type": "stream",
     "text": [
      "C:\\Users\\ilinardic\\Documents\\FER\\ATR\\project\\TAR-project-2023\\venv\\lib\\site-packages\\sklearn\\utils\\validation.py:1143: DataConversionWarning: A column-vector y was passed when a 1d array was expected. Please change the shape of y to (n_samples, ), for example using ravel().\n",
      "  y = column_or_1d(y, warn=True)\n"
     ]
    },
    {
     "name": "stdout",
     "output_type": "stream",
     "text": [
      "              precision    recall  f1-score   support\n",
      "\n",
      "           0       0.52      0.46      0.49       237\n",
      "           1       0.55      0.61      0.58       257\n",
      "\n",
      "    accuracy                           0.54       494\n",
      "   macro avg       0.54      0.54      0.54       494\n",
      "weighted avg       0.54      0.54      0.54       494\n",
      "\n",
      "\n",
      "f1 = 0.536\n",
      "\n"
     ]
    }
   ],
   "source": [
    "#Openness\n",
    "df_y = df[[\"cOPN\"]]\n",
    "X_train, X_test, y_train, y_test = train_test_split(tfidf_df, df_y, test_size=0.2, random_state=42)\n",
    "\n",
    "lr_ext = train_lr(X_train=X_train, y_train=y_train)\n",
    "f1 = test_performance(X_test=X_test, y_test=y_test, model=lr_ext)\n",
    "tf_idf_f1_values.append(f1)\n",
    "print(f\"\\nf1 = {f1:.3f}\\n\")"
   ],
   "metadata": {
    "collapsed": false
   }
  },
  {
   "cell_type": "code",
   "execution_count": 96,
   "outputs": [
    {
     "data": {
      "text/plain": "<Figure size 800x500 with 1 Axes>",
      "image/png": "[encoded data removed]"
     },
     "metadata": {},
     "output_type": "display_data"
    }
   ],
   "source": [
    "import matplotlib.pyplot as plt\n",
    "\n",
    "labels = [\"cEXT\", \"cNEU\", \"cAGR\", \"cCON\", \"cOPN\"]\n",
    "\n",
    "fig, ax = plt.subplots(figsize=(8,5))\n",
    "\n",
    "ax.bar(labels, count_f1_values, label='COUNT')\n",
    "ax.bar(labels, tf_idf_f1_values, label='TFIDF', alpha=0.5, width=0.4)\n",
    "\n",
    "ax.set_xlabel('Categories')\n",
    "ax.set_ylabel('F1 Values')\n",
    "ax.set_title('Comparison of Count and Tf-Idf Vectorizers')\n",
    "\n",
    "ax.legend()\n",
    "\n",
    "plt.show()"
   ],
   "metadata": {
    "collapsed": false
   }
  }
 ],
 "metadata": {
  "kernelspec": {
   "display_name": "Python 3",
   "language": "python",
   "name": "python3"
  },
  "language_info": {
   "codemirror_mode": {
    "name": "ipython",
    "version": 2
   },
   "file_extension": ".py",
   "mimetype": "text/x-python",
   "name": "python",
   "nbconvert_exporter": "python",
   "pygments_lexer": "ipython2",
   "version": "2.7.6"
  }
 },
 "nbformat": 4,
 "nbformat_minor": 0
}
