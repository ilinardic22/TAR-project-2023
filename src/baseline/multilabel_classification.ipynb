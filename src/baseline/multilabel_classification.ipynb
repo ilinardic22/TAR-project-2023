{
 "cells": [
  {
   "cell_type": "markdown",
   "source": [
    "# Multilabel classification of personality types"
   ],
   "metadata": {
    "collapsed": false
   }
  },
  {
   "cell_type": "code",
   "execution_count": 1,
   "outputs": [],
   "source": [
    "import pandas as pd"
   ],
   "metadata": {
    "collapsed": false
   }
  },
  {
   "cell_type": "code",
   "execution_count": 59,
   "outputs": [],
   "source": [
    "#Import data\n",
    "df = pd.read_excel('../../data/essays.xlsx')"
   ],
   "metadata": {
    "collapsed": false
   }
  },
  {
   "cell_type": "code",
   "execution_count": 60,
   "outputs": [
    {
     "data": {
      "text/plain": "           #AUTHID                                               TEXT  cEXT   \n0  1997_504851.txt  Well, right now I just woke up from a mid-day ...     0  \\\n1  1997_605191.txt  Well, here we go with the stream of consciousn...     0   \n2  1997_687252.txt  An open keyboard and buttons to push. The thin...     0   \n3  1997_568848.txt  I can't believe it!  It's really happening!  M...     1   \n4  1997_688160.txt  Well, here I go with the good old stream of co...     1   \n\n   cNEU  cAGR  cCON  cOPN  \n0     1     1     0     1  \n1     0     1     0     0  \n2     1     0     1     1  \n3     0     1     1     0  \n4     0     1     0     1  ",
      "text/html": "<div>\n<style scoped>\n    .dataframe tbody tr th:only-of-type {\n        vertical-align: middle;\n    }\n\n    .dataframe tbody tr th {\n        vertical-align: top;\n    }\n\n    .dataframe thead th {\n        text-align: right;\n    }\n</style>\n<table border=\"1\" class=\"dataframe\">\n  <thead>\n    <tr style=\"text-align: right;\">\n      <th></th>\n      <th>#AUTHID</th>\n      <th>TEXT</th>\n      <th>cEXT</th>\n      <th>cNEU</th>\n      <th>cAGR</th>\n      <th>cCON</th>\n      <th>cOPN</th>\n    </tr>\n  </thead>\n  <tbody>\n    <tr>\n      <th>0</th>\n      <td>1997_504851.txt</td>\n      <td>Well, right now I just woke up from a mid-day ...</td>\n      <td>0</td>\n      <td>1</td>\n      <td>1</td>\n      <td>0</td>\n      <td>1</td>\n    </tr>\n    <tr>\n      <th>1</th>\n      <td>1997_605191.txt</td>\n      <td>Well, here we go with the stream of consciousn...</td>\n      <td>0</td>\n      <td>0</td>\n      <td>1</td>\n      <td>0</td>\n      <td>0</td>\n    </tr>\n    <tr>\n      <th>2</th>\n      <td>1997_687252.txt</td>\n      <td>An open keyboard and buttons to push. The thin...</td>\n      <td>0</td>\n      <td>1</td>\n      <td>0</td>\n      <td>1</td>\n      <td>1</td>\n    </tr>\n    <tr>\n      <th>3</th>\n      <td>1997_568848.txt</td>\n      <td>I can't believe it!  It's really happening!  M...</td>\n      <td>1</td>\n      <td>0</td>\n      <td>1</td>\n      <td>1</td>\n      <td>0</td>\n    </tr>\n    <tr>\n      <th>4</th>\n      <td>1997_688160.txt</td>\n      <td>Well, here I go with the good old stream of co...</td>\n      <td>1</td>\n      <td>0</td>\n      <td>1</td>\n      <td>0</td>\n      <td>1</td>\n    </tr>\n  </tbody>\n</table>\n</div>"
     },
     "execution_count": 60,
     "metadata": {},
     "output_type": "execute_result"
    }
   ],
   "source": [
    "#Replace string representations of target variables to boolean\n",
    "personalities=[\"cEXT\", \"cNEU\", \"cAGR\", \"cCON\", \"cOPN\"]\n",
    "\n",
    "for personality in personalities:\n",
    "    df[personality].replace([\"y\", \"n\"], [1, 0], inplace=True)\n",
    "\n",
    "df.head()"
   ],
   "metadata": {
    "collapsed": false
   }
  },
  {
   "cell_type": "markdown",
   "source": [
    "### Sentiment represenatation of text\n",
    "\n",
    "For sentiment analysis of given essays Vader library is used. This library gives each word in text a score depending on if it is considered positive or negative. Final score is given as a normalized sum."
   ],
   "metadata": {
    "collapsed": false
   }
  },
  {
   "cell_type": "code",
   "execution_count": 17,
   "outputs": [
    {
     "name": "stderr",
     "output_type": "stream",
     "text": [
      "[nltk_data] Downloading package vader_lexicon to\n",
      "[nltk_data]     C:\\Users\\ilinardic\\AppData\\Roaming\\nltk_data...\n",
      "[nltk_data]   Package vader_lexicon is already up-to-date!\n"
     ]
    },
    {
     "data": {
      "text/plain": "True"
     },
     "execution_count": 17,
     "metadata": {},
     "output_type": "execute_result"
    }
   ],
   "source": [
    "import nltk\n",
    "from nltk.sentiment.vader import SentimentIntensityAnalyzer\n",
    "nltk.download('vader_lexicon')"
   ],
   "metadata": {
    "collapsed": false
   }
  },
  {
   "cell_type": "code",
   "execution_count": 61,
   "outputs": [],
   "source": [
    "sid = SentimentIntensityAnalyzer()\n",
    "vader=lambda x: sid.polarity_scores(x)['compound']\n",
    "\n",
    "df['vader_review'] = df['TEXT'].apply(vader)"
   ],
   "metadata": {
    "collapsed": false
   }
  },
  {
   "cell_type": "code",
   "execution_count": 62,
   "outputs": [
    {
     "data": {
      "text/plain": "           #AUTHID                                               TEXT  cEXT   \n0  1997_504851.txt  Well, right now I just woke up from a mid-day ...     0  \\\n1  1997_605191.txt  Well, here we go with the stream of consciousn...     0   \n2  1997_687252.txt  An open keyboard and buttons to push. The thin...     0   \n3  1997_568848.txt  I can't believe it!  It's really happening!  M...     1   \n4  1997_688160.txt  Well, here I go with the good old stream of co...     1   \n\n   cNEU  cAGR  cCON  cOPN  vader_review  \n0     1     1     0     1        0.9982  \n1     0     1     0     0        0.9978  \n2     1     0     1     1        0.9659  \n3     0     1     1     0        0.9961  \n4     0     1     0     1        0.9896  ",
      "text/html": "<div>\n<style scoped>\n    .dataframe tbody tr th:only-of-type {\n        vertical-align: middle;\n    }\n\n    .dataframe tbody tr th {\n        vertical-align: top;\n    }\n\n    .dataframe thead th {\n        text-align: right;\n    }\n</style>\n<table border=\"1\" class=\"dataframe\">\n  <thead>\n    <tr style=\"text-align: right;\">\n      <th></th>\n      <th>#AUTHID</th>\n      <th>TEXT</th>\n      <th>cEXT</th>\n      <th>cNEU</th>\n      <th>cAGR</th>\n      <th>cCON</th>\n      <th>cOPN</th>\n      <th>vader_review</th>\n    </tr>\n  </thead>\n  <tbody>\n    <tr>\n      <th>0</th>\n      <td>1997_504851.txt</td>\n      <td>Well, right now I just woke up from a mid-day ...</td>\n      <td>0</td>\n      <td>1</td>\n      <td>1</td>\n      <td>0</td>\n      <td>1</td>\n      <td>0.9982</td>\n    </tr>\n    <tr>\n      <th>1</th>\n      <td>1997_605191.txt</td>\n      <td>Well, here we go with the stream of consciousn...</td>\n      <td>0</td>\n      <td>0</td>\n      <td>1</td>\n      <td>0</td>\n      <td>0</td>\n      <td>0.9978</td>\n    </tr>\n    <tr>\n      <th>2</th>\n      <td>1997_687252.txt</td>\n      <td>An open keyboard and buttons to push. The thin...</td>\n      <td>0</td>\n      <td>1</td>\n      <td>0</td>\n      <td>1</td>\n      <td>1</td>\n      <td>0.9659</td>\n    </tr>\n    <tr>\n      <th>3</th>\n      <td>1997_568848.txt</td>\n      <td>I can't believe it!  It's really happening!  M...</td>\n      <td>1</td>\n      <td>0</td>\n      <td>1</td>\n      <td>1</td>\n      <td>0</td>\n      <td>0.9961</td>\n    </tr>\n    <tr>\n      <th>4</th>\n      <td>1997_688160.txt</td>\n      <td>Well, here I go with the good old stream of co...</td>\n      <td>1</td>\n      <td>0</td>\n      <td>1</td>\n      <td>0</td>\n      <td>1</td>\n      <td>0.9896</td>\n    </tr>\n  </tbody>\n</table>\n</div>"
     },
     "execution_count": 62,
     "metadata": {},
     "output_type": "execute_result"
    }
   ],
   "source": [
    "df.head()"
   ],
   "metadata": {
    "collapsed": false
   }
  },
  {
   "cell_type": "code",
   "execution_count": 96,
   "outputs": [
    {
     "data": {
      "text/plain": "<Axes: >"
     },
     "execution_count": 96,
     "metadata": {},
     "output_type": "execute_result"
    },
    {
     "data": {
      "text/plain": "<Figure size 640x480 with 2 Axes>",
      "image/png": "[encoded data removed]"
     },
     "metadata": {},
     "output_type": "display_data"
    }
   ],
   "source": [
    "#Correlation of vader sentiment score with each personality\n",
    "\n",
    "import seaborn as sns\n",
    "\n",
    "df['vader_review'].describe()\n",
    "df_corrs = df[[\"cEXT\", \"cNEU\", \"cAGR\", \"cCON\", \"cOPN\", \"vader_review\"]]\n",
    "sns.heatmap(df_corrs.corr())"
   ],
   "metadata": {
    "collapsed": false
   }
  },
  {
   "cell_type": "markdown",
   "source": [
    "### Text preprocessing"
   ],
   "metadata": {
    "collapsed": false
   }
  },
  {
   "cell_type": "code",
   "execution_count": 64,
   "outputs": [],
   "source": [
    "import re\n",
    "from nltk.corpus import stopwords\n",
    "from nltk.stem.snowball import SnowballStemmer\n",
    "\n",
    "\n",
    "def clean_text(text):\n",
    "    \"\"\"\n",
    "    Removes and replaces all whitespaces with single spaces. Transforms all letters to lowercase.\n",
    "    Returns preprocessed text.\n",
    "    \"\"\"\n",
    "    text = text.lower()\n",
    "    return re.sub(r'\\s+', ' ', text)\n",
    "\n",
    "\n",
    "stop_words = set(stopwords.words('english'))\n",
    "\n",
    "\n",
    "def remove_stopwords(text):\n",
    "    \"\"\"\n",
    "    Removes stopwords from given text.\n",
    "    :param text: a text string\n",
    "    :return: list of words from given text without stopwords\n",
    "    \"\"\"\n",
    "    no_stopword_text = [w for w in text.split() if not w in stop_words]\n",
    "    return ' '.join(no_stopword_text)\n",
    "\n",
    "\n",
    "stemmer = SnowballStemmer(\"english\")\n",
    "\n",
    "\n",
    "def stemming(sentence):\n",
    "    \"\"\"\n",
    "    Transforms words in a sentence into stems.\n",
    "    :param sentence:\n",
    "    :return: list of words from given sentence in stem form\n",
    "    \"\"\"\n",
    "    stem_sentence = \"\"\n",
    "    for word in sentence.split():\n",
    "        stem = stemmer.stem(word)\n",
    "        stem_sentence += stem\n",
    "        stem_sentence += \" \"\n",
    "    stem_sentence = stem_sentence.strip()\n",
    "    return stem_sentence"
   ],
   "metadata": {
    "collapsed": false
   }
  },
  {
   "cell_type": "code",
   "execution_count": 65,
   "outputs": [],
   "source": [
    "# df[\"TEXT\"] = df.TEXT.apply(remove_stopwords)\n",
    "df[\"TEXT\"] = df.TEXT.apply(clean_text)\n",
    "df[\"TEXT\"] = df.TEXT.apply(stemming)"
   ],
   "metadata": {
    "collapsed": false
   }
  },
  {
   "cell_type": "markdown",
   "source": [
    "Stop words were later commented because final metrics are better with stop words included."
   ],
   "metadata": {
    "collapsed": false
   }
  },
  {
   "cell_type": "code",
   "execution_count": 66,
   "outputs": [
    {
     "data": {
      "text/plain": "                                                TEXT  cEXT  cNEU  cAGR  cCON   \n0  well, right now i just woke up from a mid-day ...     0     1     1     0  \\\n1  well, here we go with the stream of conscious ...     0     0     1     0   \n2  an open keyboard and button to push. the thing...     0     1     0     1   \n3  i can't believ it! it realli happening! my pul...     1     0     1     1   \n4  well, here i go with the good old stream of co...     1     0     1     0   \n\n   cOPN  vader_review  \n0     1        0.9982  \n1     0        0.9978  \n2     1        0.9659  \n3     0        0.9961  \n4     1        0.9896  ",
      "text/html": "<div>\n<style scoped>\n    .dataframe tbody tr th:only-of-type {\n        vertical-align: middle;\n    }\n\n    .dataframe tbody tr th {\n        vertical-align: top;\n    }\n\n    .dataframe thead th {\n        text-align: right;\n    }\n</style>\n<table border=\"1\" class=\"dataframe\">\n  <thead>\n    <tr style=\"text-align: right;\">\n      <th></th>\n      <th>TEXT</th>\n      <th>cEXT</th>\n      <th>cNEU</th>\n      <th>cAGR</th>\n      <th>cCON</th>\n      <th>cOPN</th>\n      <th>vader_review</th>\n    </tr>\n  </thead>\n  <tbody>\n    <tr>\n      <th>0</th>\n      <td>well, right now i just woke up from a mid-day ...</td>\n      <td>0</td>\n      <td>1</td>\n      <td>1</td>\n      <td>0</td>\n      <td>1</td>\n      <td>0.9982</td>\n    </tr>\n    <tr>\n      <th>1</th>\n      <td>well, here we go with the stream of conscious ...</td>\n      <td>0</td>\n      <td>0</td>\n      <td>1</td>\n      <td>0</td>\n      <td>0</td>\n      <td>0.9978</td>\n    </tr>\n    <tr>\n      <th>2</th>\n      <td>an open keyboard and button to push. the thing...</td>\n      <td>0</td>\n      <td>1</td>\n      <td>0</td>\n      <td>1</td>\n      <td>1</td>\n      <td>0.9659</td>\n    </tr>\n    <tr>\n      <th>3</th>\n      <td>i can't believ it! it realli happening! my pul...</td>\n      <td>1</td>\n      <td>0</td>\n      <td>1</td>\n      <td>1</td>\n      <td>0</td>\n      <td>0.9961</td>\n    </tr>\n    <tr>\n      <th>4</th>\n      <td>well, here i go with the good old stream of co...</td>\n      <td>1</td>\n      <td>0</td>\n      <td>1</td>\n      <td>0</td>\n      <td>1</td>\n      <td>0.9896</td>\n    </tr>\n  </tbody>\n</table>\n</div>"
     },
     "execution_count": 66,
     "metadata": {},
     "output_type": "execute_result"
    }
   ],
   "source": [
    "df.drop(columns='#AUTHID', inplace=True)\n",
    "df.head()"
   ],
   "metadata": {
    "collapsed": false
   }
  },
  {
   "cell_type": "markdown",
   "source": [
    "### Model training"
   ],
   "metadata": {
    "collapsed": false
   }
  },
  {
   "cell_type": "code",
   "execution_count": 67,
   "outputs": [],
   "source": [
    "from sklearn.feature_extraction.text import TfidfVectorizer, CountVectorizer\n",
    "\n",
    "# Load vectorizers\n",
    "count_vectorizer = CountVectorizer()\n",
    "tfidf_vectorizer = TfidfVectorizer()"
   ],
   "metadata": {
    "collapsed": false
   }
  },
  {
   "cell_type": "code",
   "execution_count": 68,
   "outputs": [],
   "source": [
    "df_TFIDF = df[['TEXT', 'vader_review']]\n",
    "df_COUNT = df[['TEXT', 'vader_review']]"
   ],
   "metadata": {
    "collapsed": false
   }
  },
  {
   "cell_type": "markdown",
   "source": [
    "##### Model training with count vectorizer"
   ],
   "metadata": {
    "collapsed": false
   }
  },
  {
   "cell_type": "code",
   "execution_count": 74,
   "outputs": [],
   "source": [
    "count_matrix = count_vectorizer.fit_transform(df_COUNT.TEXT)\n",
    "count_df = pd.DataFrame(count_matrix.toarray())"
   ],
   "metadata": {
    "collapsed": false
   }
  },
  {
   "cell_type": "code",
   "execution_count": 75,
   "outputs": [],
   "source": [
    "count_df['vader_review'] = df_COUNT['vader_review']"
   ],
   "metadata": {
    "collapsed": false
   }
  },
  {
   "cell_type": "code",
   "execution_count": 76,
   "outputs": [],
   "source": [
    "from sklearn.model_selection import train_test_split\n",
    "\n",
    "df_y = df[[\"cEXT\", \"cNEU\", \"cAGR\", \"cCON\", \"cOPN\"]]\n",
    "\n",
    "X_train, X_test, y_train, y_test = train_test_split(count_df, df_y, test_size=0.2, random_state=42)"
   ],
   "metadata": {
    "collapsed": false
   }
  },
  {
   "cell_type": "code",
   "execution_count": 77,
   "outputs": [
    {
     "name": "stderr",
     "output_type": "stream",
     "text": [
      "C:\\Users\\ilinardic\\Documents\\FER\\ATR\\project\\TAR-project-2023\\venv\\lib\\site-packages\\sklearn\\linear_model\\_logistic.py:458: ConvergenceWarning: lbfgs failed to converge (status=1):\n",
      "STOP: TOTAL NO. of ITERATIONS REACHED LIMIT.\n",
      "\n",
      "Increase the number of iterations (max_iter) or scale the data as shown in:\n",
      "    https://scikit-learn.org/stable/modules/preprocessing.html\n",
      "Please also refer to the documentation for alternative solver options:\n",
      "    https://scikit-learn.org/stable/modules/linear_model.html#logistic-regression\n",
      "  n_iter_i = _check_optimize_result(\n",
      "C:\\Users\\ilinardic\\Documents\\FER\\ATR\\project\\TAR-project-2023\\venv\\lib\\site-packages\\sklearn\\linear_model\\_logistic.py:458: ConvergenceWarning: lbfgs failed to converge (status=1):\n",
      "STOP: TOTAL NO. of ITERATIONS REACHED LIMIT.\n",
      "\n",
      "Increase the number of iterations (max_iter) or scale the data as shown in:\n",
      "    https://scikit-learn.org/stable/modules/preprocessing.html\n",
      "Please also refer to the documentation for alternative solver options:\n",
      "    https://scikit-learn.org/stable/modules/linear_model.html#logistic-regression\n",
      "  n_iter_i = _check_optimize_result(\n",
      "C:\\Users\\ilinardic\\Documents\\FER\\ATR\\project\\TAR-project-2023\\venv\\lib\\site-packages\\sklearn\\linear_model\\_logistic.py:458: ConvergenceWarning: lbfgs failed to converge (status=1):\n",
      "STOP: TOTAL NO. of ITERATIONS REACHED LIMIT.\n",
      "\n",
      "Increase the number of iterations (max_iter) or scale the data as shown in:\n",
      "    https://scikit-learn.org/stable/modules/preprocessing.html\n",
      "Please also refer to the documentation for alternative solver options:\n",
      "    https://scikit-learn.org/stable/modules/linear_model.html#logistic-regression\n",
      "  n_iter_i = _check_optimize_result(\n",
      "C:\\Users\\ilinardic\\Documents\\FER\\ATR\\project\\TAR-project-2023\\venv\\lib\\site-packages\\sklearn\\linear_model\\_logistic.py:458: ConvergenceWarning: lbfgs failed to converge (status=1):\n",
      "STOP: TOTAL NO. of ITERATIONS REACHED LIMIT.\n",
      "\n",
      "Increase the number of iterations (max_iter) or scale the data as shown in:\n",
      "    https://scikit-learn.org/stable/modules/preprocessing.html\n",
      "Please also refer to the documentation for alternative solver options:\n",
      "    https://scikit-learn.org/stable/modules/linear_model.html#logistic-regression\n",
      "  n_iter_i = _check_optimize_result(\n",
      "C:\\Users\\ilinardic\\Documents\\FER\\ATR\\project\\TAR-project-2023\\venv\\lib\\site-packages\\sklearn\\linear_model\\_logistic.py:458: ConvergenceWarning: lbfgs failed to converge (status=1):\n",
      "STOP: TOTAL NO. of ITERATIONS REACHED LIMIT.\n",
      "\n",
      "Increase the number of iterations (max_iter) or scale the data as shown in:\n",
      "    https://scikit-learn.org/stable/modules/preprocessing.html\n",
      "Please also refer to the documentation for alternative solver options:\n",
      "    https://scikit-learn.org/stable/modules/linear_model.html#logistic-regression\n",
      "  n_iter_i = _check_optimize_result(\n"
     ]
    }
   ],
   "source": [
    "from skmultilearn.problem_transform import ClassifierChain\n",
    "from sklearn.linear_model import LogisticRegression\n",
    "\n",
    "count_base_classifier = LogisticRegression()\n",
    "count_classifier_chain = ClassifierChain(count_base_classifier)\n",
    "count_classifier_chain.fit(X_train, y_train)\n",
    "count_predictions = count_classifier_chain.predict(X_test)"
   ],
   "metadata": {
    "collapsed": false
   }
  },
  {
   "cell_type": "markdown",
   "source": [
    "##### Model training with tfidf vectorizer"
   ],
   "metadata": {
    "collapsed": false
   }
  },
  {
   "cell_type": "code",
   "execution_count": 78,
   "outputs": [],
   "source": [
    "tfidf_matrix = tfidf_vectorizer.fit_transform(df_TFIDF.TEXT)\n",
    "tfidf_df = pd.DataFrame(tfidf_matrix.toarray())"
   ],
   "metadata": {
    "collapsed": false
   }
  },
  {
   "cell_type": "code",
   "execution_count": 79,
   "outputs": [],
   "source": [
    "tfidf_df['vader_review'] = df_TFIDF['vader_review']"
   ],
   "metadata": {
    "collapsed": false
   }
  },
  {
   "cell_type": "code",
   "execution_count": 80,
   "outputs": [],
   "source": [
    "from sklearn.model_selection import train_test_split\n",
    "\n",
    "df_y = df[[\"cEXT\", \"cNEU\", \"cAGR\", \"cCON\", \"cOPN\"]]\n",
    "\n",
    "X_train, X_test, y_train, y_test = train_test_split(tfidf_df, df_y, test_size=0.2, random_state=42)"
   ],
   "metadata": {
    "collapsed": false
   }
  },
  {
   "cell_type": "code",
   "execution_count": 81,
   "outputs": [],
   "source": [
    "from skmultilearn.problem_transform import ClassifierChain\n",
    "from sklearn.linear_model import LogisticRegression\n",
    "\n",
    "tfidf_base_classifier = LogisticRegression()\n",
    "tfidf_classifier_chain = ClassifierChain(tfidf_base_classifier)\n",
    "tfidf_classifier_chain.fit(X_train, y_train)\n",
    "tfidf_predictions = tfidf_classifier_chain.predict(X_test)"
   ],
   "metadata": {
    "collapsed": false
   }
  },
  {
   "cell_type": "markdown",
   "source": [
    "### Results"
   ],
   "metadata": {
    "collapsed": false
   }
  },
  {
   "cell_type": "code",
   "execution_count": 86,
   "outputs": [],
   "source": [
    "from sklearn.metrics import f1_score, classification_report, accuracy_score"
   ],
   "metadata": {
    "collapsed": false
   }
  },
  {
   "cell_type": "markdown",
   "source": [
    "Model with count vectorizer embeddings"
   ],
   "metadata": {
    "collapsed": false
   }
  },
  {
   "cell_type": "code",
   "execution_count": 94,
   "outputs": [
    {
     "name": "stdout",
     "output_type": "stream",
     "text": [
      "              precision    recall  f1-score   support\n",
      "\n",
      "           0       0.57      0.51      0.54       267\n",
      "           1       0.53      0.61      0.57       234\n",
      "           2       0.56      0.51      0.54       274\n",
      "           3       0.58      0.54      0.56       267\n",
      "           4       0.58      0.54      0.56       257\n",
      "\n",
      "   micro avg       0.56      0.54      0.55      1299\n",
      "   macro avg       0.57      0.54      0.55      1299\n",
      "weighted avg       0.57      0.54      0.55      1299\n",
      " samples avg       0.53      0.53      0.49      1299\n",
      "\n",
      "Accuracy score: 0.06477732793522267\n",
      "F1 score: 0.5520494446820515\n"
     ]
    },
    {
     "name": "stderr",
     "output_type": "stream",
     "text": [
      "C:\\Users\\ilinardic\\Documents\\FER\\ATR\\project\\TAR-project-2023\\venv\\lib\\site-packages\\sklearn\\metrics\\_classification.py:1344: UndefinedMetricWarning: Precision and F-score are ill-defined and being set to 0.0 in samples with no predicted labels. Use `zero_division` parameter to control this behavior.\n",
      "  _warn_prf(average, modifier, msg_start, len(result))\n",
      "C:\\Users\\ilinardic\\Documents\\FER\\ATR\\project\\TAR-project-2023\\venv\\lib\\site-packages\\sklearn\\metrics\\_classification.py:1344: UndefinedMetricWarning: Recall and F-score are ill-defined and being set to 0.0 in samples with no true labels. Use `zero_division` parameter to control this behavior.\n",
      "  _warn_prf(average, modifier, msg_start, len(result))\n"
     ]
    }
   ],
   "source": [
    "print(classification_report(y_true=y_test, y_pred=count_predictions))\n",
    "print(\"Accuracy score:\", accuracy_score(y_true=y_test, y_pred=count_predictions))\n",
    "print(\"F1 score:\", f1_score(y_pred=count_predictions, y_true=y_test, average='weighted'))"
   ],
   "metadata": {
    "collapsed": false
   }
  },
  {
   "cell_type": "markdown",
   "source": [
    "Model with tf-idf vectorizer"
   ],
   "metadata": {
    "collapsed": false
   }
  },
  {
   "cell_type": "code",
   "execution_count": 95,
   "outputs": [
    {
     "name": "stdout",
     "output_type": "stream",
     "text": [
      "              precision    recall  f1-score   support\n",
      "\n",
      "           0       0.58      0.59      0.59       267\n",
      "           1       0.50      0.50      0.50       234\n",
      "           2       0.61      0.62      0.62       274\n",
      "           3       0.57      0.58      0.58       267\n",
      "           4       0.60      0.60      0.60       257\n",
      "\n",
      "   micro avg       0.58      0.58      0.58      1299\n",
      "   macro avg       0.57      0.58      0.58      1299\n",
      "weighted avg       0.58      0.58      0.58      1299\n",
      " samples avg       0.56      0.57      0.53      1299\n",
      "\n",
      "Accuracy score: 0.08299595141700405\n",
      "F1 score: 0.5780036275645904\n"
     ]
    },
    {
     "name": "stderr",
     "output_type": "stream",
     "text": [
      "C:\\Users\\ilinardic\\Documents\\FER\\ATR\\project\\TAR-project-2023\\venv\\lib\\site-packages\\sklearn\\metrics\\_classification.py:1344: UndefinedMetricWarning: Precision and F-score are ill-defined and being set to 0.0 in samples with no predicted labels. Use `zero_division` parameter to control this behavior.\n",
      "  _warn_prf(average, modifier, msg_start, len(result))\n",
      "C:\\Users\\ilinardic\\Documents\\FER\\ATR\\project\\TAR-project-2023\\venv\\lib\\site-packages\\sklearn\\metrics\\_classification.py:1344: UndefinedMetricWarning: Recall and F-score are ill-defined and being set to 0.0 in samples with no true labels. Use `zero_division` parameter to control this behavior.\n",
      "  _warn_prf(average, modifier, msg_start, len(result))\n"
     ]
    }
   ],
   "source": [
    "print(classification_report(y_true=y_test, y_pred=tfidf_predictions))\n",
    "print(\"Accuracy score:\", accuracy_score(y_true=y_test, y_pred=tfidf_predictions))\n",
    "print(\"F1 score:\", f1_score(y_pred=tfidf_predictions, y_true=y_test, average='weighted'))"
   ],
   "metadata": {
    "collapsed": false
   }
  }
 ],
 "metadata": {
  "kernelspec": {
   "display_name": "Python 3",
   "language": "python",
   "name": "python3"
  },
  "language_info": {
   "codemirror_mode": {
    "name": "ipython",
    "version": 2
   },
   "file_extension": ".py",
   "mimetype": "text/x-python",
   "name": "python",
   "nbconvert_exporter": "python",
   "pygments_lexer": "ipython2",
   "version": "2.7.6"
  }
 },
 "nbformat": 4,
 "nbformat_minor": 0
}
