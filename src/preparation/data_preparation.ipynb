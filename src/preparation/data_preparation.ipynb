{
 "cells": [
  {
   "cell_type": "code",
   "execution_count": 1,
   "outputs": [
    {
     "data": {
      "text/plain": "           #AUTHID                                               TEXT cEXT   \n0  1997_504851.txt  Well, right now I just woke up from a mid-day ...    n  \\\n1  1997_605191.txt  Well, here we go with the stream of consciousn...    n   \n2  1997_687252.txt  An open keyboard and buttons to push. The thin...    n   \n3  1997_568848.txt  I can't believe it!  It's really happening!  M...    y   \n4  1997_688160.txt  Well, here I go with the good old stream of co...    y   \n\n  cNEU cAGR cCON cOPN  \n0    y    y    n    y  \n1    n    y    n    n  \n2    y    n    y    y  \n3    n    y    y    n  \n4    n    y    n    y  ",
      "text/html": "<div>\n<style scoped>\n    .dataframe tbody tr th:only-of-type {\n        vertical-align: middle;\n    }\n\n    .dataframe tbody tr th {\n        vertical-align: top;\n    }\n\n    .dataframe thead th {\n        text-align: right;\n    }\n</style>\n<table border=\"1\" class=\"dataframe\">\n  <thead>\n    <tr style=\"text-align: right;\">\n      <th></th>\n      <th>#AUTHID</th>\n      <th>TEXT</th>\n      <th>cEXT</th>\n      <th>cNEU</th>\n      <th>cAGR</th>\n      <th>cCON</th>\n      <th>cOPN</th>\n    </tr>\n  </thead>\n  <tbody>\n    <tr>\n      <th>0</th>\n      <td>1997_504851.txt</td>\n      <td>Well, right now I just woke up from a mid-day ...</td>\n      <td>n</td>\n      <td>y</td>\n      <td>y</td>\n      <td>n</td>\n      <td>y</td>\n    </tr>\n    <tr>\n      <th>1</th>\n      <td>1997_605191.txt</td>\n      <td>Well, here we go with the stream of consciousn...</td>\n      <td>n</td>\n      <td>n</td>\n      <td>y</td>\n      <td>n</td>\n      <td>n</td>\n    </tr>\n    <tr>\n      <th>2</th>\n      <td>1997_687252.txt</td>\n      <td>An open keyboard and buttons to push. The thin...</td>\n      <td>n</td>\n      <td>y</td>\n      <td>n</td>\n      <td>y</td>\n      <td>y</td>\n    </tr>\n    <tr>\n      <th>3</th>\n      <td>1997_568848.txt</td>\n      <td>I can't believe it!  It's really happening!  M...</td>\n      <td>y</td>\n      <td>n</td>\n      <td>y</td>\n      <td>y</td>\n      <td>n</td>\n    </tr>\n    <tr>\n      <th>4</th>\n      <td>1997_688160.txt</td>\n      <td>Well, here I go with the good old stream of co...</td>\n      <td>y</td>\n      <td>n</td>\n      <td>y</td>\n      <td>n</td>\n      <td>y</td>\n    </tr>\n  </tbody>\n</table>\n</div>"
     },
     "execution_count": 1,
     "metadata": {},
     "output_type": "execute_result"
    }
   ],
   "source": [
    "import pandas as pd\n",
    "import numpy as np\n",
    "\n",
    "essays=pd.read_excel(\"../../data/essays.xlsx\")\n",
    "essays.head()"
   ],
   "metadata": {
    "collapsed": false
   }
  },
  {
   "cell_type": "code",
   "execution_count": 2,
   "outputs": [
    {
     "name": "stdout",
     "output_type": "stream",
     "text": [
      "The maximum essay length is: 2500.\n",
      "The minimum essay length is: 33.\n",
      "The average essay length is: 652.1333603567085.\n"
     ]
    }
   ],
   "source": [
    "lengths=[]\n",
    "for text in essays.TEXT:\n",
    "    lengths.append(len(text.split()))\n",
    "\n",
    "print(f\"The maximum essay length is: {max(lengths)}.\")\n",
    "print(f\"The minimum essay length is: {min(lengths)}.\")\n",
    "print(f\"The average essay length is: {sum(lengths)/len(lengths)}.\")"
   ],
   "metadata": {
    "collapsed": false
   }
  },
  {
   "cell_type": "code",
   "execution_count": 3,
   "outputs": [],
   "source": [
    "essays.drop(\"#AUTHID\", axis=1, inplace=True)"
   ],
   "metadata": {
    "collapsed": false
   }
  },
  {
   "cell_type": "markdown",
   "source": [
    "# Preparation of class labels"
   ],
   "metadata": {
    "collapsed": false
   }
  },
  {
   "cell_type": "code",
   "execution_count": 4,
   "outputs": [
    {
     "data": {
      "text/plain": "                                                TEXT  cEXT  cNEU  cAGR  cCON   \n0  Well, right now I just woke up from a mid-day ...     0     1     1     0  \\\n1  Well, here we go with the stream of consciousn...     0     0     1     0   \n2  An open keyboard and buttons to push. The thin...     0     1     0     1   \n3  I can't believe it!  It's really happening!  M...     1     0     1     1   \n4  Well, here I go with the good old stream of co...     1     0     1     0   \n\n   cOPN  \n0     1  \n1     0  \n2     1  \n3     0  \n4     1  ",
      "text/html": "<div>\n<style scoped>\n    .dataframe tbody tr th:only-of-type {\n        vertical-align: middle;\n    }\n\n    .dataframe tbody tr th {\n        vertical-align: top;\n    }\n\n    .dataframe thead th {\n        text-align: right;\n    }\n</style>\n<table border=\"1\" class=\"dataframe\">\n  <thead>\n    <tr style=\"text-align: right;\">\n      <th></th>\n      <th>TEXT</th>\n      <th>cEXT</th>\n      <th>cNEU</th>\n      <th>cAGR</th>\n      <th>cCON</th>\n      <th>cOPN</th>\n    </tr>\n  </thead>\n  <tbody>\n    <tr>\n      <th>0</th>\n      <td>Well, right now I just woke up from a mid-day ...</td>\n      <td>0</td>\n      <td>1</td>\n      <td>1</td>\n      <td>0</td>\n      <td>1</td>\n    </tr>\n    <tr>\n      <th>1</th>\n      <td>Well, here we go with the stream of consciousn...</td>\n      <td>0</td>\n      <td>0</td>\n      <td>1</td>\n      <td>0</td>\n      <td>0</td>\n    </tr>\n    <tr>\n      <th>2</th>\n      <td>An open keyboard and buttons to push. The thin...</td>\n      <td>0</td>\n      <td>1</td>\n      <td>0</td>\n      <td>1</td>\n      <td>1</td>\n    </tr>\n    <tr>\n      <th>3</th>\n      <td>I can't believe it!  It's really happening!  M...</td>\n      <td>1</td>\n      <td>0</td>\n      <td>1</td>\n      <td>1</td>\n      <td>0</td>\n    </tr>\n    <tr>\n      <th>4</th>\n      <td>Well, here I go with the good old stream of co...</td>\n      <td>1</td>\n      <td>0</td>\n      <td>1</td>\n      <td>0</td>\n      <td>1</td>\n    </tr>\n  </tbody>\n</table>\n</div>"
     },
     "execution_count": 4,
     "metadata": {},
     "output_type": "execute_result"
    }
   ],
   "source": [
    "personalities=[\"cEXT\", \"cNEU\", \"cAGR\", \"cCON\", \"cOPN\"]\n",
    "\n",
    "for personality in personalities:\n",
    "    essays[personality].replace([\"y\", \"n\"], [1, 0], inplace=True)\n",
    "\n",
    "essays.head()"
   ],
   "metadata": {
    "collapsed": false
   }
  },
  {
   "cell_type": "code",
   "execution_count": 5,
   "outputs": [
    {
     "name": "stderr",
     "output_type": "stream",
     "text": [
      "[nltk_data] Downloading package punkt to\n",
      "[nltk_data]     C:\\Users\\ilinardic\\AppData\\Roaming\\nltk_data...\n",
      "[nltk_data]   Unzipping tokenizers\\punkt.zip.\n"
     ]
    },
    {
     "data": {
      "text/plain": "True"
     },
     "execution_count": 5,
     "metadata": {},
     "output_type": "execute_result"
    }
   ],
   "source": [
    "import nltk\n",
    "nltk.download('punkt')"
   ],
   "metadata": {
    "collapsed": false
   }
  },
  {
   "cell_type": "code",
   "execution_count": 6,
   "outputs": [],
   "source": [
    "import spacy\n",
    "\n",
    "def lemmatizer(text):\n",
    "    \"\"\"\n",
    "    Receives a string as an input and lemmatizes it.\n",
    "    The lemmas are returned in a list.\n",
    "    \"\"\"\n",
    "    # YOUR CODE HERE\n",
    "    nlp = spacy.load(\"en_core_web_sm\")\n",
    "    doc=nlp(text)\n",
    "    lemmas=[]\n",
    "    for token in doc:\n",
    "        lemmas.append(token.lemma_)\n",
    "    return lemmas"
   ],
   "metadata": {
    "collapsed": false
   }
  },
  {
   "cell_type": "code",
   "execution_count": 7,
   "outputs": [
    {
     "data": {
      "text/plain": "'well , right now I just wake up from a mid - day nap . it be sort of weird , but ever since I move to Texas , I have have problem concentrate on thing . I remember start my homework in   10th grade as soon as the clock strike 4 and not stop until it be do . of course it be easy , but I still do it . but when I move here , the homework get a little more challenging and there be a lot more busy work , and so I decide not to spend hour do it , and just get by . but the thing be that I always pay attention in class and just plain out know the stuff , and now that I look back , if I have really work hard and stay on track the last two year without get   lazy , I would have be a genius , but hey , that be all good . it be too late to correct the past , but I do not really know how to stay focused n the future . the one thing I know be that when   people say that b / c they live on campus they can not concentrate , it be b. s. for I it would be easy there , but alas , I be live at home under the watchful eye of my parent and a little nagging sister that just nag and nag and nag . you get my point . another thing be , be that it be just a hassle to have to go all the way back to   school to just to go to library to study . I need to move out , but I do not know how to tell they . do not get I wrong , I see where they be come from and why they do not   want I to move out , but I need to get away and be on my own . they \\'ve shelter I so much and I do not have a worry in the world . the only thing that they ask I to do be keep my room clean and help out with the business once in a while , but I can not even do that . but I need to . but I get enough money from UT to live at a dorm or apartment   next semester and I think I ’ll take advantage of that . but off that topic now , I go to sixth street last night and have a blast . I have not be there in so long . now I know why I love Austin so much . when I live in VA , I use to go up to DC all the time and have a blast , but here , there be so many student run around at night . I just want to have some fun and I know that I be responsible enough to be able to   have fun , but keep my priority straight . live at home , I can not go out at all without they ask where ? with who ?   why ?   when be you come back ?   and all those   question . I just wish I could be treat like a responsible person for once , but   my sister screw that up for I . she go crazy the second she move into college and mess up her whole college career by party too much . and that be the ultimate reason that they do not want I to go and have fun . but I be not little anymore ,   and they need to let I go and explore the world , but I ’m indian ; with indian culture , with indian value . they go against \" have fun . \"   I mean in the sense of meet people or go out with people or partying or just plain have fun . my school be difficult already , but somehow I think that have more freedom will put more pressure on I to   do well in school b / c that be what my parent and ultimately I expect of myself . well it be be fun writing , I do not know if you go anything out of this writing , but it help I get some of my thought into order . so I hope you have fun read it and good luck TA \\'s .    '"
     },
     "execution_count": 7,
     "metadata": {},
     "output_type": "execute_result"
    }
   ],
   "source": [
    "\" \".join(lemmatizer(essays.iloc[0][\"TEXT\"]))"
   ],
   "metadata": {
    "collapsed": false
   }
  },
  {
   "cell_type": "code",
   "execution_count": 8,
   "outputs": [
    {
     "name": "stdout",
     "output_type": "stream",
     "text": [
      "['Well', ',', 'right', 'now', 'I', 'just', 'woke', 'up', 'from', 'a', 'mid-day', 'nap', '.', 'It', \"'s\", 'sort', 'of', 'weird', ',', 'but', 'ever', 'since', 'I', 'moved', 'to', 'Texas', ',', 'I', 'have', 'had', 'problems', 'concentrating', 'on', 'things', '.', 'I', 'remember', 'starting', 'my', 'homework', 'in', '10th', 'grade', 'as', 'soon', 'as', 'the', 'clock', 'struck', '4', 'and', 'not', 'stopping', 'until', 'it', 'was', 'done', '.', 'Of', 'course', 'it', 'was', 'easier', ',', 'but', 'I', 'still', 'did', 'it', '.', 'But', 'when', 'I', 'moved', 'here', ',', 'the', 'homework', 'got', 'a', 'little', 'more', 'challenging', 'and', 'there', 'was', 'a', 'lot', 'more', 'busy', 'work', ',', 'and', 'so', 'I', 'decided', 'not', 'to', 'spend', 'hours', 'doing', 'it', ',', 'and', 'just', 'getting', 'by', '.', 'But', 'the', 'thing', 'was', 'that', 'I', 'always', 'paid', 'attention', 'in', 'class', 'and', 'just', 'plain', 'out', 'knew', 'the', 'stuff', ',', 'and', 'now', 'that', 'I', 'look', 'back', ',', 'if', 'I', 'had', 'really', 'worked', 'hard', 'and', 'stayed', 'on', 'track', 'the', 'last', 'two', 'years', 'without', 'getting', 'lazy', ',', 'I', 'would', 'have', 'been', 'a', 'genius', ',', 'but', 'hey', ',', 'that', \"'s\", 'all', 'good', '.', 'It', \"'s\", 'too', 'late', 'to', 'correct', 'the', 'past', ',', 'but', 'I', 'do', \"n't\", 'really', 'know', 'how', 'to', 'stay', 'focused', 'n', 'the', 'future', '.', 'The', 'one', 'thing', 'I', 'know', 'is', 'that', 'when', 'people', 'say', 'that', 'b/c', 'they', 'live', 'on', 'campus', 'they', 'ca', \"n't\", 'concentrate', ',', 'it', \"'s\", 'b.', 's.', 'For', 'me', 'it', 'would', 'be', 'easier', 'there', ',', 'but', 'alas', ',', 'I', \"'m\", 'living', 'at', 'home', 'under', 'the', 'watchful', 'eye', 'of', 'my', 'parents', 'and', 'a', 'little', 'nagging', 'sister', 'that', 'just', 'nags', 'and', 'nags', 'and', 'nags', '.', 'You', 'get', 'my', 'point', '.', 'Another', 'thing', 'is', ',', 'is', 'that', 'it', \"'s\", 'just', 'a', 'hassle', 'to', 'have', 'to', 'go', 'all', 'the', 'way', 'back', 'to', 'school', 'to', 'just', 'to', 'go', 'to', 'library', 'to', 'study', '.', 'I', 'need', 'to', 'move', 'out', ',', 'but', 'I', 'do', \"n't\", 'know', 'how', 'to', 'tell', 'them', '.', 'Do', \"n't\", 'get', 'me', 'wrong', ',', 'I', 'see', 'where', 'they', \"'re\", 'coming', 'from', 'and', 'why', 'they', 'do', \"n't\", 'want', 'me', 'to', 'move', 'out', ',', 'but', 'I', 'need', 'to', 'get', 'away', 'and', 'be', 'on', 'my', 'own', '.', 'They', \"'ve\", 'sheltered', 'me', 'so', 'much', 'and', 'I', 'do', \"n't\", 'have', 'a', 'worry', 'in', 'the', 'world', '.', 'The', 'only', 'thing', 'that', 'they', 'ask', 'me', 'to', 'do', 'is', 'keep', 'my', 'room', 'clean', 'and', 'help', 'out', 'with', 'the', 'business', 'once', 'in', 'a', 'while', ',', 'but', 'I', 'ca', \"n't\", 'even', 'do', 'that', '.', 'But', 'I', 'need', 'to', '.', 'But', 'I', 'got', 'enough', 'money', 'from', 'UT', 'to', 'live', 'at', 'a', 'dorm', 'or', 'apartment', 'next', 'semester', 'and', 'I', 'think', 'I', '’', 'll', 'take', 'advantage', 'of', 'that', '.', 'But', 'off', 'that', 'topic', 'now', ',', 'I', 'went', 'to', 'sixth', 'street', 'last', 'night', 'and', 'had', 'a', 'blast', '.', 'I', 'have', \"n't\", 'been', 'there', 'in', 'so', 'long', '.', 'Now', 'I', 'know', 'why', 'I', 'love', 'Austin', 'so', 'much', '.', 'When', 'I', 'lived', 'in', 'VA', ',', 'I', 'used', 'to', 'go', 'up', 'to', 'DC', 'all', 'the', 'time', 'and', 'had', 'a', 'blast', ',', 'but', 'here', ',', 'there', 'are', 'so', 'many', 'students', 'running', 'around', 'at', 'night', '.', 'I', 'just', 'want', 'to', 'have', 'some', 'fun', 'and', 'I', 'know', 'that', 'I', 'am', 'responsible', 'enough', 'to', 'be', 'able', 'to', 'have', 'fun', ',', 'but', 'keep', 'my', 'priorities', 'straight', '.', 'Living', 'at', 'home', ',', 'I', 'ca', \"n't\", 'go', 'out', 'at', 'all', 'without', 'them', 'asking', 'where', '?', 'with', 'who', '?', 'why', '?', 'when', 'are', 'you', 'coming', 'back', '?', 'and', 'all', 'those', 'questions', '.', 'I', 'just', 'wish', 'I', 'could', 'be', 'treated', 'like', 'a', 'responsible', 'person', 'for', 'once', ',', 'but', 'my', 'sister', 'screwed', 'that', 'up', 'for', 'me', '.', 'She', 'went', 'crazy', 'the', 'second', 'she', 'moved', 'into', 'college', 'and', 'messed', 'up', 'her', 'whole', 'college', 'career', 'by', 'partying', 'too', 'much', '.', 'And', 'that', \"'s\", 'the', 'ultimate', 'reason', 'that', 'they', 'do', \"n't\", 'want', 'me', 'to', 'go', 'and', 'have', 'fun', '.', 'But', 'I', \"'m\", 'not', 'little', 'anymore', ',', 'and', 'they', 'need', 'to', 'let', 'me', 'go', 'and', 'explore', 'the', 'world', ',', 'but', 'I', '’', 'm', 'Indian', ';', 'with', 'Indian', 'culture', ',', 'with', 'Indian', 'values', '.', 'They', 'go', 'against', '``', 'having', 'fun.', '``', 'I', 'mean', 'in', 'the', 'sense', 'of', 'meeting', 'people', 'or', 'going', 'out', 'with', 'people', 'or', 'partying', 'or', 'just', 'plain', 'having', 'fun', '.', 'My', 'school', 'is', 'difficult', 'already', ',', 'but', 'somehow', 'I', 'think', 'that', 'having', 'more', 'freedom', 'will', 'put', 'more', 'pressure', 'on', 'me', 'to', 'do', 'better', 'in', 'school', 'b/c', 'that', \"'s\", 'what', 'my', 'parents', 'and', 'ultimately', 'I', 'expect', 'of', 'myself', '.', 'Well', 'it', \"'s\", 'been', 'fun', 'writing', ',', 'I', 'do', \"n't\", 'know', 'if', 'you', 'go', 'anything', 'out', 'of', 'this', 'writing', ',', 'but', 'it', 'helped', 'me', 'get', 'some', 'of', 'my', 'thoughts', 'into', 'order', '.', 'So', 'I', 'hope', 'you', 'had', 'fun', 'reading', 'it', 'and', 'good', 'luck', 'TA', \"'s\", '.']\n"
     ]
    }
   ],
   "source": [
    "print(nltk.word_tokenize(essays.iloc[0][\"TEXT\"]))"
   ],
   "metadata": {
    "collapsed": false
   }
  },
  {
   "cell_type": "code",
   "execution_count": 9,
   "outputs": [],
   "source": [
    "import string\n",
    "\n",
    "def punc_lower(text):\n",
    "    \"\"\"\n",
    "    Removes punctuation and converts text to lowercase.\n",
    "    \"\"\"\n",
    "\n",
    "    no_punc=text.translate(str.maketrans(\"\",\"\",string.punctuation))\n",
    "\n",
    "    return no_punc.lower()"
   ],
   "metadata": {
    "collapsed": false
   }
  },
  {
   "cell_type": "code",
   "execution_count": 10,
   "outputs": [],
   "source": [
    "essays[\"words\"]=essays.apply(lambda x: nltk.word_tokenize(punc_lower(x[\"TEXT\"])), axis=1)"
   ],
   "metadata": {
    "collapsed": false
   }
  },
  {
   "cell_type": "code",
   "execution_count": 11,
   "outputs": [],
   "source": [
    "essays[\"sentences\"]=essays.apply(lambda x: nltk.sent_tokenize(x[\"TEXT\"].lower()), axis=1)"
   ],
   "metadata": {
    "collapsed": false
   }
  },
  {
   "cell_type": "code",
   "execution_count": 12,
   "outputs": [
    {
     "data": {
      "text/plain": "['well',\n 'right',\n 'now',\n 'i',\n 'just',\n 'woke',\n 'up',\n 'from',\n 'a',\n 'midday',\n 'nap',\n 'its',\n 'sort',\n 'of',\n 'weird',\n 'but',\n 'ever',\n 'since',\n 'i',\n 'moved',\n 'to',\n 'texas',\n 'i',\n 'have',\n 'had',\n 'problems',\n 'concentrating',\n 'on',\n 'things',\n 'i',\n 'remember',\n 'starting',\n 'my',\n 'homework',\n 'in',\n '10th',\n 'grade',\n 'as',\n 'soon',\n 'as',\n 'the',\n 'clock',\n 'struck',\n '4',\n 'and',\n 'not',\n 'stopping',\n 'until',\n 'it',\n 'was',\n 'done',\n 'of',\n 'course',\n 'it',\n 'was',\n 'easier',\n 'but',\n 'i',\n 'still',\n 'did',\n 'it',\n 'but',\n 'when',\n 'i',\n 'moved',\n 'here',\n 'the',\n 'homework',\n 'got',\n 'a',\n 'little',\n 'more',\n 'challenging',\n 'and',\n 'there',\n 'was',\n 'a',\n 'lot',\n 'more',\n 'busy',\n 'work',\n 'and',\n 'so',\n 'i',\n 'decided',\n 'not',\n 'to',\n 'spend',\n 'hours',\n 'doing',\n 'it',\n 'and',\n 'just',\n 'getting',\n 'by',\n 'but',\n 'the',\n 'thing',\n 'was',\n 'that',\n 'i',\n 'always',\n 'paid',\n 'attention',\n 'in',\n 'class',\n 'and',\n 'just',\n 'plain',\n 'out',\n 'knew',\n 'the',\n 'stuff',\n 'and',\n 'now',\n 'that',\n 'i',\n 'look',\n 'back',\n 'if',\n 'i',\n 'had',\n 'really',\n 'worked',\n 'hard',\n 'and',\n 'stayed',\n 'on',\n 'track',\n 'the',\n 'last',\n 'two',\n 'years',\n 'without',\n 'getting',\n 'lazy',\n 'i',\n 'would',\n 'have',\n 'been',\n 'a',\n 'genius',\n 'but',\n 'hey',\n 'thats',\n 'all',\n 'good',\n 'its',\n 'too',\n 'late',\n 'to',\n 'correct',\n 'the',\n 'past',\n 'but',\n 'i',\n 'dont',\n 'really',\n 'know',\n 'how',\n 'to',\n 'stay',\n 'focused',\n 'n',\n 'the',\n 'future',\n 'the',\n 'one',\n 'thing',\n 'i',\n 'know',\n 'is',\n 'that',\n 'when',\n 'people',\n 'say',\n 'that',\n 'bc',\n 'they',\n 'live',\n 'on',\n 'campus',\n 'they',\n 'cant',\n 'concentrate',\n 'its',\n 'b',\n 's',\n 'for',\n 'me',\n 'it',\n 'would',\n 'be',\n 'easier',\n 'there',\n 'but',\n 'alas',\n 'im',\n 'living',\n 'at',\n 'home',\n 'under',\n 'the',\n 'watchful',\n 'eye',\n 'of',\n 'my',\n 'parents',\n 'and',\n 'a',\n 'little',\n 'nagging',\n 'sister',\n 'that',\n 'just',\n 'nags',\n 'and',\n 'nags',\n 'and',\n 'nags',\n 'you',\n 'get',\n 'my',\n 'point',\n 'another',\n 'thing',\n 'is',\n 'is',\n 'that',\n 'its',\n 'just',\n 'a',\n 'hassle',\n 'to',\n 'have',\n 'to',\n 'go',\n 'all',\n 'the',\n 'way',\n 'back',\n 'to',\n 'school',\n 'to',\n 'just',\n 'to',\n 'go',\n 'to',\n 'library',\n 'to',\n 'study',\n 'i',\n 'need',\n 'to',\n 'move',\n 'out',\n 'but',\n 'i',\n 'dont',\n 'know',\n 'how',\n 'to',\n 'tell',\n 'them',\n 'dont',\n 'get',\n 'me',\n 'wrong',\n 'i',\n 'see',\n 'where',\n 'theyre',\n 'coming',\n 'from',\n 'and',\n 'why',\n 'they',\n 'dont',\n 'want',\n 'me',\n 'to',\n 'move',\n 'out',\n 'but',\n 'i',\n 'need',\n 'to',\n 'get',\n 'away',\n 'and',\n 'be',\n 'on',\n 'my',\n 'own',\n 'theyve',\n 'sheltered',\n 'me',\n 'so',\n 'much',\n 'and',\n 'i',\n 'dont',\n 'have',\n 'a',\n 'worry',\n 'in',\n 'the',\n 'world',\n 'the',\n 'only',\n 'thing',\n 'that',\n 'they',\n 'ask',\n 'me',\n 'to',\n 'do',\n 'is',\n 'keep',\n 'my',\n 'room',\n 'clean',\n 'and',\n 'help',\n 'out',\n 'with',\n 'the',\n 'business',\n 'once',\n 'in',\n 'a',\n 'while',\n 'but',\n 'i',\n 'cant',\n 'even',\n 'do',\n 'that',\n 'but',\n 'i',\n 'need',\n 'to',\n 'but',\n 'i',\n 'got',\n 'enough',\n 'money',\n 'from',\n 'ut',\n 'to',\n 'live',\n 'at',\n 'a',\n 'dorm',\n 'or',\n 'apartment',\n 'next',\n 'semester',\n 'and',\n 'i',\n 'think',\n 'i',\n '’',\n 'll',\n 'take',\n 'advantage',\n 'of',\n 'that',\n 'but',\n 'off',\n 'that',\n 'topic',\n 'now',\n 'i',\n 'went',\n 'to',\n 'sixth',\n 'street',\n 'last',\n 'night',\n 'and',\n 'had',\n 'a',\n 'blast',\n 'i',\n 'havent',\n 'been',\n 'there',\n 'in',\n 'so',\n 'long',\n 'now',\n 'i',\n 'know',\n 'why',\n 'i',\n 'love',\n 'austin',\n 'so',\n 'much',\n 'when',\n 'i',\n 'lived',\n 'in',\n 'va',\n 'i',\n 'used',\n 'to',\n 'go',\n 'up',\n 'to',\n 'dc',\n 'all',\n 'the',\n 'time',\n 'and',\n 'had',\n 'a',\n 'blast',\n 'but',\n 'here',\n 'there',\n 'are',\n 'so',\n 'many',\n 'students',\n 'running',\n 'around',\n 'at',\n 'night',\n 'i',\n 'just',\n 'want',\n 'to',\n 'have',\n 'some',\n 'fun',\n 'and',\n 'i',\n 'know',\n 'that',\n 'i',\n 'am',\n 'responsible',\n 'enough',\n 'to',\n 'be',\n 'able',\n 'to',\n 'have',\n 'fun',\n 'but',\n 'keep',\n 'my',\n 'priorities',\n 'straight',\n 'living',\n 'at',\n 'home',\n 'i',\n 'cant',\n 'go',\n 'out',\n 'at',\n 'all',\n 'without',\n 'them',\n 'asking',\n 'where',\n 'with',\n 'who',\n 'why',\n 'when',\n 'are',\n 'you',\n 'coming',\n 'back',\n 'and',\n 'all',\n 'those',\n 'questions',\n 'i',\n 'just',\n 'wish',\n 'i',\n 'could',\n 'be',\n 'treated',\n 'like',\n 'a',\n 'responsible',\n 'person',\n 'for',\n 'once',\n 'but',\n 'my',\n 'sister',\n 'screwed',\n 'that',\n 'up',\n 'for',\n 'me',\n 'she',\n 'went',\n 'crazy',\n 'the',\n 'second',\n 'she',\n 'moved',\n 'into',\n 'college',\n 'and',\n 'messed',\n 'up',\n 'her',\n 'whole',\n 'college',\n 'career',\n 'by',\n 'partying',\n 'too',\n 'much',\n 'and',\n 'thats',\n 'the',\n 'ultimate',\n 'reason',\n 'that',\n 'they',\n 'dont',\n 'want',\n 'me',\n 'to',\n 'go',\n 'and',\n 'have',\n 'fun',\n 'but',\n 'im',\n 'not',\n 'little',\n 'anymore',\n 'and',\n 'they',\n 'need',\n 'to',\n 'let',\n 'me',\n 'go',\n 'and',\n 'explore',\n 'the',\n 'world',\n 'but',\n 'i',\n '’',\n 'm',\n 'indian',\n 'with',\n 'indian',\n 'culture',\n 'with',\n 'indian',\n 'values',\n 'they',\n 'go',\n 'against',\n 'having',\n 'fun',\n 'i',\n 'mean',\n 'in',\n 'the',\n 'sense',\n 'of',\n 'meeting',\n 'people',\n 'or',\n 'going',\n 'out',\n 'with',\n 'people',\n 'or',\n 'partying',\n 'or',\n 'just',\n 'plain',\n 'having',\n 'fun',\n 'my',\n 'school',\n 'is',\n 'difficult',\n 'already',\n 'but',\n 'somehow',\n 'i',\n 'think',\n 'that',\n 'having',\n 'more',\n 'freedom',\n 'will',\n 'put',\n 'more',\n 'pressure',\n 'on',\n 'me',\n 'to',\n 'do',\n 'better',\n 'in',\n 'school',\n 'bc',\n 'thats',\n 'what',\n 'my',\n 'parents',\n 'and',\n 'ultimately',\n 'i',\n 'expect',\n 'of',\n 'myself',\n 'well',\n 'its',\n 'been',\n 'fun',\n 'writing',\n 'i',\n 'dont',\n 'know',\n 'if',\n 'you',\n 'go',\n 'anything',\n 'out',\n 'of',\n 'this',\n 'writing',\n 'but',\n 'it',\n 'helped',\n 'me',\n 'get',\n 'some',\n 'of',\n 'my',\n 'thoughts',\n 'into',\n 'order',\n 'so',\n 'i',\n 'hope',\n 'you',\n 'had',\n 'fun',\n 'reading',\n 'it',\n 'and',\n 'good',\n 'luck',\n 'tas']"
     },
     "execution_count": 12,
     "metadata": {},
     "output_type": "execute_result"
    }
   ],
   "source": [
    "essays.iloc[0].words"
   ],
   "metadata": {
    "collapsed": false
   }
  },
  {
   "cell_type": "code",
   "execution_count": 13,
   "outputs": [
    {
     "data": {
      "text/plain": "['well, right now i just woke up from a mid-day nap.',\n \"it's sort of weird, but ever since i moved to texas, i have had problems concentrating on things.\",\n 'i remember starting my homework in  10th grade as soon as the clock struck 4 and not stopping until it was done.',\n 'of course it was easier, but i still did it.',\n 'but when i moved here, the homework got a little more challenging and there was a lot more busy work, and so i decided not to spend hours doing it, and just getting by.',\n \"but the thing was that i always paid attention in class and just plain out knew the stuff, and now that i look back, if i had really worked hard and stayed on track the last two years without getting  lazy, i would have been a genius, but hey, that's all good.\",\n \"it's too late to correct the past, but i don't really know how to stay focused n the future.\",\n \"the one thing i know is that when  people say that b/c they live on campus they can't concentrate, it's b. s. for me it would be easier there, but alas, i'm living at home under the watchful eye of my parents and a little nagging sister that just nags and nags and nags.\",\n 'you get my point.',\n \"another thing is, is that it's just a hassle to have to go all the way back to  school to just to go to library to study.\",\n \"i need to move out, but i don't know how to tell them.\",\n \"don't get me wrong, i see where they're coming from and why they don't  want me to move out, but i need to get away and be on my own.\",\n \"they've sheltered me so much and i don't have a worry in the world.\",\n \"the only thing that they ask me to do is keep my room clean and help out with the business once in a while, but i can't even do that.\",\n 'but i need to.',\n 'but i got enough money from ut to live at a dorm or apartment  next semester and i think i’ll take advantage of that.',\n 'but off that topic now, i went to sixth street last night and had a blast.',\n \"i haven't been there in so long.\",\n 'now i know why i love austin so much.',\n 'when i lived in va, i used to go up to dc all the time and had a blast, but here, there are so many students running around at night.',\n 'i just want to have some fun and i know that i am responsible enough to be able to  have fun, but keep my priorities straight.',\n \"living at home, i can't go out at all without them asking where?\",\n 'with who?',\n 'why?',\n 'when are you coming back?',\n 'and all those  questions.',\n 'i just wish i could be treated like a responsible person for once, but  my sister screwed that up for me.',\n 'she went crazy the second she moved into college and messed up her whole college career by partying too much.',\n \"and that's the ultimate reason that they don't want me to go and have fun.\",\n \"but i'm not little anymore,  and they need to let me go and explore the world, but i’m indian; with indian culture, with indian values.\",\n 'they go against \"having fun. \"',\n 'i mean in the sense of meeting people or going out with people or partying or just plain having fun.',\n \"my school is difficult already, but somehow i think that having more freedom will put more pressure on me to  do better in school b/c that's what my parents and ultimately i expect of myself.\",\n \"well it's been fun writing, i don't know if you go anything out of this writing, but it helped me get some of my thoughts into order.\",\n \"so i hope you had fun reading it and good luck ta's.\"]"
     },
     "execution_count": 13,
     "metadata": {},
     "output_type": "execute_result"
    }
   ],
   "source": [
    "essays.iloc[0].sentences"
   ],
   "metadata": {
    "collapsed": false
   }
  },
  {
   "cell_type": "code",
   "execution_count": 14,
   "outputs": [],
   "source": [
    "essays[\"bigrams\"]=essays.apply(lambda x: list(nltk.ngrams(nltk.word_tokenize(punc_lower(x[\"TEXT\"])),2)), axis=1)"
   ],
   "metadata": {
    "collapsed": false
   }
  },
  {
   "cell_type": "code",
   "execution_count": 15,
   "outputs": [
    {
     "data": {
      "text/plain": "[('well', 'right'),\n ('right', 'now'),\n ('now', 'i'),\n ('i', 'just'),\n ('just', 'woke'),\n ('woke', 'up'),\n ('up', 'from'),\n ('from', 'a'),\n ('a', 'midday'),\n ('midday', 'nap'),\n ('nap', 'its'),\n ('its', 'sort'),\n ('sort', 'of'),\n ('of', 'weird'),\n ('weird', 'but'),\n ('but', 'ever'),\n ('ever', 'since'),\n ('since', 'i'),\n ('i', 'moved'),\n ('moved', 'to'),\n ('to', 'texas'),\n ('texas', 'i'),\n ('i', 'have'),\n ('have', 'had'),\n ('had', 'problems'),\n ('problems', 'concentrating'),\n ('concentrating', 'on'),\n ('on', 'things'),\n ('things', 'i'),\n ('i', 'remember'),\n ('remember', 'starting'),\n ('starting', 'my'),\n ('my', 'homework'),\n ('homework', 'in'),\n ('in', '10th'),\n ('10th', 'grade'),\n ('grade', 'as'),\n ('as', 'soon'),\n ('soon', 'as'),\n ('as', 'the'),\n ('the', 'clock'),\n ('clock', 'struck'),\n ('struck', '4'),\n ('4', 'and'),\n ('and', 'not'),\n ('not', 'stopping'),\n ('stopping', 'until'),\n ('until', 'it'),\n ('it', 'was'),\n ('was', 'done'),\n ('done', 'of'),\n ('of', 'course'),\n ('course', 'it'),\n ('it', 'was'),\n ('was', 'easier'),\n ('easier', 'but'),\n ('but', 'i'),\n ('i', 'still'),\n ('still', 'did'),\n ('did', 'it'),\n ('it', 'but'),\n ('but', 'when'),\n ('when', 'i'),\n ('i', 'moved'),\n ('moved', 'here'),\n ('here', 'the'),\n ('the', 'homework'),\n ('homework', 'got'),\n ('got', 'a'),\n ('a', 'little'),\n ('little', 'more'),\n ('more', 'challenging'),\n ('challenging', 'and'),\n ('and', 'there'),\n ('there', 'was'),\n ('was', 'a'),\n ('a', 'lot'),\n ('lot', 'more'),\n ('more', 'busy'),\n ('busy', 'work'),\n ('work', 'and'),\n ('and', 'so'),\n ('so', 'i'),\n ('i', 'decided'),\n ('decided', 'not'),\n ('not', 'to'),\n ('to', 'spend'),\n ('spend', 'hours'),\n ('hours', 'doing'),\n ('doing', 'it'),\n ('it', 'and'),\n ('and', 'just'),\n ('just', 'getting'),\n ('getting', 'by'),\n ('by', 'but'),\n ('but', 'the'),\n ('the', 'thing'),\n ('thing', 'was'),\n ('was', 'that'),\n ('that', 'i'),\n ('i', 'always'),\n ('always', 'paid'),\n ('paid', 'attention'),\n ('attention', 'in'),\n ('in', 'class'),\n ('class', 'and'),\n ('and', 'just'),\n ('just', 'plain'),\n ('plain', 'out'),\n ('out', 'knew'),\n ('knew', 'the'),\n ('the', 'stuff'),\n ('stuff', 'and'),\n ('and', 'now'),\n ('now', 'that'),\n ('that', 'i'),\n ('i', 'look'),\n ('look', 'back'),\n ('back', 'if'),\n ('if', 'i'),\n ('i', 'had'),\n ('had', 'really'),\n ('really', 'worked'),\n ('worked', 'hard'),\n ('hard', 'and'),\n ('and', 'stayed'),\n ('stayed', 'on'),\n ('on', 'track'),\n ('track', 'the'),\n ('the', 'last'),\n ('last', 'two'),\n ('two', 'years'),\n ('years', 'without'),\n ('without', 'getting'),\n ('getting', 'lazy'),\n ('lazy', 'i'),\n ('i', 'would'),\n ('would', 'have'),\n ('have', 'been'),\n ('been', 'a'),\n ('a', 'genius'),\n ('genius', 'but'),\n ('but', 'hey'),\n ('hey', 'thats'),\n ('thats', 'all'),\n ('all', 'good'),\n ('good', 'its'),\n ('its', 'too'),\n ('too', 'late'),\n ('late', 'to'),\n ('to', 'correct'),\n ('correct', 'the'),\n ('the', 'past'),\n ('past', 'but'),\n ('but', 'i'),\n ('i', 'dont'),\n ('dont', 'really'),\n ('really', 'know'),\n ('know', 'how'),\n ('how', 'to'),\n ('to', 'stay'),\n ('stay', 'focused'),\n ('focused', 'n'),\n ('n', 'the'),\n ('the', 'future'),\n ('future', 'the'),\n ('the', 'one'),\n ('one', 'thing'),\n ('thing', 'i'),\n ('i', 'know'),\n ('know', 'is'),\n ('is', 'that'),\n ('that', 'when'),\n ('when', 'people'),\n ('people', 'say'),\n ('say', 'that'),\n ('that', 'bc'),\n ('bc', 'they'),\n ('they', 'live'),\n ('live', 'on'),\n ('on', 'campus'),\n ('campus', 'they'),\n ('they', 'cant'),\n ('cant', 'concentrate'),\n ('concentrate', 'its'),\n ('its', 'b'),\n ('b', 's'),\n ('s', 'for'),\n ('for', 'me'),\n ('me', 'it'),\n ('it', 'would'),\n ('would', 'be'),\n ('be', 'easier'),\n ('easier', 'there'),\n ('there', 'but'),\n ('but', 'alas'),\n ('alas', 'im'),\n ('im', 'living'),\n ('living', 'at'),\n ('at', 'home'),\n ('home', 'under'),\n ('under', 'the'),\n ('the', 'watchful'),\n ('watchful', 'eye'),\n ('eye', 'of'),\n ('of', 'my'),\n ('my', 'parents'),\n ('parents', 'and'),\n ('and', 'a'),\n ('a', 'little'),\n ('little', 'nagging'),\n ('nagging', 'sister'),\n ('sister', 'that'),\n ('that', 'just'),\n ('just', 'nags'),\n ('nags', 'and'),\n ('and', 'nags'),\n ('nags', 'and'),\n ('and', 'nags'),\n ('nags', 'you'),\n ('you', 'get'),\n ('get', 'my'),\n ('my', 'point'),\n ('point', 'another'),\n ('another', 'thing'),\n ('thing', 'is'),\n ('is', 'is'),\n ('is', 'that'),\n ('that', 'its'),\n ('its', 'just'),\n ('just', 'a'),\n ('a', 'hassle'),\n ('hassle', 'to'),\n ('to', 'have'),\n ('have', 'to'),\n ('to', 'go'),\n ('go', 'all'),\n ('all', 'the'),\n ('the', 'way'),\n ('way', 'back'),\n ('back', 'to'),\n ('to', 'school'),\n ('school', 'to'),\n ('to', 'just'),\n ('just', 'to'),\n ('to', 'go'),\n ('go', 'to'),\n ('to', 'library'),\n ('library', 'to'),\n ('to', 'study'),\n ('study', 'i'),\n ('i', 'need'),\n ('need', 'to'),\n ('to', 'move'),\n ('move', 'out'),\n ('out', 'but'),\n ('but', 'i'),\n ('i', 'dont'),\n ('dont', 'know'),\n ('know', 'how'),\n ('how', 'to'),\n ('to', 'tell'),\n ('tell', 'them'),\n ('them', 'dont'),\n ('dont', 'get'),\n ('get', 'me'),\n ('me', 'wrong'),\n ('wrong', 'i'),\n ('i', 'see'),\n ('see', 'where'),\n ('where', 'theyre'),\n ('theyre', 'coming'),\n ('coming', 'from'),\n ('from', 'and'),\n ('and', 'why'),\n ('why', 'they'),\n ('they', 'dont'),\n ('dont', 'want'),\n ('want', 'me'),\n ('me', 'to'),\n ('to', 'move'),\n ('move', 'out'),\n ('out', 'but'),\n ('but', 'i'),\n ('i', 'need'),\n ('need', 'to'),\n ('to', 'get'),\n ('get', 'away'),\n ('away', 'and'),\n ('and', 'be'),\n ('be', 'on'),\n ('on', 'my'),\n ('my', 'own'),\n ('own', 'theyve'),\n ('theyve', 'sheltered'),\n ('sheltered', 'me'),\n ('me', 'so'),\n ('so', 'much'),\n ('much', 'and'),\n ('and', 'i'),\n ('i', 'dont'),\n ('dont', 'have'),\n ('have', 'a'),\n ('a', 'worry'),\n ('worry', 'in'),\n ('in', 'the'),\n ('the', 'world'),\n ('world', 'the'),\n ('the', 'only'),\n ('only', 'thing'),\n ('thing', 'that'),\n ('that', 'they'),\n ('they', 'ask'),\n ('ask', 'me'),\n ('me', 'to'),\n ('to', 'do'),\n ('do', 'is'),\n ('is', 'keep'),\n ('keep', 'my'),\n ('my', 'room'),\n ('room', 'clean'),\n ('clean', 'and'),\n ('and', 'help'),\n ('help', 'out'),\n ('out', 'with'),\n ('with', 'the'),\n ('the', 'business'),\n ('business', 'once'),\n ('once', 'in'),\n ('in', 'a'),\n ('a', 'while'),\n ('while', 'but'),\n ('but', 'i'),\n ('i', 'cant'),\n ('cant', 'even'),\n ('even', 'do'),\n ('do', 'that'),\n ('that', 'but'),\n ('but', 'i'),\n ('i', 'need'),\n ('need', 'to'),\n ('to', 'but'),\n ('but', 'i'),\n ('i', 'got'),\n ('got', 'enough'),\n ('enough', 'money'),\n ('money', 'from'),\n ('from', 'ut'),\n ('ut', 'to'),\n ('to', 'live'),\n ('live', 'at'),\n ('at', 'a'),\n ('a', 'dorm'),\n ('dorm', 'or'),\n ('or', 'apartment'),\n ('apartment', 'next'),\n ('next', 'semester'),\n ('semester', 'and'),\n ('and', 'i'),\n ('i', 'think'),\n ('think', 'i'),\n ('i', '’'),\n ('’', 'll'),\n ('ll', 'take'),\n ('take', 'advantage'),\n ('advantage', 'of'),\n ('of', 'that'),\n ('that', 'but'),\n ('but', 'off'),\n ('off', 'that'),\n ('that', 'topic'),\n ('topic', 'now'),\n ('now', 'i'),\n ('i', 'went'),\n ('went', 'to'),\n ('to', 'sixth'),\n ('sixth', 'street'),\n ('street', 'last'),\n ('last', 'night'),\n ('night', 'and'),\n ('and', 'had'),\n ('had', 'a'),\n ('a', 'blast'),\n ('blast', 'i'),\n ('i', 'havent'),\n ('havent', 'been'),\n ('been', 'there'),\n ('there', 'in'),\n ('in', 'so'),\n ('so', 'long'),\n ('long', 'now'),\n ('now', 'i'),\n ('i', 'know'),\n ('know', 'why'),\n ('why', 'i'),\n ('i', 'love'),\n ('love', 'austin'),\n ('austin', 'so'),\n ('so', 'much'),\n ('much', 'when'),\n ('when', 'i'),\n ('i', 'lived'),\n ('lived', 'in'),\n ('in', 'va'),\n ('va', 'i'),\n ('i', 'used'),\n ('used', 'to'),\n ('to', 'go'),\n ('go', 'up'),\n ('up', 'to'),\n ('to', 'dc'),\n ('dc', 'all'),\n ('all', 'the'),\n ('the', 'time'),\n ('time', 'and'),\n ('and', 'had'),\n ('had', 'a'),\n ('a', 'blast'),\n ('blast', 'but'),\n ('but', 'here'),\n ('here', 'there'),\n ('there', 'are'),\n ('are', 'so'),\n ('so', 'many'),\n ('many', 'students'),\n ('students', 'running'),\n ('running', 'around'),\n ('around', 'at'),\n ('at', 'night'),\n ('night', 'i'),\n ('i', 'just'),\n ('just', 'want'),\n ('want', 'to'),\n ('to', 'have'),\n ('have', 'some'),\n ('some', 'fun'),\n ('fun', 'and'),\n ('and', 'i'),\n ('i', 'know'),\n ('know', 'that'),\n ('that', 'i'),\n ('i', 'am'),\n ('am', 'responsible'),\n ('responsible', 'enough'),\n ('enough', 'to'),\n ('to', 'be'),\n ('be', 'able'),\n ('able', 'to'),\n ('to', 'have'),\n ('have', 'fun'),\n ('fun', 'but'),\n ('but', 'keep'),\n ('keep', 'my'),\n ('my', 'priorities'),\n ('priorities', 'straight'),\n ('straight', 'living'),\n ('living', 'at'),\n ('at', 'home'),\n ('home', 'i'),\n ('i', 'cant'),\n ('cant', 'go'),\n ('go', 'out'),\n ('out', 'at'),\n ('at', 'all'),\n ('all', 'without'),\n ('without', 'them'),\n ('them', 'asking'),\n ('asking', 'where'),\n ('where', 'with'),\n ('with', 'who'),\n ('who', 'why'),\n ('why', 'when'),\n ('when', 'are'),\n ('are', 'you'),\n ('you', 'coming'),\n ('coming', 'back'),\n ('back', 'and'),\n ('and', 'all'),\n ('all', 'those'),\n ('those', 'questions'),\n ('questions', 'i'),\n ('i', 'just'),\n ('just', 'wish'),\n ('wish', 'i'),\n ('i', 'could'),\n ('could', 'be'),\n ('be', 'treated'),\n ('treated', 'like'),\n ('like', 'a'),\n ('a', 'responsible'),\n ('responsible', 'person'),\n ('person', 'for'),\n ('for', 'once'),\n ('once', 'but'),\n ('but', 'my'),\n ('my', 'sister'),\n ('sister', 'screwed'),\n ('screwed', 'that'),\n ('that', 'up'),\n ('up', 'for'),\n ('for', 'me'),\n ('me', 'she'),\n ('she', 'went'),\n ('went', 'crazy'),\n ('crazy', 'the'),\n ('the', 'second'),\n ('second', 'she'),\n ('she', 'moved'),\n ('moved', 'into'),\n ('into', 'college'),\n ('college', 'and'),\n ('and', 'messed'),\n ('messed', 'up'),\n ('up', 'her'),\n ('her', 'whole'),\n ('whole', 'college'),\n ('college', 'career'),\n ('career', 'by'),\n ('by', 'partying'),\n ('partying', 'too'),\n ('too', 'much'),\n ('much', 'and'),\n ('and', 'thats'),\n ('thats', 'the'),\n ('the', 'ultimate'),\n ('ultimate', 'reason'),\n ('reason', 'that'),\n ('that', 'they'),\n ('they', 'dont'),\n ('dont', 'want'),\n ('want', 'me'),\n ('me', 'to'),\n ('to', 'go'),\n ('go', 'and'),\n ('and', 'have'),\n ('have', 'fun'),\n ('fun', 'but'),\n ('but', 'im'),\n ('im', 'not'),\n ('not', 'little'),\n ('little', 'anymore'),\n ('anymore', 'and'),\n ('and', 'they'),\n ('they', 'need'),\n ('need', 'to'),\n ('to', 'let'),\n ('let', 'me'),\n ('me', 'go'),\n ('go', 'and'),\n ('and', 'explore'),\n ('explore', 'the'),\n ('the', 'world'),\n ('world', 'but'),\n ('but', 'i'),\n ('i', '’'),\n ('’', 'm'),\n ('m', 'indian'),\n ('indian', 'with'),\n ('with', 'indian'),\n ('indian', 'culture'),\n ('culture', 'with'),\n ('with', 'indian'),\n ('indian', 'values'),\n ('values', 'they'),\n ('they', 'go'),\n ('go', 'against'),\n ('against', 'having'),\n ('having', 'fun'),\n ('fun', 'i'),\n ('i', 'mean'),\n ('mean', 'in'),\n ('in', 'the'),\n ('the', 'sense'),\n ('sense', 'of'),\n ('of', 'meeting'),\n ('meeting', 'people'),\n ('people', 'or'),\n ('or', 'going'),\n ('going', 'out'),\n ('out', 'with'),\n ('with', 'people'),\n ('people', 'or'),\n ('or', 'partying'),\n ('partying', 'or'),\n ('or', 'just'),\n ('just', 'plain'),\n ('plain', 'having'),\n ('having', 'fun'),\n ('fun', 'my'),\n ('my', 'school'),\n ('school', 'is'),\n ('is', 'difficult'),\n ('difficult', 'already'),\n ('already', 'but'),\n ('but', 'somehow'),\n ('somehow', 'i'),\n ('i', 'think'),\n ('think', 'that'),\n ('that', 'having'),\n ('having', 'more'),\n ('more', 'freedom'),\n ('freedom', 'will'),\n ('will', 'put'),\n ('put', 'more'),\n ('more', 'pressure'),\n ('pressure', 'on'),\n ('on', 'me'),\n ('me', 'to'),\n ('to', 'do'),\n ('do', 'better'),\n ('better', 'in'),\n ('in', 'school'),\n ('school', 'bc'),\n ('bc', 'thats'),\n ('thats', 'what'),\n ('what', 'my'),\n ('my', 'parents'),\n ('parents', 'and'),\n ('and', 'ultimately'),\n ('ultimately', 'i'),\n ('i', 'expect'),\n ('expect', 'of'),\n ('of', 'myself'),\n ('myself', 'well'),\n ('well', 'its'),\n ('its', 'been'),\n ('been', 'fun'),\n ('fun', 'writing'),\n ('writing', 'i'),\n ('i', 'dont'),\n ('dont', 'know'),\n ('know', 'if'),\n ('if', 'you'),\n ('you', 'go'),\n ('go', 'anything'),\n ('anything', 'out'),\n ('out', 'of'),\n ('of', 'this'),\n ('this', 'writing'),\n ('writing', 'but'),\n ('but', 'it'),\n ('it', 'helped'),\n ('helped', 'me'),\n ('me', 'get'),\n ('get', 'some'),\n ('some', 'of'),\n ('of', 'my'),\n ('my', 'thoughts'),\n ('thoughts', 'into'),\n ('into', 'order'),\n ('order', 'so'),\n ('so', 'i'),\n ('i', 'hope'),\n ('hope', 'you'),\n ('you', 'had'),\n ('had', 'fun'),\n ('fun', 'reading'),\n ('reading', 'it'),\n ('it', 'and'),\n ('and', 'good'),\n ('good', 'luck'),\n ('luck', 'tas')]"
     },
     "execution_count": 15,
     "metadata": {},
     "output_type": "execute_result"
    }
   ],
   "source": [
    "essays.iloc[0].bigrams"
   ],
   "metadata": {
    "collapsed": false
   }
  },
  {
   "cell_type": "code",
   "execution_count": 16,
   "outputs": [],
   "source": [
    "essays[\"trigrams\"]=essays.apply(lambda x: list(nltk.ngrams(nltk.word_tokenize(punc_lower(x[\"TEXT\"])),3)), axis=1)"
   ],
   "metadata": {
    "collapsed": false
   }
  },
  {
   "cell_type": "code",
   "execution_count": 17,
   "outputs": [
    {
     "data": {
      "text/plain": "[('well', 'right', 'now'),\n ('right', 'now', 'i'),\n ('now', 'i', 'just'),\n ('i', 'just', 'woke'),\n ('just', 'woke', 'up'),\n ('woke', 'up', 'from'),\n ('up', 'from', 'a'),\n ('from', 'a', 'midday'),\n ('a', 'midday', 'nap'),\n ('midday', 'nap', 'its'),\n ('nap', 'its', 'sort'),\n ('its', 'sort', 'of'),\n ('sort', 'of', 'weird'),\n ('of', 'weird', 'but'),\n ('weird', 'but', 'ever'),\n ('but', 'ever', 'since'),\n ('ever', 'since', 'i'),\n ('since', 'i', 'moved'),\n ('i', 'moved', 'to'),\n ('moved', 'to', 'texas'),\n ('to', 'texas', 'i'),\n ('texas', 'i', 'have'),\n ('i', 'have', 'had'),\n ('have', 'had', 'problems'),\n ('had', 'problems', 'concentrating'),\n ('problems', 'concentrating', 'on'),\n ('concentrating', 'on', 'things'),\n ('on', 'things', 'i'),\n ('things', 'i', 'remember'),\n ('i', 'remember', 'starting'),\n ('remember', 'starting', 'my'),\n ('starting', 'my', 'homework'),\n ('my', 'homework', 'in'),\n ('homework', 'in', '10th'),\n ('in', '10th', 'grade'),\n ('10th', 'grade', 'as'),\n ('grade', 'as', 'soon'),\n ('as', 'soon', 'as'),\n ('soon', 'as', 'the'),\n ('as', 'the', 'clock'),\n ('the', 'clock', 'struck'),\n ('clock', 'struck', '4'),\n ('struck', '4', 'and'),\n ('4', 'and', 'not'),\n ('and', 'not', 'stopping'),\n ('not', 'stopping', 'until'),\n ('stopping', 'until', 'it'),\n ('until', 'it', 'was'),\n ('it', 'was', 'done'),\n ('was', 'done', 'of'),\n ('done', 'of', 'course'),\n ('of', 'course', 'it'),\n ('course', 'it', 'was'),\n ('it', 'was', 'easier'),\n ('was', 'easier', 'but'),\n ('easier', 'but', 'i'),\n ('but', 'i', 'still'),\n ('i', 'still', 'did'),\n ('still', 'did', 'it'),\n ('did', 'it', 'but'),\n ('it', 'but', 'when'),\n ('but', 'when', 'i'),\n ('when', 'i', 'moved'),\n ('i', 'moved', 'here'),\n ('moved', 'here', 'the'),\n ('here', 'the', 'homework'),\n ('the', 'homework', 'got'),\n ('homework', 'got', 'a'),\n ('got', 'a', 'little'),\n ('a', 'little', 'more'),\n ('little', 'more', 'challenging'),\n ('more', 'challenging', 'and'),\n ('challenging', 'and', 'there'),\n ('and', 'there', 'was'),\n ('there', 'was', 'a'),\n ('was', 'a', 'lot'),\n ('a', 'lot', 'more'),\n ('lot', 'more', 'busy'),\n ('more', 'busy', 'work'),\n ('busy', 'work', 'and'),\n ('work', 'and', 'so'),\n ('and', 'so', 'i'),\n ('so', 'i', 'decided'),\n ('i', 'decided', 'not'),\n ('decided', 'not', 'to'),\n ('not', 'to', 'spend'),\n ('to', 'spend', 'hours'),\n ('spend', 'hours', 'doing'),\n ('hours', 'doing', 'it'),\n ('doing', 'it', 'and'),\n ('it', 'and', 'just'),\n ('and', 'just', 'getting'),\n ('just', 'getting', 'by'),\n ('getting', 'by', 'but'),\n ('by', 'but', 'the'),\n ('but', 'the', 'thing'),\n ('the', 'thing', 'was'),\n ('thing', 'was', 'that'),\n ('was', 'that', 'i'),\n ('that', 'i', 'always'),\n ('i', 'always', 'paid'),\n ('always', 'paid', 'attention'),\n ('paid', 'attention', 'in'),\n ('attention', 'in', 'class'),\n ('in', 'class', 'and'),\n ('class', 'and', 'just'),\n ('and', 'just', 'plain'),\n ('just', 'plain', 'out'),\n ('plain', 'out', 'knew'),\n ('out', 'knew', 'the'),\n ('knew', 'the', 'stuff'),\n ('the', 'stuff', 'and'),\n ('stuff', 'and', 'now'),\n ('and', 'now', 'that'),\n ('now', 'that', 'i'),\n ('that', 'i', 'look'),\n ('i', 'look', 'back'),\n ('look', 'back', 'if'),\n ('back', 'if', 'i'),\n ('if', 'i', 'had'),\n ('i', 'had', 'really'),\n ('had', 'really', 'worked'),\n ('really', 'worked', 'hard'),\n ('worked', 'hard', 'and'),\n ('hard', 'and', 'stayed'),\n ('and', 'stayed', 'on'),\n ('stayed', 'on', 'track'),\n ('on', 'track', 'the'),\n ('track', 'the', 'last'),\n ('the', 'last', 'two'),\n ('last', 'two', 'years'),\n ('two', 'years', 'without'),\n ('years', 'without', 'getting'),\n ('without', 'getting', 'lazy'),\n ('getting', 'lazy', 'i'),\n ('lazy', 'i', 'would'),\n ('i', 'would', 'have'),\n ('would', 'have', 'been'),\n ('have', 'been', 'a'),\n ('been', 'a', 'genius'),\n ('a', 'genius', 'but'),\n ('genius', 'but', 'hey'),\n ('but', 'hey', 'thats'),\n ('hey', 'thats', 'all'),\n ('thats', 'all', 'good'),\n ('all', 'good', 'its'),\n ('good', 'its', 'too'),\n ('its', 'too', 'late'),\n ('too', 'late', 'to'),\n ('late', 'to', 'correct'),\n ('to', 'correct', 'the'),\n ('correct', 'the', 'past'),\n ('the', 'past', 'but'),\n ('past', 'but', 'i'),\n ('but', 'i', 'dont'),\n ('i', 'dont', 'really'),\n ('dont', 'really', 'know'),\n ('really', 'know', 'how'),\n ('know', 'how', 'to'),\n ('how', 'to', 'stay'),\n ('to', 'stay', 'focused'),\n ('stay', 'focused', 'n'),\n ('focused', 'n', 'the'),\n ('n', 'the', 'future'),\n ('the', 'future', 'the'),\n ('future', 'the', 'one'),\n ('the', 'one', 'thing'),\n ('one', 'thing', 'i'),\n ('thing', 'i', 'know'),\n ('i', 'know', 'is'),\n ('know', 'is', 'that'),\n ('is', 'that', 'when'),\n ('that', 'when', 'people'),\n ('when', 'people', 'say'),\n ('people', 'say', 'that'),\n ('say', 'that', 'bc'),\n ('that', 'bc', 'they'),\n ('bc', 'they', 'live'),\n ('they', 'live', 'on'),\n ('live', 'on', 'campus'),\n ('on', 'campus', 'they'),\n ('campus', 'they', 'cant'),\n ('they', 'cant', 'concentrate'),\n ('cant', 'concentrate', 'its'),\n ('concentrate', 'its', 'b'),\n ('its', 'b', 's'),\n ('b', 's', 'for'),\n ('s', 'for', 'me'),\n ('for', 'me', 'it'),\n ('me', 'it', 'would'),\n ('it', 'would', 'be'),\n ('would', 'be', 'easier'),\n ('be', 'easier', 'there'),\n ('easier', 'there', 'but'),\n ('there', 'but', 'alas'),\n ('but', 'alas', 'im'),\n ('alas', 'im', 'living'),\n ('im', 'living', 'at'),\n ('living', 'at', 'home'),\n ('at', 'home', 'under'),\n ('home', 'under', 'the'),\n ('under', 'the', 'watchful'),\n ('the', 'watchful', 'eye'),\n ('watchful', 'eye', 'of'),\n ('eye', 'of', 'my'),\n ('of', 'my', 'parents'),\n ('my', 'parents', 'and'),\n ('parents', 'and', 'a'),\n ('and', 'a', 'little'),\n ('a', 'little', 'nagging'),\n ('little', 'nagging', 'sister'),\n ('nagging', 'sister', 'that'),\n ('sister', 'that', 'just'),\n ('that', 'just', 'nags'),\n ('just', 'nags', 'and'),\n ('nags', 'and', 'nags'),\n ('and', 'nags', 'and'),\n ('nags', 'and', 'nags'),\n ('and', 'nags', 'you'),\n ('nags', 'you', 'get'),\n ('you', 'get', 'my'),\n ('get', 'my', 'point'),\n ('my', 'point', 'another'),\n ('point', 'another', 'thing'),\n ('another', 'thing', 'is'),\n ('thing', 'is', 'is'),\n ('is', 'is', 'that'),\n ('is', 'that', 'its'),\n ('that', 'its', 'just'),\n ('its', 'just', 'a'),\n ('just', 'a', 'hassle'),\n ('a', 'hassle', 'to'),\n ('hassle', 'to', 'have'),\n ('to', 'have', 'to'),\n ('have', 'to', 'go'),\n ('to', 'go', 'all'),\n ('go', 'all', 'the'),\n ('all', 'the', 'way'),\n ('the', 'way', 'back'),\n ('way', 'back', 'to'),\n ('back', 'to', 'school'),\n ('to', 'school', 'to'),\n ('school', 'to', 'just'),\n ('to', 'just', 'to'),\n ('just', 'to', 'go'),\n ('to', 'go', 'to'),\n ('go', 'to', 'library'),\n ('to', 'library', 'to'),\n ('library', 'to', 'study'),\n ('to', 'study', 'i'),\n ('study', 'i', 'need'),\n ('i', 'need', 'to'),\n ('need', 'to', 'move'),\n ('to', 'move', 'out'),\n ('move', 'out', 'but'),\n ('out', 'but', 'i'),\n ('but', 'i', 'dont'),\n ('i', 'dont', 'know'),\n ('dont', 'know', 'how'),\n ('know', 'how', 'to'),\n ('how', 'to', 'tell'),\n ('to', 'tell', 'them'),\n ('tell', 'them', 'dont'),\n ('them', 'dont', 'get'),\n ('dont', 'get', 'me'),\n ('get', 'me', 'wrong'),\n ('me', 'wrong', 'i'),\n ('wrong', 'i', 'see'),\n ('i', 'see', 'where'),\n ('see', 'where', 'theyre'),\n ('where', 'theyre', 'coming'),\n ('theyre', 'coming', 'from'),\n ('coming', 'from', 'and'),\n ('from', 'and', 'why'),\n ('and', 'why', 'they'),\n ('why', 'they', 'dont'),\n ('they', 'dont', 'want'),\n ('dont', 'want', 'me'),\n ('want', 'me', 'to'),\n ('me', 'to', 'move'),\n ('to', 'move', 'out'),\n ('move', 'out', 'but'),\n ('out', 'but', 'i'),\n ('but', 'i', 'need'),\n ('i', 'need', 'to'),\n ('need', 'to', 'get'),\n ('to', 'get', 'away'),\n ('get', 'away', 'and'),\n ('away', 'and', 'be'),\n ('and', 'be', 'on'),\n ('be', 'on', 'my'),\n ('on', 'my', 'own'),\n ('my', 'own', 'theyve'),\n ('own', 'theyve', 'sheltered'),\n ('theyve', 'sheltered', 'me'),\n ('sheltered', 'me', 'so'),\n ('me', 'so', 'much'),\n ('so', 'much', 'and'),\n ('much', 'and', 'i'),\n ('and', 'i', 'dont'),\n ('i', 'dont', 'have'),\n ('dont', 'have', 'a'),\n ('have', 'a', 'worry'),\n ('a', 'worry', 'in'),\n ('worry', 'in', 'the'),\n ('in', 'the', 'world'),\n ('the', 'world', 'the'),\n ('world', 'the', 'only'),\n ('the', 'only', 'thing'),\n ('only', 'thing', 'that'),\n ('thing', 'that', 'they'),\n ('that', 'they', 'ask'),\n ('they', 'ask', 'me'),\n ('ask', 'me', 'to'),\n ('me', 'to', 'do'),\n ('to', 'do', 'is'),\n ('do', 'is', 'keep'),\n ('is', 'keep', 'my'),\n ('keep', 'my', 'room'),\n ('my', 'room', 'clean'),\n ('room', 'clean', 'and'),\n ('clean', 'and', 'help'),\n ('and', 'help', 'out'),\n ('help', 'out', 'with'),\n ('out', 'with', 'the'),\n ('with', 'the', 'business'),\n ('the', 'business', 'once'),\n ('business', 'once', 'in'),\n ('once', 'in', 'a'),\n ('in', 'a', 'while'),\n ('a', 'while', 'but'),\n ('while', 'but', 'i'),\n ('but', 'i', 'cant'),\n ('i', 'cant', 'even'),\n ('cant', 'even', 'do'),\n ('even', 'do', 'that'),\n ('do', 'that', 'but'),\n ('that', 'but', 'i'),\n ('but', 'i', 'need'),\n ('i', 'need', 'to'),\n ('need', 'to', 'but'),\n ('to', 'but', 'i'),\n ('but', 'i', 'got'),\n ('i', 'got', 'enough'),\n ('got', 'enough', 'money'),\n ('enough', 'money', 'from'),\n ('money', 'from', 'ut'),\n ('from', 'ut', 'to'),\n ('ut', 'to', 'live'),\n ('to', 'live', 'at'),\n ('live', 'at', 'a'),\n ('at', 'a', 'dorm'),\n ('a', 'dorm', 'or'),\n ('dorm', 'or', 'apartment'),\n ('or', 'apartment', 'next'),\n ('apartment', 'next', 'semester'),\n ('next', 'semester', 'and'),\n ('semester', 'and', 'i'),\n ('and', 'i', 'think'),\n ('i', 'think', 'i'),\n ('think', 'i', '’'),\n ('i', '’', 'll'),\n ('’', 'll', 'take'),\n ('ll', 'take', 'advantage'),\n ('take', 'advantage', 'of'),\n ('advantage', 'of', 'that'),\n ('of', 'that', 'but'),\n ('that', 'but', 'off'),\n ('but', 'off', 'that'),\n ('off', 'that', 'topic'),\n ('that', 'topic', 'now'),\n ('topic', 'now', 'i'),\n ('now', 'i', 'went'),\n ('i', 'went', 'to'),\n ('went', 'to', 'sixth'),\n ('to', 'sixth', 'street'),\n ('sixth', 'street', 'last'),\n ('street', 'last', 'night'),\n ('last', 'night', 'and'),\n ('night', 'and', 'had'),\n ('and', 'had', 'a'),\n ('had', 'a', 'blast'),\n ('a', 'blast', 'i'),\n ('blast', 'i', 'havent'),\n ('i', 'havent', 'been'),\n ('havent', 'been', 'there'),\n ('been', 'there', 'in'),\n ('there', 'in', 'so'),\n ('in', 'so', 'long'),\n ('so', 'long', 'now'),\n ('long', 'now', 'i'),\n ('now', 'i', 'know'),\n ('i', 'know', 'why'),\n ('know', 'why', 'i'),\n ('why', 'i', 'love'),\n ('i', 'love', 'austin'),\n ('love', 'austin', 'so'),\n ('austin', 'so', 'much'),\n ('so', 'much', 'when'),\n ('much', 'when', 'i'),\n ('when', 'i', 'lived'),\n ('i', 'lived', 'in'),\n ('lived', 'in', 'va'),\n ('in', 'va', 'i'),\n ('va', 'i', 'used'),\n ('i', 'used', 'to'),\n ('used', 'to', 'go'),\n ('to', 'go', 'up'),\n ('go', 'up', 'to'),\n ('up', 'to', 'dc'),\n ('to', 'dc', 'all'),\n ('dc', 'all', 'the'),\n ('all', 'the', 'time'),\n ('the', 'time', 'and'),\n ('time', 'and', 'had'),\n ('and', 'had', 'a'),\n ('had', 'a', 'blast'),\n ('a', 'blast', 'but'),\n ('blast', 'but', 'here'),\n ('but', 'here', 'there'),\n ('here', 'there', 'are'),\n ('there', 'are', 'so'),\n ('are', 'so', 'many'),\n ('so', 'many', 'students'),\n ('many', 'students', 'running'),\n ('students', 'running', 'around'),\n ('running', 'around', 'at'),\n ('around', 'at', 'night'),\n ('at', 'night', 'i'),\n ('night', 'i', 'just'),\n ('i', 'just', 'want'),\n ('just', 'want', 'to'),\n ('want', 'to', 'have'),\n ('to', 'have', 'some'),\n ('have', 'some', 'fun'),\n ('some', 'fun', 'and'),\n ('fun', 'and', 'i'),\n ('and', 'i', 'know'),\n ('i', 'know', 'that'),\n ('know', 'that', 'i'),\n ('that', 'i', 'am'),\n ('i', 'am', 'responsible'),\n ('am', 'responsible', 'enough'),\n ('responsible', 'enough', 'to'),\n ('enough', 'to', 'be'),\n ('to', 'be', 'able'),\n ('be', 'able', 'to'),\n ('able', 'to', 'have'),\n ('to', 'have', 'fun'),\n ('have', 'fun', 'but'),\n ('fun', 'but', 'keep'),\n ('but', 'keep', 'my'),\n ('keep', 'my', 'priorities'),\n ('my', 'priorities', 'straight'),\n ('priorities', 'straight', 'living'),\n ('straight', 'living', 'at'),\n ('living', 'at', 'home'),\n ('at', 'home', 'i'),\n ('home', 'i', 'cant'),\n ('i', 'cant', 'go'),\n ('cant', 'go', 'out'),\n ('go', 'out', 'at'),\n ('out', 'at', 'all'),\n ('at', 'all', 'without'),\n ('all', 'without', 'them'),\n ('without', 'them', 'asking'),\n ('them', 'asking', 'where'),\n ('asking', 'where', 'with'),\n ('where', 'with', 'who'),\n ('with', 'who', 'why'),\n ('who', 'why', 'when'),\n ('why', 'when', 'are'),\n ('when', 'are', 'you'),\n ('are', 'you', 'coming'),\n ('you', 'coming', 'back'),\n ('coming', 'back', 'and'),\n ('back', 'and', 'all'),\n ('and', 'all', 'those'),\n ('all', 'those', 'questions'),\n ('those', 'questions', 'i'),\n ('questions', 'i', 'just'),\n ('i', 'just', 'wish'),\n ('just', 'wish', 'i'),\n ('wish', 'i', 'could'),\n ('i', 'could', 'be'),\n ('could', 'be', 'treated'),\n ('be', 'treated', 'like'),\n ('treated', 'like', 'a'),\n ('like', 'a', 'responsible'),\n ('a', 'responsible', 'person'),\n ('responsible', 'person', 'for'),\n ('person', 'for', 'once'),\n ('for', 'once', 'but'),\n ('once', 'but', 'my'),\n ('but', 'my', 'sister'),\n ('my', 'sister', 'screwed'),\n ('sister', 'screwed', 'that'),\n ('screwed', 'that', 'up'),\n ('that', 'up', 'for'),\n ('up', 'for', 'me'),\n ('for', 'me', 'she'),\n ('me', 'she', 'went'),\n ('she', 'went', 'crazy'),\n ('went', 'crazy', 'the'),\n ('crazy', 'the', 'second'),\n ('the', 'second', 'she'),\n ('second', 'she', 'moved'),\n ('she', 'moved', 'into'),\n ('moved', 'into', 'college'),\n ('into', 'college', 'and'),\n ('college', 'and', 'messed'),\n ('and', 'messed', 'up'),\n ('messed', 'up', 'her'),\n ('up', 'her', 'whole'),\n ('her', 'whole', 'college'),\n ('whole', 'college', 'career'),\n ('college', 'career', 'by'),\n ('career', 'by', 'partying'),\n ('by', 'partying', 'too'),\n ('partying', 'too', 'much'),\n ('too', 'much', 'and'),\n ('much', 'and', 'thats'),\n ('and', 'thats', 'the'),\n ('thats', 'the', 'ultimate'),\n ('the', 'ultimate', 'reason'),\n ('ultimate', 'reason', 'that'),\n ('reason', 'that', 'they'),\n ('that', 'they', 'dont'),\n ('they', 'dont', 'want'),\n ('dont', 'want', 'me'),\n ('want', 'me', 'to'),\n ('me', 'to', 'go'),\n ('to', 'go', 'and'),\n ('go', 'and', 'have'),\n ('and', 'have', 'fun'),\n ('have', 'fun', 'but'),\n ('fun', 'but', 'im'),\n ('but', 'im', 'not'),\n ('im', 'not', 'little'),\n ('not', 'little', 'anymore'),\n ('little', 'anymore', 'and'),\n ('anymore', 'and', 'they'),\n ('and', 'they', 'need'),\n ('they', 'need', 'to'),\n ('need', 'to', 'let'),\n ('to', 'let', 'me'),\n ('let', 'me', 'go'),\n ('me', 'go', 'and'),\n ('go', 'and', 'explore'),\n ('and', 'explore', 'the'),\n ('explore', 'the', 'world'),\n ('the', 'world', 'but'),\n ('world', 'but', 'i'),\n ('but', 'i', '’'),\n ('i', '’', 'm'),\n ('’', 'm', 'indian'),\n ('m', 'indian', 'with'),\n ('indian', 'with', 'indian'),\n ('with', 'indian', 'culture'),\n ('indian', 'culture', 'with'),\n ('culture', 'with', 'indian'),\n ('with', 'indian', 'values'),\n ('indian', 'values', 'they'),\n ('values', 'they', 'go'),\n ('they', 'go', 'against'),\n ('go', 'against', 'having'),\n ('against', 'having', 'fun'),\n ('having', 'fun', 'i'),\n ('fun', 'i', 'mean'),\n ('i', 'mean', 'in'),\n ('mean', 'in', 'the'),\n ('in', 'the', 'sense'),\n ('the', 'sense', 'of'),\n ('sense', 'of', 'meeting'),\n ('of', 'meeting', 'people'),\n ('meeting', 'people', 'or'),\n ('people', 'or', 'going'),\n ('or', 'going', 'out'),\n ('going', 'out', 'with'),\n ('out', 'with', 'people'),\n ('with', 'people', 'or'),\n ('people', 'or', 'partying'),\n ('or', 'partying', 'or'),\n ('partying', 'or', 'just'),\n ('or', 'just', 'plain'),\n ('just', 'plain', 'having'),\n ('plain', 'having', 'fun'),\n ('having', 'fun', 'my'),\n ('fun', 'my', 'school'),\n ('my', 'school', 'is'),\n ('school', 'is', 'difficult'),\n ('is', 'difficult', 'already'),\n ('difficult', 'already', 'but'),\n ('already', 'but', 'somehow'),\n ('but', 'somehow', 'i'),\n ('somehow', 'i', 'think'),\n ('i', 'think', 'that'),\n ('think', 'that', 'having'),\n ('that', 'having', 'more'),\n ('having', 'more', 'freedom'),\n ('more', 'freedom', 'will'),\n ('freedom', 'will', 'put'),\n ('will', 'put', 'more'),\n ('put', 'more', 'pressure'),\n ('more', 'pressure', 'on'),\n ('pressure', 'on', 'me'),\n ('on', 'me', 'to'),\n ('me', 'to', 'do'),\n ('to', 'do', 'better'),\n ('do', 'better', 'in'),\n ('better', 'in', 'school'),\n ('in', 'school', 'bc'),\n ('school', 'bc', 'thats'),\n ('bc', 'thats', 'what'),\n ('thats', 'what', 'my'),\n ('what', 'my', 'parents'),\n ('my', 'parents', 'and'),\n ('parents', 'and', 'ultimately'),\n ('and', 'ultimately', 'i'),\n ('ultimately', 'i', 'expect'),\n ('i', 'expect', 'of'),\n ('expect', 'of', 'myself'),\n ('of', 'myself', 'well'),\n ('myself', 'well', 'its'),\n ('well', 'its', 'been'),\n ('its', 'been', 'fun'),\n ('been', 'fun', 'writing'),\n ('fun', 'writing', 'i'),\n ('writing', 'i', 'dont'),\n ('i', 'dont', 'know'),\n ('dont', 'know', 'if'),\n ('know', 'if', 'you'),\n ('if', 'you', 'go'),\n ('you', 'go', 'anything'),\n ('go', 'anything', 'out'),\n ('anything', 'out', 'of'),\n ('out', 'of', 'this'),\n ('of', 'this', 'writing'),\n ('this', 'writing', 'but'),\n ('writing', 'but', 'it'),\n ('but', 'it', 'helped'),\n ('it', 'helped', 'me'),\n ('helped', 'me', 'get'),\n ('me', 'get', 'some'),\n ('get', 'some', 'of'),\n ('some', 'of', 'my'),\n ('of', 'my', 'thoughts'),\n ('my', 'thoughts', 'into'),\n ('thoughts', 'into', 'order'),\n ('into', 'order', 'so'),\n ('order', 'so', 'i'),\n ('so', 'i', 'hope'),\n ('i', 'hope', 'you'),\n ('hope', 'you', 'had'),\n ('you', 'had', 'fun'),\n ('had', 'fun', 'reading'),\n ('fun', 'reading', 'it'),\n ('reading', 'it', 'and'),\n ('it', 'and', 'good'),\n ('and', 'good', 'luck'),\n ('good', 'luck', 'tas')]"
     },
     "execution_count": 17,
     "metadata": {},
     "output_type": "execute_result"
    }
   ],
   "source": [
    "essays.iloc[0].trigrams"
   ],
   "metadata": {
    "collapsed": false
   }
  },
  {
   "cell_type": "code",
   "execution_count": 18,
   "outputs": [
    {
     "name": "stdout",
     "output_type": "stream",
     "text": [
      "dog [ 1.2330e+00  4.2963e+00 -7.9738e+00 -1.0121e+01  1.8207e+00  1.4098e+00\n",
      " -4.5180e+00 -5.2261e+00 -2.9157e-01  9.5234e-01  6.9880e+00  5.0637e+00\n",
      " -5.5726e-03  3.3395e+00  6.4596e+00 -6.3742e+00  3.9045e-02 -3.9855e+00\n",
      "  1.2085e+00 -1.3186e+00 -4.8886e+00  3.7066e+00 -2.8281e+00 -3.5447e+00\n",
      "  7.6888e-01  1.5016e+00 -4.3632e+00  8.6480e+00 -5.9286e+00 -1.3055e+00\n",
      "  8.3870e-01  9.0137e-01 -1.7843e+00 -1.0148e+00  2.7300e+00 -6.9039e+00\n",
      "  8.0413e-01  7.4880e+00  6.1078e+00 -4.2130e+00 -1.5384e-01 -5.4995e+00\n",
      "  1.0896e+01  3.9278e+00 -1.3601e-01  7.7732e-02  3.2218e+00 -5.8777e+00\n",
      "  6.1359e-01 -2.4287e+00  6.2820e+00  1.3461e+01  4.3236e+00  2.4266e+00\n",
      " -2.6512e+00  1.1577e+00  5.0848e+00 -1.7058e+00  3.3824e+00  3.2850e+00\n",
      "  1.0969e+00 -8.3711e+00 -1.5554e+00  2.0296e+00 -2.6796e+00 -6.9195e+00\n",
      " -2.3386e+00 -1.9916e+00 -3.0450e+00  2.4890e+00  7.3247e+00  1.3364e+00\n",
      "  2.3828e-01  8.4388e-02  3.1480e+00 -1.1128e+00 -3.5598e+00 -1.2115e-01\n",
      " -2.0357e+00 -3.2731e+00 -7.7205e+00  4.0948e+00 -2.0732e+00  2.0833e+00\n",
      " -2.2803e+00 -4.9850e+00  9.7667e+00  6.1779e+00 -1.0352e+01 -2.2268e+00\n",
      "  2.5765e+00 -5.7440e+00  5.5564e+00 -5.2735e+00  3.0004e+00 -4.2512e+00\n",
      " -1.5682e+00  2.2698e+00  1.0491e+00 -9.0486e+00  4.2936e+00  1.8709e+00\n",
      "  5.1985e+00 -1.3153e+00  6.5224e+00  4.0113e-01 -1.2583e+01  3.6534e+00\n",
      " -2.0961e+00  1.0022e+00 -1.7873e+00 -4.2555e+00  7.7471e+00  1.0173e+00\n",
      "  3.1626e+00  2.3558e+00  3.3589e-01 -4.4178e+00  5.0584e+00 -2.4118e+00\n",
      " -2.7445e+00  3.4170e+00 -1.1574e+01 -2.6568e+00 -3.6933e+00 -2.0398e+00\n",
      "  5.0976e+00  6.5249e+00  3.3573e+00  9.5334e-01 -9.4430e-01 -9.4395e+00\n",
      "  2.7867e+00 -1.7549e+00  1.7287e+00  3.4942e+00 -1.6883e+00 -3.5771e+00\n",
      " -1.9013e+00  2.2239e+00 -5.4335e+00 -6.5724e+00 -6.7228e-01 -1.9748e+00\n",
      " -3.1080e+00 -1.8570e+00  9.9496e-01  8.9135e-01 -4.4254e+00  3.3125e-01\n",
      "  5.8815e+00  1.9384e+00  5.7294e-01 -2.8830e+00  3.8087e+00 -1.3095e+00\n",
      "  5.9208e+00  3.3620e+00  3.3571e+00 -3.8807e-01  9.0022e-01 -5.5742e+00\n",
      " -4.2939e+00  1.4992e+00 -4.7080e+00 -2.9402e+00 -1.2259e+00  3.0980e-01\n",
      "  1.8858e+00 -1.9867e+00 -2.3554e-01 -5.4535e-01 -2.1387e-01  2.4797e+00\n",
      "  5.9710e+00 -7.1249e+00  1.6257e+00 -1.5241e+00  7.5974e-01  1.4312e+00\n",
      "  2.3641e+00 -3.5566e+00  9.2066e-01  4.4934e-01 -1.3233e+00  3.1733e+00\n",
      " -4.7059e+00 -1.2090e+01 -3.9241e-01 -6.8457e-01 -3.6789e+00  6.6279e+00\n",
      " -2.9937e+00 -3.8361e+00  1.3868e+00 -4.9002e+00 -2.4299e+00  6.4312e+00\n",
      "  2.5056e+00 -4.5080e+00 -5.1278e+00 -1.5585e+00 -3.0226e+00 -8.6811e-01\n",
      " -1.1538e+00 -1.0022e+00 -9.1651e-01 -4.7810e-01 -1.6084e+00 -2.7307e+00\n",
      "  3.7080e+00  7.7423e-01 -1.1085e+00 -6.8755e-01 -8.2901e+00  3.2405e+00\n",
      " -1.6108e-01 -6.2837e-01 -5.5960e+00 -4.4865e+00  4.0115e-01 -3.7063e+00\n",
      " -2.1704e+00  4.0789e+00 -1.7973e+00  8.9538e+00  8.9421e-01 -4.8128e+00\n",
      "  4.5367e+00 -3.2579e-01 -5.2344e+00 -3.9766e+00 -2.1979e+00  3.5699e+00\n",
      "  1.4982e+00  6.0972e+00 -1.9704e+00  4.6522e+00 -3.7734e-01  3.9101e-02\n",
      "  2.5361e+00 -1.8096e+00  8.7035e+00 -8.6372e+00 -3.5257e+00  3.1034e+00\n",
      "  3.2635e+00  4.5437e+00 -5.7290e+00 -2.9141e-01 -2.0011e+00  8.5328e+00\n",
      " -4.5064e+00 -4.8276e+00 -1.1786e+01  3.5607e-01 -5.7115e+00  6.3122e+00\n",
      " -3.6650e+00  3.3597e-01  2.5017e+00 -3.5025e+00 -3.7891e+00 -3.1343e+00\n",
      " -1.4429e+00 -6.9119e+00 -2.6114e+00 -5.9757e-01  3.7847e-01  6.3187e+00\n",
      "  2.8965e+00 -2.5397e+00  1.8022e+00  3.5486e+00  4.4721e+00 -4.8481e+00\n",
      " -3.6252e+00  4.0969e+00 -2.0081e+00 -2.0122e-01  2.5244e+00 -6.8817e-01\n",
      "  6.7184e-01 -7.0466e+00  1.6641e+00 -2.2308e+00 -3.8960e+00  6.1320e+00\n",
      " -8.0335e+00 -1.7130e+00  2.5688e+00 -5.2547e+00  6.9845e+00  2.7835e-01\n",
      " -6.4554e+00 -2.1327e+00 -5.6515e+00  1.1174e+01 -8.0568e+00  5.7985e+00]\n",
      "cat [ 3.7032e+00  4.1982e+00 -5.0002e+00 -1.1322e+01  3.1702e-02 -1.0255e+00\n",
      " -3.0870e+00 -3.7327e+00  5.3875e-01  3.5679e+00  6.9276e+00  1.5793e+00\n",
      "  5.1188e-01  3.1868e+00  6.1534e+00 -4.8941e+00 -2.9959e-01 -3.6276e+00\n",
      "  2.3825e+00 -1.4402e+00 -4.7577e+00  4.3607e+00 -4.9814e+00 -3.6672e+00\n",
      " -1.8052e+00 -2.1888e+00 -4.2875e+00  5.5712e+00 -5.2875e+00 -1.8346e+00\n",
      " -2.2015e+00 -7.7091e-01 -4.8260e+00  1.2464e+00 -1.7945e+00 -8.1280e+00\n",
      "  1.9994e+00  1.1413e+00  3.8032e+00 -2.8783e+00 -4.2136e-01 -4.4177e+00\n",
      "  7.7456e+00  4.9535e+00  1.7402e+00  1.8275e-01  2.4218e+00 -3.1496e+00\n",
      " -3.8057e-02 -2.9818e+00  8.3396e-01  1.1531e+01  3.5684e+00  2.5970e+00\n",
      " -2.8438e+00  3.2755e+00  4.5674e+00  3.2219e+00  3.4206e+00  1.1200e-01\n",
      "  1.0303e-01 -5.8396e+00  4.6370e-01  2.7750e+00 -5.3713e+00 -5.0247e+00\n",
      " -2.0212e+00  5.8772e-01  1.1569e+00  1.3224e+00  4.3994e+00  2.0444e+00\n",
      "  2.1343e+00 -1.9023e+00  2.1469e+00 -2.9085e+00  4.8429e-01 -3.3544e-01\n",
      "  1.4484e+00 -1.5770e+00 -1.1307e+00  2.8320e+00  6.2041e-01  3.7994e+00\n",
      " -3.1162e-01 -6.9221e+00  7.1342e+00  7.2441e+00 -8.9326e+00 -2.7927e+00\n",
      "  2.6613e-01  6.7547e-01  6.7293e+00 -5.8127e+00  3.1567e+00 -1.0634e+00\n",
      " -1.5733e+00  1.3534e+00  3.9218e-01 -8.7077e+00  3.4229e-02  3.3251e+00\n",
      "  4.6713e+00  1.1865e-02  9.8345e-01 -5.3206e-02 -9.1613e+00  6.0161e+00\n",
      " -2.2223e+00  2.5015e+00 -6.0702e-01 -3.6344e-02  7.1884e+00 -1.4431e+00\n",
      "  2.6156e+00 -1.0148e+00  4.1225e+00 -1.8472e+00  4.6292e+00 -2.6506e+00\n",
      " -1.8937e+00  4.1749e+00 -9.6644e+00 -2.4813e+00 -2.7637e+00 -1.0624e+00\n",
      "  3.5988e+00  4.9833e+00  6.4499e-01  2.5784e-01  9.8727e-01 -4.2485e+00\n",
      "  3.4272e-01 -2.2270e+00 -1.8957e+00  8.0796e-01 -2.0265e+00 -6.1828e+00\n",
      " -2.2378e+00  2.8216e+00 -2.0050e+00 -3.8924e+00 -2.9364e-01 -1.6128e+00\n",
      " -6.7874e-01 -1.9855e+00  1.8221e-01  2.1575e+00  4.9825e-01 -1.7326e+00\n",
      "  4.7886e+00  2.9904e+00  8.3447e-01 -4.7417e+00  2.4697e+00  1.3751e+00\n",
      "  4.5358e+00  6.5386e-01  5.5413e+00  2.3963e+00  1.0031e+00 -8.0664e-01\n",
      " -1.4126e+00  2.8689e+00 -8.7339e+00 -2.7457e+00 -3.1805e-01 -2.4484e-01\n",
      "  3.7117e+00 -1.8636e+00  2.9959e-01  6.5062e-02 -1.5682e+00  1.5876e+00\n",
      "  6.9224e-01 -6.7734e+00  3.1065e+00  2.3973e+00 -3.5138e+00  3.4460e+00\n",
      "  3.4252e+00 -5.1906e+00 -6.9372e-01  1.9435e+00 -1.5669e-01  1.9710e+00\n",
      "  8.7743e-01 -8.3110e+00 -4.0306e-01 -5.0165e+00 -5.6309e-02  4.9249e+00\n",
      " -7.1053e+00 -5.2338e+00  2.3535e+00 -2.5255e+00 -2.7785e+00  5.0149e+00\n",
      " -2.8405e+00 -1.8614e+00  2.8818e-03  1.3281e+00  1.0194e+00  3.5155e+00\n",
      "  2.7971e-01  1.3251e+00  1.4386e+00 -6.1719e-01 -2.6864e+00 -3.9613e+00\n",
      "  4.5749e+00 -1.0939e+00  1.3289e+00 -9.5484e-01 -5.4675e+00  2.1607e+00\n",
      "  5.0715e-01  1.4860e-01 -4.8571e+00 -2.2213e+00 -2.3498e-01 -4.2629e+00\n",
      " -8.7002e-01  3.3796e+00 -4.3989e+00  6.1047e+00  3.7927e+00 -6.0760e+00\n",
      "  3.1840e+00 -8.3104e-01 -5.4015e+00 -6.2916e+00  1.2497e+00  1.8026e+00\n",
      " -3.4535e+00 -2.1652e-01 -1.4958e+00  5.7946e-01  2.2505e+00  2.0868e+00\n",
      "  3.9621e-01  1.6076e+00  4.0635e+00 -3.4088e+00 -1.0590e+00 -3.6376e+00\n",
      "  2.0501e+00  1.4785e+00 -1.8906e+00 -2.6215e-01 -5.1386e+00  3.7029e+00\n",
      " -1.8151e+00 -3.2759e+00 -5.1866e+00  2.5485e-01 -4.5696e+00  1.0147e+01\n",
      " -3.0195e+00 -2.4640e+00  7.5459e-01 -5.6395e+00 -5.4095e+00 -2.4363e+00\n",
      " -4.3922e-01 -4.0911e+00 -3.5194e+00  1.8031e+00 -1.3644e-01  6.7990e+00\n",
      "  5.8461e+00  5.3452e-01  1.1042e+00  3.5698e+00  4.4668e+00 -2.4537e+00\n",
      " -2.1832e+00  1.5293e+00 -1.9414e+00 -8.8675e-02 -1.1825e+00 -3.9996e+00\n",
      "  2.8077e+00 -1.8000e+00  4.2545e+00 -1.3813e+00 -2.2921e+00  3.7889e+00\n",
      " -1.5837e+00 -7.2078e-01  4.7743e+00 -3.0923e+00  8.4709e+00  3.0132e-01\n",
      " -5.6173e+00 -5.4610e-01 -4.8459e+00  6.0303e+00 -6.9664e+00  3.1445e+00]\n",
      "banana [ 0.20778  -2.4151    0.36605   2.0139   -0.23752  -3.1952   -0.2952\n",
      "  1.2272   -3.4129   -0.54969   0.32634  -1.0813    0.55626   1.5195\n",
      "  0.97797  -3.1816   -0.37207  -0.86093   2.1509   -4.0845    0.035405\n",
      "  3.5702   -0.79413  -1.7025   -1.6371   -3.198    -1.9387    0.91166\n",
      "  0.85409   1.8039   -1.103    -2.5274    1.6365   -0.82082   1.0278\n",
      " -1.705     1.5511   -0.95633  -1.4702   -1.865    -0.19324  -0.49123\n",
      "  2.2361    2.2119    3.6654    1.7943   -0.20601   1.5483   -1.3964\n",
      " -0.50819   2.1288   -2.332     1.3539   -2.1917    1.8923    0.28472\n",
      "  0.54285   1.2309    0.26027   1.9542    1.1739   -0.40348   3.2028\n",
      "  0.75381  -2.7179   -1.3587   -1.1965   -2.0923    2.2855   -0.3058\n",
      " -0.63174   0.70083   0.16899   1.2325    0.97006  -0.23356  -2.094\n",
      " -1.737     3.6075   -1.511    -0.9135    0.53878   0.49268   0.44751\n",
      "  0.6315    1.4963    4.1725    2.1961   -1.2409    0.4214    2.9678\n",
      "  1.841     3.0133   -4.4652    0.96521  -0.29787   4.3386   -1.2527\n",
      " -1.7734   -3.5637   -0.20035  -3.3013    0.99951  -0.92888  -0.94594\n",
      "  1.5124   -3.9385    2.7935   -3.1042    3.3382    0.54513  -0.37663\n",
      "  2.5151    0.51468  -0.88907   1.011     3.4705   -3.6037    1.3702\n",
      "  2.3468    1.6674    1.3904   -2.8112    2.237    -1.0344   -0.57164\n",
      "  1.0641   -1.6919    1.958    -0.78305   0.14741   0.51083   1.8278\n",
      " -0.69638   0.90548   0.62282  -1.8315   -2.8587    0.48424  -2.0527\n",
      " -0.53808  -2.3472    1.0354   -1.8257   -0.3892   -0.24943   0.8651\n",
      " -1.5195    1.2166   -2.698    -0.96698   2.2175   -0.16089  -0.49677\n",
      " -0.19646   1.3284    4.0824    1.3919    0.80669  -1.0316   -0.28056\n",
      " -1.8632    0.47716  -0.53628   1.3853   -2.1755   -0.2354    2.4933\n",
      " -0.87255   1.4493   -0.10778  -0.44159   1.3462    4.4211   -1.8385\n",
      "  0.3985    0.47637  -0.60074   3.3583   -0.15006  -0.40495   2.7225\n",
      " -1.6297    0.86797  -4.1445   -2.7793    1.1535   -0.011691  0.9792\n",
      " -1.0141    0.80134   0.43642   1.4337    2.8927    0.82871  -1.1827\n",
      " -1.3838    2.3903   -0.89323   1.1461   -1.7435    0.8654   -0.27075\n",
      " -0.78698   1.5631   -0.5923    0.098082 -0.26682   1.6282   -0.77495\n",
      "  3.2552    1.7964   -1.4314    1.2336    2.3102   -1.6328    2.8366\n",
      " -0.71384   0.43967   1.5627    3.079    -0.922    -0.43981  -0.7659\n",
      "  1.9362   -2.2479    1.041     0.63206   1.5855    3.4097   -2.9204\n",
      " -1.4751   -0.59534  -1.688    -4.1362    2.745    -2.8515    3.6509\n",
      " -0.66993  -2.8794    2.0733    1.1779   -2.0307    2.595    -0.12246\n",
      "  1.5844    1.1855    0.022385 -2.2916   -2.2684   -2.7537    0.34981\n",
      " -4.6243   -0.96521  -1.1435   -2.8894   -0.12619   2.9577   -1.7227\n",
      "  0.24757   1.2149    3.5349   -0.95802   0.080346 -1.6553   -0.6734\n",
      "  2.2918   -1.8229   -1.1336    1.8884    2.4789   -0.66061   2.0529\n",
      " -0.76687   0.32362  -2.2579    0.91278   0.36231   0.61562  -0.15396\n",
      " -0.42917  -0.89848   0.17298  -0.76978  -2.0222   -1.7127   -1.5632\n",
      "  0.56631  -1.354     2.6261    1.9156   -1.5651    1.8315   -1.4257\n",
      " -1.6861   -0.51953   1.7635   -0.50722   1.388    -1.1012  ]\n",
      "afskfsd [0. 0. 0. 0. 0. 0. 0. 0. 0. 0. 0. 0. 0. 0. 0. 0. 0. 0. 0. 0. 0. 0. 0. 0.\n",
      " 0. 0. 0. 0. 0. 0. 0. 0. 0. 0. 0. 0. 0. 0. 0. 0. 0. 0. 0. 0. 0. 0. 0. 0.\n",
      " 0. 0. 0. 0. 0. 0. 0. 0. 0. 0. 0. 0. 0. 0. 0. 0. 0. 0. 0. 0. 0. 0. 0. 0.\n",
      " 0. 0. 0. 0. 0. 0. 0. 0. 0. 0. 0. 0. 0. 0. 0. 0. 0. 0. 0. 0. 0. 0. 0. 0.\n",
      " 0. 0. 0. 0. 0. 0. 0. 0. 0. 0. 0. 0. 0. 0. 0. 0. 0. 0. 0. 0. 0. 0. 0. 0.\n",
      " 0. 0. 0. 0. 0. 0. 0. 0. 0. 0. 0. 0. 0. 0. 0. 0. 0. 0. 0. 0. 0. 0. 0. 0.\n",
      " 0. 0. 0. 0. 0. 0. 0. 0. 0. 0. 0. 0. 0. 0. 0. 0. 0. 0. 0. 0. 0. 0. 0. 0.\n",
      " 0. 0. 0. 0. 0. 0. 0. 0. 0. 0. 0. 0. 0. 0. 0. 0. 0. 0. 0. 0. 0. 0. 0. 0.\n",
      " 0. 0. 0. 0. 0. 0. 0. 0. 0. 0. 0. 0. 0. 0. 0. 0. 0. 0. 0. 0. 0. 0. 0. 0.\n",
      " 0. 0. 0. 0. 0. 0. 0. 0. 0. 0. 0. 0. 0. 0. 0. 0. 0. 0. 0. 0. 0. 0. 0. 0.\n",
      " 0. 0. 0. 0. 0. 0. 0. 0. 0. 0. 0. 0. 0. 0. 0. 0. 0. 0. 0. 0. 0. 0. 0. 0.\n",
      " 0. 0. 0. 0. 0. 0. 0. 0. 0. 0. 0. 0. 0. 0. 0. 0. 0. 0. 0. 0. 0. 0. 0. 0.\n",
      " 0. 0. 0. 0. 0. 0. 0. 0. 0. 0. 0. 0.]\n"
     ]
    }
   ],
   "source": [
    "nlp = spacy.load(\"en_core_web_lg\")\n",
    "tokens = nlp(\"dog cat banana afskfsd\")\n",
    "\n",
    "for token in tokens:\n",
    "    print(token.text, token.vector)"
   ],
   "metadata": {
    "collapsed": false
   }
  },
  {
   "cell_type": "markdown",
   "source": [
    "### Getting average text embeddings"
   ],
   "metadata": {
    "collapsed": false
   }
  },
  {
   "cell_type": "code",
   "execution_count": 19,
   "outputs": [],
   "source": [
    "def avg_text_embedding(text):\n",
    "\n",
    "    nlp = spacy.load(\"en_core_web_lg\")\n",
    "    tokens = nlp(text)\n",
    "    sum=0\n",
    "    counter=0\n",
    "    for token in tokens:\n",
    "        sum+=token.vector\n",
    "        counter+=1\n",
    "    return sum/counter"
   ],
   "metadata": {
    "collapsed": false
   }
  },
  {
   "cell_type": "code",
   "execution_count": null,
   "outputs": [],
   "source": [
    "essays[\"average_word_embedding\"]=essays.apply(lambda x: avg_text_embedding(punc_lower(x[\"TEXT\"])), axis=1)"
   ],
   "metadata": {
    "collapsed": false,
    "pycharm": {
     "is_executing": true
    }
   }
  },
  {
   "cell_type": "code",
   "execution_count": null,
   "outputs": [],
   "source": [
    "essays.head()"
   ],
   "metadata": {
    "collapsed": false
   }
  },
  {
   "cell_type": "code",
   "execution_count": null,
   "outputs": [],
   "source": [
    "essays.to_csv(\"../../data/essays_expanded.csv\", index=False)"
   ],
   "metadata": {
    "collapsed": false
   }
  }
 ],
 "metadata": {
  "kernelspec": {
   "display_name": "Python 3",
   "language": "python",
   "name": "python3"
  },
  "language_info": {
   "codemirror_mode": {
    "name": "ipython",
    "version": 2
   },
   "file_extension": ".py",
   "mimetype": "text/x-python",
   "name": "python",
   "nbconvert_exporter": "python",
   "pygments_lexer": "ipython2",
   "version": "2.7.6"
  }
 },
 "nbformat": 4,
 "nbformat_minor": 0
}
