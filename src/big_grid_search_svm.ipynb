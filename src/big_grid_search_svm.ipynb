{
 "cells": [
  {
   "cell_type": "code",
   "execution_count": 1,
   "metadata": {},
   "outputs": [
    {
     "name": "stderr",
     "output_type": "stream",
     "text": [
      "[nltk_data] Downloading package stopwords to\n",
      "[nltk_data]     C:\\Users\\jurin\\AppData\\Roaming\\nltk_data...\n",
      "[nltk_data]   Package stopwords is already up-to-date!\n"
     ]
    },
    {
     "data": {
      "text/html": [
       "<div>\n",
       "<style scoped>\n",
       "    .dataframe tbody tr th:only-of-type {\n",
       "        vertical-align: middle;\n",
       "    }\n",
       "\n",
       "    .dataframe tbody tr th {\n",
       "        vertical-align: top;\n",
       "    }\n",
       "\n",
       "    .dataframe thead th {\n",
       "        text-align: right;\n",
       "    }\n",
       "</style>\n",
       "<table border=\"1\" class=\"dataframe\">\n",
       "  <thead>\n",
       "    <tr style=\"text-align: right;\">\n",
       "      <th></th>\n",
       "      <th>TEXT</th>\n",
       "      <th>cEXT</th>\n",
       "      <th>cNEU</th>\n",
       "      <th>cAGR</th>\n",
       "      <th>cCON</th>\n",
       "      <th>cOPN</th>\n",
       "      <th>words</th>\n",
       "      <th>sentences</th>\n",
       "      <th>bigrams</th>\n",
       "      <th>trigrams</th>\n",
       "      <th>average_word_embedding</th>\n",
       "    </tr>\n",
       "  </thead>\n",
       "  <tbody>\n",
       "    <tr>\n",
       "      <th>0</th>\n",
       "      <td>Well, right now I just woke up from a mid-day ...</td>\n",
       "      <td>0</td>\n",
       "      <td>1</td>\n",
       "      <td>1</td>\n",
       "      <td>0</td>\n",
       "      <td>1</td>\n",
       "      <td>['well', 'right', 'now', 'i', 'just', 'woke', ...</td>\n",
       "      <td>['well, right now i just woke up from a mid-da...</td>\n",
       "      <td>[('well', 'right'), ('right', 'now'), ('now', ...</td>\n",
       "      <td>[('well', 'right', 'now'), ('right', 'now', 'i...</td>\n",
       "      <td>[ 1.46904569e-02  1.52049020e-01 -2.17639774e-...</td>\n",
       "    </tr>\n",
       "    <tr>\n",
       "      <th>1</th>\n",
       "      <td>Well, here we go with the stream of consciousn...</td>\n",
       "      <td>0</td>\n",
       "      <td>0</td>\n",
       "      <td>1</td>\n",
       "      <td>0</td>\n",
       "      <td>0</td>\n",
       "      <td>['well', 'here', 'we', 'go', 'with', 'the', 's...</td>\n",
       "      <td>['well, here we go with the stream of consciou...</td>\n",
       "      <td>[('well', 'here'), ('here', 'we'), ('we', 'go'...</td>\n",
       "      <td>[('well', 'here', 'we'), ('here', 'we', 'go'),...</td>\n",
       "      <td>[ 1.93020366e-02  2.00337350e-01 -2.47012377e-...</td>\n",
       "    </tr>\n",
       "    <tr>\n",
       "      <th>2</th>\n",
       "      <td>An open keyboard and buttons to push. The thin...</td>\n",
       "      <td>0</td>\n",
       "      <td>1</td>\n",
       "      <td>0</td>\n",
       "      <td>1</td>\n",
       "      <td>1</td>\n",
       "      <td>['an', 'open', 'keyboard', 'and', 'buttons', '...</td>\n",
       "      <td>['an open keyboard and buttons to push.', 'the...</td>\n",
       "      <td>[('an', 'open'), ('open', 'keyboard'), ('keybo...</td>\n",
       "      <td>[('an', 'open', 'keyboard'), ('open', 'keyboar...</td>\n",
       "      <td>[ 1.21683925e-02  1.49960428e-01 -2.17856288e-...</td>\n",
       "    </tr>\n",
       "    <tr>\n",
       "      <th>3</th>\n",
       "      <td>I can't believe it!  It's really happening!  M...</td>\n",
       "      <td>1</td>\n",
       "      <td>0</td>\n",
       "      <td>1</td>\n",
       "      <td>1</td>\n",
       "      <td>0</td>\n",
       "      <td>['i', 'cant', 'believe', 'it', 'its', 'really'...</td>\n",
       "      <td>[\"i can't believe it!\", \"it's really happening...</td>\n",
       "      <td>[('i', 'cant'), ('cant', 'believe'), ('believe...</td>\n",
       "      <td>[('i', 'cant', 'believe'), ('cant', 'believe',...</td>\n",
       "      <td>[-1.21900747e-02  1.94802403e-01 -2.04183444e-...</td>\n",
       "    </tr>\n",
       "    <tr>\n",
       "      <th>4</th>\n",
       "      <td>Well, here I go with the good old stream of co...</td>\n",
       "      <td>1</td>\n",
       "      <td>0</td>\n",
       "      <td>1</td>\n",
       "      <td>0</td>\n",
       "      <td>1</td>\n",
       "      <td>['well', 'here', 'i', 'go', 'with', 'the', 'go...</td>\n",
       "      <td>['well, here i go with the good old stream of ...</td>\n",
       "      <td>[('well', 'here'), ('here', 'i'), ('i', 'go'),...</td>\n",
       "      <td>[('well', 'here', 'i'), ('here', 'i', 'go'), (...</td>\n",
       "      <td>[-6.53621508e-03  1.72239631e-01 -2.12745324e-...</td>\n",
       "    </tr>\n",
       "  </tbody>\n",
       "</table>\n",
       "</div>"
      ],
      "text/plain": [
       "                                                TEXT  cEXT  cNEU  cAGR  cCON  \\\n",
       "0  Well, right now I just woke up from a mid-day ...     0     1     1     0   \n",
       "1  Well, here we go with the stream of consciousn...     0     0     1     0   \n",
       "2  An open keyboard and buttons to push. The thin...     0     1     0     1   \n",
       "3  I can't believe it!  It's really happening!  M...     1     0     1     1   \n",
       "4  Well, here I go with the good old stream of co...     1     0     1     0   \n",
       "\n",
       "   cOPN                                              words  \\\n",
       "0     1  ['well', 'right', 'now', 'i', 'just', 'woke', ...   \n",
       "1     0  ['well', 'here', 'we', 'go', 'with', 'the', 's...   \n",
       "2     1  ['an', 'open', 'keyboard', 'and', 'buttons', '...   \n",
       "3     0  ['i', 'cant', 'believe', 'it', 'its', 'really'...   \n",
       "4     1  ['well', 'here', 'i', 'go', 'with', 'the', 'go...   \n",
       "\n",
       "                                           sentences  \\\n",
       "0  ['well, right now i just woke up from a mid-da...   \n",
       "1  ['well, here we go with the stream of consciou...   \n",
       "2  ['an open keyboard and buttons to push.', 'the...   \n",
       "3  [\"i can't believe it!\", \"it's really happening...   \n",
       "4  ['well, here i go with the good old stream of ...   \n",
       "\n",
       "                                             bigrams  \\\n",
       "0  [('well', 'right'), ('right', 'now'), ('now', ...   \n",
       "1  [('well', 'here'), ('here', 'we'), ('we', 'go'...   \n",
       "2  [('an', 'open'), ('open', 'keyboard'), ('keybo...   \n",
       "3  [('i', 'cant'), ('cant', 'believe'), ('believe...   \n",
       "4  [('well', 'here'), ('here', 'i'), ('i', 'go'),...   \n",
       "\n",
       "                                            trigrams  \\\n",
       "0  [('well', 'right', 'now'), ('right', 'now', 'i...   \n",
       "1  [('well', 'here', 'we'), ('here', 'we', 'go'),...   \n",
       "2  [('an', 'open', 'keyboard'), ('open', 'keyboar...   \n",
       "3  [('i', 'cant', 'believe'), ('cant', 'believe',...   \n",
       "4  [('well', 'here', 'i'), ('here', 'i', 'go'), (...   \n",
       "\n",
       "                              average_word_embedding  \n",
       "0  [ 1.46904569e-02  1.52049020e-01 -2.17639774e-...  \n",
       "1  [ 1.93020366e-02  2.00337350e-01 -2.47012377e-...  \n",
       "2  [ 1.21683925e-02  1.49960428e-01 -2.17856288e-...  \n",
       "3  [-1.21900747e-02  1.94802403e-01 -2.04183444e-...  \n",
       "4  [-6.53621508e-03  1.72239631e-01 -2.12745324e-...  "
      ]
     },
     "execution_count": 1,
     "metadata": {},
     "output_type": "execute_result"
    }
   ],
   "source": [
    "import pandas as pd\n",
    "import numpy as np\n",
    "from sklearn.linear_model import LogisticRegression as LR\n",
    "from sklearn.svm import SVC\n",
    "from sklearn.model_selection import train_test_split, KFold\n",
    "from sklearn.feature_extraction.text import TfidfVectorizer, CountVectorizer\n",
    "from sklearn.metrics import classification_report\n",
    "from sklearn.metrics import f1_score\n",
    "import nltk\n",
    "from nltk.corpus import stopwords\n",
    " \n",
    "nltk.download('stopwords')\n",
    "\n",
    "from nltk.corpus import stopwords\n",
    "from nltk.tokenize import word_tokenize\n",
    "\n",
    "essays=pd.read_csv(\"../data/essays_expanded.csv\")\n",
    "\n",
    "essays.head()"
   ]
  },
  {
   "cell_type": "code",
   "execution_count": 2,
   "metadata": {},
   "outputs": [],
   "source": [
    "import string\n",
    "import spacy\n",
    "\n",
    "nlp=spacy.load(\"en_core_web_sm\")\n",
    "\n",
    "def lemmatizer(text):\n",
    "    \"\"\"\n",
    "    Receives a string as an input and lemmatizes it.\n",
    "    The lemmas are returned in a list.\n",
    "    \"\"\"\n",
    "    # YOUR CODE HERE\n",
    "    #nlp = spacy.load(\"en_core_web_sm\")\n",
    "    doc=nlp(text)\n",
    "    lemmas=[]\n",
    "    for token in doc:\n",
    "        lemmas.append(token.lemma_)\n",
    "    return lemmas\n",
    "\n",
    "def punc_lower_lemma(text):\n",
    "    \"\"\"\n",
    "    Removes punctuation and converts text to lowercase.\n",
    "    \"\"\"\n",
    "\n",
    "    text=\" \".join(lemmatizer(text))\n",
    "\n",
    "    no_punc=text.translate(str.maketrans(\"\",\"\",string.punctuation))\n",
    "\n",
    "    return no_punc.lower()"
   ]
  },
  {
   "cell_type": "code",
   "execution_count": 3,
   "metadata": {},
   "outputs": [],
   "source": [
    "essays[\"lemmas\"]=essays.apply(lambda x: punc_lower_lemma(x[\"TEXT\"]), axis=1)"
   ]
  },
  {
   "cell_type": "code",
   "execution_count": 4,
   "metadata": {},
   "outputs": [],
   "source": [
    "import string\n",
    "\n",
    "def text_cleaning(text):\n",
    "    \"\"\"\n",
    "    Removes punctuation and stopwords, and converts text to lowercase.\n",
    "    \"\"\"\n",
    "\n",
    "    no_punc=text.translate(str.maketrans(\"\",\"\",string.punctuation))\n",
    "    \n",
    "    stop_words = set(stopwords.words('english'))\n",
    "\n",
    "    word_tokens = word_tokenize(no_punc)\n",
    "\n",
    "    filtered_tokens=[]\n",
    "\n",
    "    for token in word_tokens:\n",
    "\n",
    "        if token.lower() not in stop_words:\n",
    "\n",
    "            filtered_tokens.append(token)\n",
    "    \n",
    "    no_punc=\" \".join(filtered_tokens)\n",
    "    \n",
    "    return no_punc.lower()"
   ]
  },
  {
   "cell_type": "code",
   "execution_count": 5,
   "metadata": {},
   "outputs": [],
   "source": [
    "essays[\"no stop words\"]=essays.apply(lambda x: text_cleaning(x[\"TEXT\"]), axis=1)"
   ]
  },
  {
   "cell_type": "code",
   "execution_count": 6,
   "metadata": {},
   "outputs": [],
   "source": [
    "def punc_lower(text):\n",
    "    \"\"\"\n",
    "    Removes punctuation.\n",
    "    \"\"\"\n",
    "\n",
    "    no_punc=text.translate(str.maketrans(\"\",\"\",string.punctuation))\n",
    "    \n",
    "    return no_punc"
   ]
  },
  {
   "cell_type": "code",
   "execution_count": 7,
   "metadata": {},
   "outputs": [],
   "source": [
    "essays[\"no punc\"]=essays.apply(lambda x: punc_lower(x[\"TEXT\"]), axis=1)"
   ]
  },
  {
   "cell_type": "code",
   "execution_count": 8,
   "metadata": {},
   "outputs": [],
   "source": [
    "text=[\"TEXT\", \"lemmas\", \"no stop words\", \"no punc\"]\n",
    "C=[0.1,1,10]\n",
    "kernel=['rbf', 'linear', 'poly']"
   ]
  },
  {
   "cell_type": "code",
   "execution_count": 9,
   "metadata": {},
   "outputs": [],
   "source": [
    "from itertools import product\n",
    "\n",
    "def grid_search(text, C, kernel, data_train, data_test, vectorizer):\n",
    "\n",
    "    params=[text, C, kernel]\n",
    "\n",
    "    permutations=list(product(*params))\n",
    "\n",
    "    best_f1=0\n",
    "    best_params={}\n",
    "\n",
    "    for text, C, kernel in permutations:\n",
    "\n",
    "        X_train=vectorizer.fit_transform(data_train[text])\n",
    "        X_test=vectorizer.transform(data_test[text])\n",
    "\n",
    "        f1=[]\n",
    "\n",
    "        for personality in [\"cEXT\", \"cOPN\", \"cAGR\", \"cNEU\", \"cCON\"]:\n",
    "\n",
    "            y_train=data_train[[personality]]\n",
    "            y_test=data_test[[personality]]\n",
    "\n",
    "            model=SVC(C=C, kernel=kernel)\n",
    "\n",
    "            model.fit(X_train, y_train)\n",
    "\n",
    "            y_pred=model.predict(X_test)\n",
    "\n",
    "            f1.append(f1_score(y_pred=y_pred, y_true=y_test, average=\"macro\"))\n",
    "\n",
    "        print(f\"Params: text={text}, C={C}, kernel={kernel},   F1:{f1}   avg_f1={sum(f1)/len(f1)}\")\n",
    "        f1=sum(f1)/len(f1)\n",
    "\n",
    "        if f1>best_f1:\n",
    "            print(\"CURRENT BEST!!\")\n",
    "\n",
    "            best_f1=f1\n",
    "\n",
    "            best_params={\"text\":text, \"C\":C, \"kernel\":kernel}\n",
    "\n",
    "\n",
    "    return best_params"
   ]
  },
  {
   "cell_type": "code",
   "execution_count": 10,
   "metadata": {},
   "outputs": [],
   "source": [
    "essays_train, essays_test = train_test_split(\n",
    "    essays[[\"TEXT\", \"lemmas\", \"no stop words\", \"no punc\", \"cEXT\", \"cOPN\", \"cAGR\", \"cCON\", \"cNEU\"]], test_size=0.2\n",
    ")"
   ]
  },
  {
   "cell_type": "code",
   "execution_count": 52,
   "metadata": {},
   "outputs": [
    {
     "name": "stderr",
     "output_type": "stream",
     "text": [
      "c:\\Users\\jurin\\anaconda3\\envs\\tarlab1\\lib\\site-packages\\sklearn\\utils\\validation.py:72: DataConversionWarning: A column-vector y was passed when a 1d array was expected. Please change the shape of y to (n_samples, ), for example using ravel().\n",
      "  return f(**kwargs)\n"
     ]
    },
    {
     "name": "stdout",
     "output_type": "stream",
     "text": [
      "Params: text=TEXT, C=0.1, kernel=rbf,   F1:[0.34828496042216356, 0.4580117503455286, 0.34308510638297873, 0.46903609800031437, 0.4638491440629229]   avg_f1=0.4164534118427817\n",
      "CURRENT BEST!!\n",
      "Params: text=TEXT, C=0.1, kernel=linear,   F1:[0.5563483562659636, 0.5744523750922963, 0.5251951039185081, 0.5161885009793755, 0.540438750712058]   avg_f1=0.5425246173936402\n",
      "CURRENT BEST!!\n",
      "Params: text=TEXT, C=0.1, kernel=poly,   F1:[0.3805728174109979, 0.44815679902508376, 0.36516517847251456, 0.4185974127030444, 0.3432903803274174]   avg_f1=0.39115651758781167\n",
      "Params: text=TEXT, C=1, kernel=rbf,   F1:[0.5919970334412081, 0.5809562056657664, 0.5144374655647383, 0.5563483562659637, 0.5664534120734908]   avg_f1=0.5620384946022335\n",
      "CURRENT BEST!!\n",
      "Params: text=TEXT, C=1, kernel=linear,   F1:[0.5503745711685221, 0.5662257090336135, 0.5128205128205129, 0.5264753676848709, 0.544517614854094]   avg_f1=0.5400827551123226\n",
      "Params: text=TEXT, C=1, kernel=poly,   F1:[0.49304039893040397, 0.46482738697096637, 0.4228823459782715, 0.4618663412208737, 0.5331152308251544]   avg_f1=0.47514634078513396\n",
      "Params: text=TEXT, C=10, kernel=rbf,   F1:[0.5840377757231541, 0.5726626078756942, 0.552497004763157, 0.5240555111411762, 0.5564602422975216]   avg_f1=0.5579426283601406\n",
      "Params: text=TEXT, C=10, kernel=linear,   F1:[0.5503745711685221, 0.5662257090336135, 0.5128205128205129, 0.5264753676848709, 0.544517614854094]   avg_f1=0.5400827551123226\n",
      "Params: text=TEXT, C=10, kernel=poly,   F1:[0.528843622553568, 0.5201160663596796, 0.5108424461769296, 0.5159104461430042, 0.5579251973772247]   avg_f1=0.5267275557220812\n",
      "Params: text=lemmas, C=0.1, kernel=rbf,   F1:[0.34828496042216356, 0.409458943603962, 0.34308510638297873, 0.4796355772248664, 0.4422459077137688]   avg_f1=0.40454209906954797\n",
      "Params: text=lemmas, C=0.1, kernel=linear,   F1:[0.5762962962962963, 0.5685271069886455, 0.529059829059829, 0.5218915123285188, 0.5101134277471807]   avg_f1=0.5411776344840941\n",
      "Params: text=lemmas, C=0.1, kernel=poly,   F1:[0.394830664432664, 0.4338232093893717, 0.35240336134453787, 0.41892607186967, 0.3390251672507168]   avg_f1=0.387801694857392\n",
      "Params: text=lemmas, C=1, kernel=rbf,   F1:[0.5613776461741727, 0.5808875063015653, 0.48985272988505746, 0.5644887533986982, 0.5519688109161793]   avg_f1=0.5497150893351346\n",
      "Params: text=lemmas, C=1, kernel=linear,   F1:[0.5660903971498465, 0.5725784956554187, 0.5221591540541765, 0.514025692846588, 0.49593282710519737]   avg_f1=0.5341573133622454\n",
      "Params: text=lemmas, C=1, kernel=poly,   F1:[0.4671723322083434, 0.4825178597922015, 0.41510048549462025, 0.4730479305930877, 0.5694670547415848]   avg_f1=0.48146113256596756\n",
      "Params: text=lemmas, C=10, kernel=rbf,   F1:[0.6005834792031342, 0.5464918032786885, 0.5627970185939407, 0.5485367462942244, 0.526036114345694]   avg_f1=0.5568890323431364\n",
      "Params: text=lemmas, C=10, kernel=linear,   F1:[0.5660903971498465, 0.5725784956554187, 0.5221591540541765, 0.514025692846588, 0.49593282710519737]   avg_f1=0.5341573133622454\n",
      "Params: text=lemmas, C=10, kernel=poly,   F1:[0.5204137468448272, 0.5266608391608392, 0.5000268696820421, 0.503496709350491, 0.5367172977408604]   avg_f1=0.5174630925558119\n",
      "Params: text=no stop words, C=0.1, kernel=rbf,   F1:[0.34828496042216356, 0.3501121463077984, 0.34308510638297873, 0.49535277075343725, 0.32971506105834464]   avg_f1=0.3733100089849445\n",
      "Params: text=no stop words, C=0.1, kernel=linear,   F1:[0.5536052484991025, 0.5726626078756945, 0.5018255010352053, 0.5200049197466331, 0.5384312761249078]   avg_f1=0.5373059106563087\n",
      "Params: text=no stop words, C=0.1, kernel=poly,   F1:[0.3606403483921856, 0.39122576404863624, 0.3496642170341116, 0.3872439180537772, 0.35386321781349406]   avg_f1=0.3685274930684409\n",
      "Params: text=no stop words, C=1, kernel=rbf,   F1:[0.550977124678079, 0.5857135809777515, 0.5317535545023696, 0.5523215523215523, 0.55782748653265]   avg_f1=0.5557186598024805\n",
      "Params: text=no stop words, C=1, kernel=linear,   F1:[0.5680179511293701, 0.5604243296550988, 0.4915184453227932, 0.5340387139107612, 0.5403332581828615]   avg_f1=0.538866539640177\n",
      "Params: text=no stop words, C=1, kernel=poly,   F1:[0.476823978296508, 0.4794427180722027, 0.4299113610135782, 0.4675271818128961, 0.5128205128205128]   avg_f1=0.4733051504031396\n",
      "Params: text=no stop words, C=10, kernel=rbf,   F1:[0.5608017301624715, 0.5782560869493836, 0.5408537504396027, 0.5256860556722689, 0.5484923377065172]   avg_f1=0.5508179921860489\n",
      "Params: text=no stop words, C=10, kernel=linear,   F1:[0.5680179511293701, 0.5604243296550988, 0.4915184453227932, 0.5340387139107612, 0.5403332581828615]   avg_f1=0.538866539640177\n",
      "Params: text=no stop words, C=10, kernel=poly,   F1:[0.5306793455656689, 0.572633998537248, 0.5310317197651937, 0.4964913531674293, 0.5450972653873349]   avg_f1=0.5351867364845749\n",
      "Params: text=no punc, C=0.1, kernel=rbf,   F1:[0.34828496042216356, 0.4522045940042723, 0.34308510638297873, 0.48322639391821787, 0.4668919587079243]   avg_f1=0.4187386026871113\n",
      "Params: text=no punc, C=0.1, kernel=linear,   F1:[0.5606719367588933, 0.559600839731976, 0.5128205128205129, 0.5412393162393163, 0.5303335792148185]   avg_f1=0.5409332369531034\n",
      "Params: text=no punc, C=0.1, kernel=poly,   F1:[0.3771045454292967, 0.43515503875968997, 0.36965780097771145, 0.4140837891352506, 0.34132291946644744]   avg_f1=0.3874648187536793\n",
      "Params: text=no punc, C=1, kernel=rbf,   F1:[0.5811802232854865, 0.5910663060404885, 0.5133047930831864, 0.5487136437706781, 0.5606405259296602]   avg_f1=0.5589810984218999\n",
      "Params: text=no punc, C=1, kernel=linear,   F1:[0.5530073703606213, 0.5557170841084651, 0.5331196581196582, 0.5431697402869625, 0.5323867478025692]   avg_f1=0.5434801201356553\n",
      "Params: text=no punc, C=1, kernel=poly,   F1:[0.48684210526315785, 0.4752638596967026, 0.42044622044622043, 0.47041166380789023, 0.5110426385278777]   avg_f1=0.4728012975483697\n",
      "Params: text=no punc, C=10, kernel=rbf,   F1:[0.5943718924717873, 0.5809699428360686, 0.5393018918198774, 0.5425026226068712, 0.5383404652992967]   avg_f1=0.5590973630067803\n",
      "Params: text=no punc, C=10, kernel=linear,   F1:[0.5530073703606213, 0.5557170841084651, 0.5331196581196582, 0.5431697402869625, 0.5323867478025692]   avg_f1=0.5434801201356553\n",
      "Params: text=no punc, C=10, kernel=poly,   F1:[0.5450193931689347, 0.5284257448642738, 0.5200971463266546, 0.5112524890731255, 0.5488697349162466]   avg_f1=0.530732901669847\n"
     ]
    }
   ],
   "source": [
    "vectorizer=CountVectorizer()\n",
    "\n",
    "best=grid_search(text, C, kernel, essays_train, essays_test, vectorizer)"
   ]
  },
  {
   "cell_type": "code",
   "execution_count": 53,
   "metadata": {},
   "outputs": [
    {
     "name": "stdout",
     "output_type": "stream",
     "text": [
      "{'text': 'TEXT', 'C': 1, 'kernel': 'rbf'}\n"
     ]
    }
   ],
   "source": [
    "print(best)"
   ]
  },
  {
   "cell_type": "code",
   "execution_count": 54,
   "metadata": {},
   "outputs": [
    {
     "name": "stdout",
     "output_type": "stream",
     "text": [
      "Params: text=TEXT, C=0.1, kernel=rbf,   F1:[0.34828496042216356, 0.33423180592991913, 0.34308510638297873, 0.328804347826087, 0.32971506105834464]   avg_f1=0.3368242563238986\n",
      "CURRENT BEST!!\n",
      "Params: text=TEXT, C=0.1, kernel=linear,   F1:[0.34828496042216356, 0.4806614982118427, 0.34308510638297873, 0.3337793352447701, 0.33757428822759555]   avg_f1=0.3686770376978702\n",
      "CURRENT BEST!!\n",
      "Params: text=TEXT, C=0.1, kernel=poly,   F1:[0.34828496042216356, 0.33423180592991913, 0.34308510638297873, 0.328804347826087, 0.32971506105834464]   avg_f1=0.3368242563238986\n",
      "Params: text=TEXT, C=1, kernel=rbf,   F1:[0.5992405994915028, 0.6172818757557746, 0.5257296466973886, 0.5744523750922964, 0.5711805555555556]   avg_f1=0.5775770105185035\n",
      "CURRENT BEST!!\n",
      "Params: text=TEXT, C=1, kernel=linear,   F1:[0.6139253996447602, 0.6194331983805669, 0.5476015426485573, 0.5745570866141732, 0.550046369899311]   avg_f1=0.5811127194374738\n",
      "CURRENT BEST!!\n",
      "Params: text=TEXT, C=1, kernel=poly,   F1:[0.6032623847866343, 0.6120232735048006, 0.5450570636737644, 0.5767826033489782, 0.5848397462305346]   avg_f1=0.5843930143089425\n",
      "CURRENT BEST!!\n",
      "Params: text=TEXT, C=10, kernel=rbf,   F1:[0.6151691445809093, 0.6072295081967213, 0.543719841779361, 0.5585125879799515, 0.5626885245901638]   avg_f1=0.5774639214254214\n",
      "Params: text=TEXT, C=10, kernel=linear,   F1:[0.6022495014183256, 0.6072874493927126, 0.5561545372866128, 0.5450972653873349, 0.5483590595084353]   avg_f1=0.5718295625986842\n",
      "Params: text=TEXT, C=10, kernel=poly,   F1:[0.6233933744596505, 0.6084630010636244, 0.5349275089437018, 0.5687393180784222, 0.5829891161814844]   avg_f1=0.5837024637453766\n",
      "Params: text=lemmas, C=0.1, kernel=rbf,   F1:[0.34828496042216356, 0.3544567234008228, 0.34308510638297873, 0.3375742882275955, 0.32971506105834464]   avg_f1=0.34262322789838107\n",
      "Params: text=lemmas, C=0.1, kernel=linear,   F1:[0.34828496042216356, 0.41938400337532394, 0.34308510638297873, 0.353863217813494, 0.32971506105834464]   avg_f1=0.358866469810461\n",
      "Params: text=lemmas, C=0.1, kernel=poly,   F1:[0.34828496042216356, 0.37362637362637363, 0.34308510638297873, 0.34329038032741743, 0.32971506105834464]   avg_f1=0.3476003763634556\n",
      "Params: text=lemmas, C=1, kernel=rbf,   F1:[0.6171457058234573, 0.6234570936808459, 0.5329516870500477, 0.556271046015151, 0.565835241690908]   avg_f1=0.579132154852082\n",
      "Params: text=lemmas, C=1, kernel=linear,   F1:[0.5878337378640777, 0.6214187065337218, 0.5405889306077041, 0.5476023276538251, 0.5638050466987525]   avg_f1=0.5722497498716163\n",
      "Params: text=lemmas, C=1, kernel=poly,   F1:[0.6017982980986571, 0.6070555819789087, 0.5505272108843537, 0.5767826033489782, 0.5721012336049591]   avg_f1=0.5816529855831714\n",
      "Params: text=lemmas, C=10, kernel=rbf,   F1:[0.611409697254243, 0.6113296616837136, 0.5451366093142902, 0.5524096509029784, 0.540468882541686]   avg_f1=0.5721509003393822\n",
      "Params: text=lemmas, C=10, kernel=linear,   F1:[0.5747886216028104, 0.599025974025974, 0.5384260764693534, 0.5456576008408882, 0.5303566745344873]   avg_f1=0.5576509894947026\n",
      "Params: text=lemmas, C=10, kernel=poly,   F1:[0.6329745079910183, 0.611234076041513, 0.543719841779361, 0.5422400078723371, 0.5525857440853076]   avg_f1=0.5765508355539074\n",
      "Params: text=no stop words, C=0.1, kernel=rbf,   F1:[0.34828496042216356, 0.33423180592991913, 0.34308510638297873, 0.328804347826087, 0.32971506105834464]   avg_f1=0.3368242563238986\n",
      "Params: text=no stop words, C=0.1, kernel=linear,   F1:[0.34828496042216356, 0.40673343103729037, 0.34308510638297873, 0.3332042698502326, 0.32971506105834464]   avg_f1=0.352204565750202\n",
      "Params: text=no stop words, C=0.1, kernel=poly,   F1:[0.34828496042216356, 0.33423180592991913, 0.34308510638297873, 0.328804347826087, 0.32971506105834464]   avg_f1=0.3368242563238986\n",
      "Params: text=no stop words, C=1, kernel=rbf,   F1:[0.5777155490051584, 0.6351431197478992, 0.5356566462711714, 0.5565911298552791, 0.5541791838198024]   avg_f1=0.5718571257398621\n",
      "Params: text=no stop words, C=1, kernel=linear,   F1:[0.5931890399108286, 0.6275303643724696, 0.5473267711381651, 0.535598021305856, 0.563659818167626]   avg_f1=0.573460802978989\n",
      "Params: text=no stop words, C=1, kernel=poly,   F1:[0.5254298642533938, 0.5872563085492448, 0.35515228271314864, 0.5278569663013924, 0.5411083540115799]   avg_f1=0.5073607551657519\n",
      "Params: text=no stop words, C=10, kernel=rbf,   F1:[0.5861479761114796, 0.6211951596566981, 0.5278672032193159, 0.5437098462612122, 0.5786089238845145]   avg_f1=0.571505821826644\n",
      "Params: text=no stop words, C=10, kernel=linear,   F1:[0.5582273449920508, 0.5971511349153986, 0.5269268866082768, 0.5401673863212325, 0.5344053238919486]   avg_f1=0.5513756153457814\n",
      "Params: text=no stop words, C=10, kernel=poly,   F1:[0.5394946696885755, 0.5978659720221919, 0.43187184497638825, 0.5376038595550792, 0.5711805555555556]   avg_f1=0.5356033803595581\n",
      "Params: text=no punc, C=0.1, kernel=rbf,   F1:[0.34828496042216356, 0.33423180592991913, 0.34308510638297873, 0.328804347826087, 0.32971506105834464]   avg_f1=0.3368242563238986\n",
      "Params: text=no punc, C=0.1, kernel=linear,   F1:[0.34828496042216356, 0.4535904145166084, 0.34308510638297873, 0.33473148557224, 0.33851738323788017]   avg_f1=0.3636418700263741\n",
      "Params: text=no punc, C=0.1, kernel=poly,   F1:[0.34828496042216356, 0.33423180592991913, 0.34308510638297873, 0.328804347826087, 0.32971506105834464]   avg_f1=0.3368242563238986\n",
      "Params: text=no punc, C=1, kernel=rbf,   F1:[0.6070369936194798, 0.6092717131604724, 0.5253063749687372, 0.5482701636547791, 0.5718035926561881]   avg_f1=0.5723377676119312\n",
      "Params: text=no punc, C=1, kernel=linear,   F1:[0.6120315656406574, 0.625381730237134, 0.5331615120274914, 0.5604243296550988, 0.5557920440858618]   avg_f1=0.5773582363292487\n",
      "Params: text=no punc, C=1, kernel=poly,   F1:[0.6155961966585524, 0.6185328185328185, 0.5329516870500477, 0.5667377049180328, 0.569997372224412]   avg_f1=0.5807631558767727\n",
      "Params: text=no punc, C=10, kernel=rbf,   F1:[0.6120205026455026, 0.6111065553605695, 0.5522751257061269, 0.543859649122807, 0.5546485706792552]   avg_f1=0.5747820807028522\n",
      "Params: text=no punc, C=10, kernel=linear,   F1:[0.6054296769921577, 0.6051838827478514, 0.5355980213058561, 0.5320646089876858, 0.5282453573346122]   avg_f1=0.5613043094736325\n",
      "Params: text=no punc, C=10, kernel=poly,   F1:[0.6267264551771978, 0.6104164955228786, 0.5594065182962408, 0.5645614250866081, 0.5526150794789102]   avg_f1=0.582745194712367\n"
     ]
    }
   ],
   "source": [
    "vectorizer=TfidfVectorizer()\n",
    "\n",
    "best=grid_search(text, C, kernel, essays_train, essays_test, vectorizer)"
   ]
  },
  {
   "cell_type": "code",
   "execution_count": 55,
   "metadata": {},
   "outputs": [
    {
     "name": "stdout",
     "output_type": "stream",
     "text": [
      "{'text': 'TEXT', 'C': 1, 'kernel': 'poly'}\n"
     ]
    }
   ],
   "source": [
    "print(best)"
   ]
  },
  {
   "cell_type": "code",
   "execution_count": 56,
   "metadata": {},
   "outputs": [
    {
     "name": "stdout",
     "output_type": "stream",
     "text": [
      "Params: text=TEXT, C=0.1, kernel=rbf,   F1:[0.34828496042216356, 0.34573780860276665, 0.34308510638297873, 0.4717853200883002, 0.3978057700121902]   avg_f1=0.38133979310167987\n",
      "CURRENT BEST!!\n",
      "Params: text=TEXT, C=0.1, kernel=linear,   F1:[0.5615627073656271, 0.6153593967707565, 0.5537936571657969, 0.5564602422975217, 0.5524096509029786]   avg_f1=0.5679171309005361\n",
      "CURRENT BEST!!\n",
      "Params: text=TEXT, C=0.1, kernel=poly,   F1:[0.35886328776820775, 0.4119047619047619, 0.3514923663908922, 0.3957627587873175, 0.3399905252119851]   avg_f1=0.3716027400126328\n",
      "Params: text=TEXT, C=1, kernel=rbf,   F1:[0.5637828175141607, 0.5970850905990892, 0.4888937720888499, 0.5465951234908861, 0.5728754940711462]   avg_f1=0.5538464595528264\n",
      "Params: text=TEXT, C=1, kernel=linear,   F1:[0.5615627073656271, 0.6153593967707565, 0.5537936571657969, 0.5564602422975217, 0.5524096509029786]   avg_f1=0.5679171309005361\n",
      "Params: text=TEXT, C=1, kernel=poly,   F1:[0.45417045203427703, 0.476544540229885, 0.4306183897190614, 0.44842047930283224, 0.5053734730658835]   avg_f1=0.4630254668703878\n",
      "Params: text=TEXT, C=10, kernel=rbf,   F1:[0.5685048584264968, 0.611336032388664, 0.5648799417899587, 0.5566347418763908, 0.5544983700958086]   avg_f1=0.5711707889154638\n",
      "CURRENT BEST!!\n",
      "Params: text=TEXT, C=10, kernel=linear,   F1:[0.5615627073656271, 0.6153593967707565, 0.5537936571657969, 0.5564602422975217, 0.5524096509029786]   avg_f1=0.5679171309005361\n",
      "Params: text=TEXT, C=10, kernel=poly,   F1:[0.5303346689993793, 0.5520970237402053, 0.5554310359465471, 0.5520970237402054, 0.5510845206521516]   avg_f1=0.5482088546156978\n",
      "Params: text=lemmas, C=0.1, kernel=rbf,   F1:[0.34828496042216356, 0.3544567234008228, 0.34308510638297873, 0.4829230471021516, 0.3936054810162718]   avg_f1=0.38447106366487765\n",
      "Params: text=lemmas, C=0.1, kernel=linear,   F1:[0.5529707327352889, 0.6091820212744155, 0.5615360139333143, 0.5519688109161793, 0.5057812474373903]   avg_f1=0.5562877652593177\n",
      "Params: text=lemmas, C=0.1, kernel=poly,   F1:[0.3815833204085703, 0.42404900701511705, 0.35608288770053476, 0.4070102432778489, 0.3432903803274174]   avg_f1=0.38240316774589767\n",
      "Params: text=lemmas, C=1, kernel=rbf,   F1:[0.5678929765886288, 0.5829891161814844, 0.4736706163432667, 0.5585855410123608, 0.5576603959582682]   avg_f1=0.5481597292168018\n",
      "Params: text=lemmas, C=1, kernel=linear,   F1:[0.5529707327352889, 0.6091820212744155, 0.5615360139333143, 0.5519688109161793, 0.5057812474373903]   avg_f1=0.5562877652593177\n",
      "Params: text=lemmas, C=1, kernel=poly,   F1:[0.45417045203427703, 0.4723082215342277, 0.4439264439264439, 0.46030832587770365, 0.5255295429208472]   avg_f1=0.47124859725869983\n",
      "Params: text=lemmas, C=10, kernel=rbf,   F1:[0.5716170870565169, 0.5707868852459016, 0.5651408450704225, 0.5439943876232323, 0.5216077999892857]   avg_f1=0.5546294009970718\n",
      "Params: text=lemmas, C=10, kernel=linear,   F1:[0.5529707327352889, 0.6091820212744155, 0.5615360139333143, 0.5519688109161793, 0.5057812474373903]   avg_f1=0.5562877652593177\n",
      "Params: text=lemmas, C=10, kernel=poly,   F1:[0.523063951735858, 0.5320103709613083, 0.5517805745245217, 0.5455305767429413, 0.5299753445964952]   avg_f1=0.5364721637122248\n",
      "Params: text=no stop words, C=0.1, kernel=rbf,   F1:[0.34828496042216356, 0.33423180592991913, 0.34308510638297873, 0.382001614205004, 0.32971506105834464]   avg_f1=0.34746370959968204\n",
      "Params: text=no stop words, C=0.1, kernel=linear,   F1:[0.5757123118861796, 0.5928354389892851, 0.5488697349162466, 0.5442187749880056, 0.5624015748031497]   avg_f1=0.5648075671165733\n",
      "Params: text=no stop words, C=0.1, kernel=poly,   F1:[0.3560271146478043, 0.34573780860276665, 0.3468683473389355, 0.3579895091208017, 0.3313431238798384]   avg_f1=0.3475931807180293\n",
      "Params: text=no stop words, C=1, kernel=rbf,   F1:[0.5101282618310482, 0.5991902834008097, 0.4671723322083435, 0.5094255989293645, 0.55782748653265]   avg_f1=0.528748792580443\n",
      "Params: text=no stop words, C=1, kernel=linear,   F1:[0.5757123118861796, 0.5928354389892851, 0.5488697349162466, 0.5442187749880056, 0.5624015748031497]   avg_f1=0.5648075671165733\n",
      "Params: text=no stop words, C=1, kernel=poly,   F1:[0.44030346135609294, 0.4388998404205388, 0.3878116343490305, 0.4529048656499637, 0.43318540433925046]   avg_f1=0.4306210412229753\n",
      "Params: text=no stop words, C=10, kernel=rbf,   F1:[0.568092105263158, 0.608604445904062, 0.5372868640324593, 0.5386691350406253, 0.5384260764693534]   avg_f1=0.5582157253419316\n",
      "Params: text=no stop words, C=10, kernel=linear,   F1:[0.5757123118861796, 0.5928354389892851, 0.5488697349162466, 0.5442187749880056, 0.5624015748031497]   avg_f1=0.5648075671165733\n",
      "Params: text=no stop words, C=10, kernel=poly,   F1:[0.5019666311679092, 0.5579251973772246, 0.4917293233082706, 0.5143832781456954, 0.5218010027633909]   avg_f1=0.5175610865524981\n",
      "Params: text=no punc, C=0.1, kernel=rbf,   F1:[0.34828496042216356, 0.3378160418482999, 0.34308510638297873, 0.4701557149318343, 0.3978057700121902]   avg_f1=0.3794295187194933\n",
      "Params: text=no punc, C=0.1, kernel=linear,   F1:[0.552630599560843, 0.6011344866734702, 0.5468195054621354, 0.5685271069886455, 0.5403935455577551]   avg_f1=0.56190104884857\n",
      "Params: text=no punc, C=0.1, kernel=poly,   F1:[0.3542192571222503, 0.4081320047924535, 0.3606403483921857, 0.3919693301049233, 0.3399905252119851]   avg_f1=0.37099029312475956\n",
      "Params: text=no punc, C=1, kernel=rbf,   F1:[0.544201848785872, 0.6032128514056225, 0.4869573353293413, 0.5470165262166458, 0.5775903178596682]   avg_f1=0.55179577591943\n",
      "Params: text=no punc, C=1, kernel=linear,   F1:[0.552630599560843, 0.6011344866734702, 0.5468195054621354, 0.5685271069886455, 0.5403935455577551]   avg_f1=0.56190104884857\n",
      "Params: text=no punc, C=1, kernel=poly,   F1:[0.4624903886607959, 0.4797296991886455, 0.4255078255078255, 0.44540045724986477, 0.49902351966910374]   avg_f1=0.462430378055247\n",
      "Params: text=no punc, C=10, kernel=rbf,   F1:[0.5661882778000802, 0.6052485995402148, 0.5399420529801324, 0.5666879805879363, 0.5488882736735108]   avg_f1=0.5653910369163749\n",
      "Params: text=no punc, C=10, kernel=linear,   F1:[0.552630599560843, 0.6011344866734702, 0.5468195054621354, 0.5685271069886455, 0.5403935455577551]   avg_f1=0.56190104884857\n",
      "Params: text=no punc, C=10, kernel=poly,   F1:[0.5331074811729927, 0.5447498238195913, 0.5509476031215161, 0.5406299127229359, 0.5512911671263054]   avg_f1=0.5441451975926682\n"
     ]
    }
   ],
   "source": [
    "vectorizer=CountVectorizer(ngram_range=(1,3))\n",
    "\n",
    "best=grid_search(text, C, kernel, essays_train, essays_test, vectorizer)"
   ]
  },
  {
   "cell_type": "code",
   "execution_count": 57,
   "metadata": {},
   "outputs": [
    {
     "name": "stdout",
     "output_type": "stream",
     "text": [
      "{'text': 'TEXT', 'C': 10, 'kernel': 'rbf'}\n"
     ]
    }
   ],
   "source": [
    "print(best)"
   ]
  },
  {
   "cell_type": "code",
   "execution_count": 58,
   "metadata": {},
   "outputs": [
    {
     "name": "stdout",
     "output_type": "stream",
     "text": [
      "Params: text=TEXT, C=0.1, kernel=rbf,   F1:[0.34828496042216356, 0.33423180592991913, 0.34308510638297873, 0.328804347826087, 0.32971506105834464]   avg_f1=0.3368242563238986\n",
      "CURRENT BEST!!\n",
      "Params: text=TEXT, C=0.1, kernel=linear,   F1:[0.34828496042216356, 0.33423180592991913, 0.34308510638297873, 0.328804347826087, 0.32971506105834464]   avg_f1=0.3368242563238986\n",
      "Params: text=TEXT, C=0.1, kernel=poly,   F1:[0.34828496042216356, 0.33423180592991913, 0.34308510638297873, 0.328804347826087, 0.32971506105834464]   avg_f1=0.3368242563238986\n",
      "Params: text=TEXT, C=1, kernel=rbf,   F1:[0.4456535922127404, 0.6147552144581296, 0.34308510638297873, 0.5824175824175823, 0.4202077246052987]   avg_f1=0.481223844015346\n",
      "CURRENT BEST!!\n",
      "Params: text=TEXT, C=1, kernel=linear,   F1:[0.5711420446041011, 0.6293366828754658, 0.47494649946856937, 0.577243714177176, 0.5112018881626725]   avg_f1=0.5527741658575971\n",
      "CURRENT BEST!!\n",
      "Params: text=TEXT, C=1, kernel=poly,   F1:[0.34828496042216356, 0.438691828870665, 0.34308510638297873, 0.5429171282638552, 0.32971506105834464]   avg_f1=0.4005388169996015\n",
      "Params: text=TEXT, C=10, kernel=rbf,   F1:[0.5748196856764154, 0.6260626528473273, 0.4636264929424539, 0.5679993305299273, 0.4979744053120704]   avg_f1=0.5460965134616389\n",
      "Params: text=TEXT, C=10, kernel=linear,   F1:[0.5790687183599819, 0.6274509803921569, 0.532927285120605, 0.5675135159805983, 0.5353341810517516]   avg_f1=0.5684589361810187\n",
      "CURRENT BEST!!\n",
      "Params: text=TEXT, C=10, kernel=poly,   F1:[0.34828496042216356, 0.509183902683462, 0.34308510638297873, 0.5194694178334562, 0.32971506105834464]   avg_f1=0.4099476896760811\n",
      "Params: text=lemmas, C=0.1, kernel=rbf,   F1:[0.34828496042216356, 0.33423180592991913, 0.34308510638297873, 0.328804347826087, 0.32971506105834464]   avg_f1=0.3368242563238986\n",
      "Params: text=lemmas, C=0.1, kernel=linear,   F1:[0.34828496042216356, 0.33423180592991913, 0.34308510638297873, 0.328804347826087, 0.32971506105834464]   avg_f1=0.3368242563238986\n",
      "Params: text=lemmas, C=0.1, kernel=poly,   F1:[0.34828496042216356, 0.33423180592991913, 0.34308510638297873, 0.328804347826087, 0.32971506105834464]   avg_f1=0.3368242563238986\n",
      "Params: text=lemmas, C=1, kernel=rbf,   F1:[0.4791273742518972, 0.5997685185185184, 0.34776135335726766, 0.5806381118881119, 0.45278838808250577]   avg_f1=0.4920167492196601\n",
      "Params: text=lemmas, C=1, kernel=linear,   F1:[0.5964932537900657, 0.6214716176196492, 0.4777133233532934, 0.5537936571657969, 0.486959766575101]   avg_f1=0.5472863237007812\n",
      "Params: text=lemmas, C=1, kernel=poly,   F1:[0.34656084656084657, 0.5347183323582742, 0.34308510638297873, 0.49173203905412266, 0.3485231263009041]   avg_f1=0.4129238901314253\n",
      "Params: text=lemmas, C=10, kernel=rbf,   F1:[0.5803103720622452, 0.6025381552753816, 0.4903932946486138, 0.5658192981349481, 0.486959766575101]   avg_f1=0.545204177339258\n",
      "Params: text=lemmas, C=10, kernel=linear,   F1:[0.6010025313082867, 0.6104084860046162, 0.5465622620989669, 0.5461578433206543, 0.5136185599367118]   avg_f1=0.5635499365338472\n",
      "Params: text=lemmas, C=10, kernel=poly,   F1:[0.3850035254715318, 0.548566347166502, 0.34308510638297873, 0.48962270319754136, 0.3647685647685648]   avg_f1=0.42620924939742366\n",
      "Params: text=no stop words, C=0.1, kernel=rbf,   F1:[0.34828496042216356, 0.33423180592991913, 0.34308510638297873, 0.328804347826087, 0.32971506105834464]   avg_f1=0.3368242563238986\n",
      "Params: text=no stop words, C=0.1, kernel=linear,   F1:[0.34828496042216356, 0.33423180592991913, 0.34308510638297873, 0.328804347826087, 0.32971506105834464]   avg_f1=0.3368242563238986\n",
      "Params: text=no stop words, C=0.1, kernel=poly,   F1:[0.34828496042216356, 0.33423180592991913, 0.34308510638297873, 0.328804347826087, 0.32971506105834464]   avg_f1=0.3368242563238986\n",
      "Params: text=no stop words, C=1, kernel=rbf,   F1:[0.3894031367594144, 0.6152269447723993, 0.34308510638297873, 0.5628264600921189, 0.41195182458386687]   avg_f1=0.4644986945181556\n",
      "Params: text=no stop words, C=1, kernel=linear,   F1:[0.5987370192487931, 0.6051159072741806, 0.4825295240281824, 0.5522677661896678, 0.5428488954544683]   avg_f1=0.5562998224390585\n",
      "Params: text=no stop words, C=1, kernel=poly,   F1:[0.34828496042216356, 0.33423180592991913, 0.34308510638297873, 0.3620894341115948, 0.32971506105834464]   avg_f1=0.34348127358100017\n",
      "Params: text=no stop words, C=10, kernel=rbf,   F1:[0.590748333648731, 0.5968891553423927, 0.4671723322083435, 0.5500160369491308, 0.5374054982817869]   avg_f1=0.548446271286077\n",
      "Params: text=no stop words, C=10, kernel=linear,   F1:[0.565835241690908, 0.6047011752938235, 0.5233136094674556, 0.5543612222857506, 0.5337108953613808]   avg_f1=0.5563844288198636\n",
      "Params: text=no stop words, C=10, kernel=poly,   F1:[0.34828496042216356, 0.33423180592991913, 0.34308510638297873, 0.43391902215431627, 0.32971506105834464]   avg_f1=0.3578471911895445\n",
      "Params: text=no punc, C=0.1, kernel=rbf,   F1:[0.34828496042216356, 0.33423180592991913, 0.34308510638297873, 0.328804347826087, 0.32971506105834464]   avg_f1=0.3368242563238986\n",
      "Params: text=no punc, C=0.1, kernel=linear,   F1:[0.34828496042216356, 0.33423180592991913, 0.34308510638297873, 0.328804347826087, 0.32971506105834464]   avg_f1=0.3368242563238986\n",
      "Params: text=no punc, C=0.1, kernel=poly,   F1:[0.34828496042216356, 0.33423180592991913, 0.34308510638297873, 0.328804347826087, 0.32971506105834464]   avg_f1=0.3368242563238986\n",
      "Params: text=no punc, C=1, kernel=rbf,   F1:[0.4365687259333668, 0.6087709746077316, 0.34308510638297873, 0.5764574316068507, 0.41989114492732443]   avg_f1=0.4769546766916505\n",
      "Params: text=no punc, C=1, kernel=linear,   F1:[0.5803103720622452, 0.6290044852724566, 0.47351793700637546, 0.5658128772384377, 0.506717501815541]   avg_f1=0.5510726346790111\n",
      "Params: text=no punc, C=1, kernel=poly,   F1:[0.34828496042216356, 0.4315079365079365, 0.34308510638297873, 0.5488882736735107, 0.32971506105834464]   avg_f1=0.40029626760898684\n",
      "Params: text=no punc, C=10, kernel=rbf,   F1:[0.5672183501283905, 0.6241940512564694, 0.46552849945903696, 0.5703198180115081, 0.49191889509256537]   avg_f1=0.543835922789594\n",
      "Params: text=no punc, C=10, kernel=linear,   F1:[0.5734238765928907, 0.6271234240212342, 0.5339765781656552, 0.5760922284818863, 0.5381578947368422]   avg_f1=0.5697548003997017\n",
      "CURRENT BEST!!\n",
      "Params: text=no punc, C=10, kernel=poly,   F1:[0.34828496042216356, 0.5072426056032613, 0.34308510638297873, 0.5343663989744749, 0.32971506105834464]   avg_f1=0.4125388264882447\n"
     ]
    }
   ],
   "source": [
    "vectorizer=TfidfVectorizer(ngram_range=(1,3))\n",
    "\n",
    "best=grid_search(text, C, kernel, essays_train, essays_test, vectorizer)"
   ]
  },
  {
   "cell_type": "code",
   "execution_count": 59,
   "metadata": {},
   "outputs": [
    {
     "name": "stdout",
     "output_type": "stream",
     "text": [
      "{'text': 'no punc', 'C': 10, 'kernel': 'linear'}\n"
     ]
    }
   ],
   "source": [
    "print(best)"
   ]
  },
  {
   "cell_type": "code",
   "execution_count": 60,
   "metadata": {},
   "outputs": [
    {
     "name": "stdout",
     "output_type": "stream",
     "text": [
      "Params: text=TEXT, C=0.1, kernel=rbf,   F1:[0.34828496042216356, 0.4515668140482304, 0.34308510638297873, 0.4765947125879214, 0.46278990169446]   avg_f1=0.4164642990271508\n",
      "CURRENT BEST!!\n",
      "Params: text=TEXT, C=0.1, kernel=linear,   F1:[0.4968641114982579, 0.5748360655737705, 0.5153508771929824, 0.525374458021285, 0.5242739532920537]   avg_f1=0.52733989311567\n",
      "CURRENT BEST!!\n",
      "Params: text=TEXT, C=0.1, kernel=poly,   F1:[0.3805728174109979, 0.4412822616268064, 0.36965780097771145, 0.40924150640083123, 0.34553025045738434]   avg_f1=0.38925692737474626\n",
      "Params: text=TEXT, C=1, kernel=rbf,   F1:[0.5919970334412081, 0.5931024026029907, 0.5181243359055201, 0.5520050125313284, 0.5848824578303375]   avg_f1=0.568022248462277\n",
      "CURRENT BEST!!\n",
      "Params: text=TEXT, C=1, kernel=linear,   F1:[0.4968641114982579, 0.5666879805879363, 0.5153508771929824, 0.525374458021285, 0.5283226856044618]   avg_f1=0.5265200225809847\n",
      "Params: text=TEXT, C=1, kernel=poly,   F1:[0.47449830372031515, 0.4603550295857988, 0.42932793555378357, 0.45886807762526205, 0.5158122994188568]   avg_f1=0.46777232918080325\n",
      "Params: text=TEXT, C=10, kernel=rbf,   F1:[0.5677255316338661, 0.5728587410409505, 0.5519882979834919, 0.5381890344906761, 0.5501353679547132]   avg_f1=0.5561793946207395\n",
      "Params: text=TEXT, C=10, kernel=linear,   F1:[0.4968641114982579, 0.5666879805879363, 0.5153508771929824, 0.525374458021285, 0.5283226856044618]   avg_f1=0.5265200225809847\n",
      "Params: text=TEXT, C=10, kernel=poly,   F1:[0.5272240366334637, 0.5300734312416555, 0.532301654244057, 0.5506842456608811, 0.5608017301624715]   avg_f1=0.5402170195885058\n",
      "Params: text=lemmas, C=0.1, kernel=rbf,   F1:[0.34828496042216356, 0.4106821968419516, 0.34308510638297873, 0.4845647075055187, 0.4434651221354822]   avg_f1=0.40601641865761906\n",
      "Params: text=lemmas, C=0.1, kernel=linear,   F1:[0.5357142857142858, 0.5688100087285424, 0.5125006709691272, 0.5044809497969185, 0.514162077104642]   avg_f1=0.5271335984627032\n",
      "Params: text=lemmas, C=0.1, kernel=poly,   F1:[0.3904459721487749, 0.4324908771455601, 0.3606403483921857, 0.42376835460408946, 0.3475274725274725]   avg_f1=0.3909746049636166\n",
      "Params: text=lemmas, C=1, kernel=rbf,   F1:[0.5658192981349482, 0.5748360655737705, 0.503398860108675, 0.559867346433698, 0.5523215523215523]   avg_f1=0.5512486245145288\n",
      "Params: text=lemmas, C=1, kernel=linear,   F1:[0.5357142857142858, 0.5667732153102205, 0.5125006709691272, 0.5044809497969185, 0.5060728744939271]   avg_f1=0.5251083992568958\n",
      "Params: text=lemmas, C=1, kernel=poly,   F1:[0.48728968410589246, 0.46482738697096637, 0.4306183897190614, 0.47041166380789023, 0.5447498238195913]   avg_f1=0.4795793896846804\n",
      "Params: text=lemmas, C=10, kernel=rbf,   F1:[0.5562062253572675, 0.5566638117913183, 0.5653493793028677, 0.5497142294048087, 0.5070285453806256]   avg_f1=0.5469924382473775\n",
      "Params: text=lemmas, C=10, kernel=linear,   F1:[0.5357142857142858, 0.5667732153102205, 0.5125006709691272, 0.5044809497969185, 0.5060728744939271]   avg_f1=0.5251083992568958\n",
      "Params: text=lemmas, C=10, kernel=poly,   F1:[0.5013149286645784, 0.5284257448642738, 0.5182647198355385, 0.5218737901664731, 0.5242507264425073]   avg_f1=0.5188259819946742\n",
      "Params: text=no stop words, C=0.1, kernel=rbf,   F1:[0.34828496042216356, 0.3422675818293472, 0.34308510638297873, 0.48883778020753477, 0.32971506105834464]   avg_f1=0.37043809798007377\n",
      "Params: text=no stop words, C=0.1, kernel=linear,   F1:[0.5354301929718652, 0.5642613037288664, 0.4852704366770863, 0.5316959064327487, 0.5542979002624672]   avg_f1=0.5341911480146069\n",
      "Params: text=no stop words, C=0.1, kernel=poly,   F1:[0.37212105274691554, 0.39007659007659007, 0.3532852763277819, 0.3860597439544808, 0.3528327983506876]   avg_f1=0.3708750922912912\n",
      "Params: text=no stop words, C=1, kernel=rbf,   F1:[0.559731375133371, 0.5880136887815259, 0.5372868640324593, 0.5423901103405309, 0.568187134502924]   avg_f1=0.5591218345581622\n",
      "Params: text=no stop words, C=1, kernel=linear,   F1:[0.5369740022692515, 0.5663467060464353, 0.4852704366770863, 0.531542108828178, 0.5625737898465171]   avg_f1=0.5365414087334937\n",
      "Params: text=no stop words, C=1, kernel=poly,   F1:[0.4814744451357654, 0.4751589145192948, 0.43565458522105927, 0.46426539610297257, 0.519386682924931]   avg_f1=0.47518800478080464\n",
      "Params: text=no stop words, C=10, kernel=rbf,   F1:[0.566041801335919, 0.5991311475409835, 0.5462206022373128, 0.5371794871794873, 0.5522187268006775]   avg_f1=0.5601583530188761\n",
      "Params: text=no stop words, C=10, kernel=linear,   F1:[0.5369740022692515, 0.5663467060464353, 0.4852704366770863, 0.531542108828178, 0.5625737898465171]   avg_f1=0.5365414087334937\n",
      "Params: text=no stop words, C=10, kernel=poly,   F1:[0.5362953692115143, 0.5514988746299792, 0.5373404323561486, 0.5124782550515188, 0.5302926152617649]   avg_f1=0.5335811093021852\n",
      "Params: text=no punc, C=0.1, kernel=rbf,   F1:[0.34828496042216356, 0.44877623314671067, 0.34308510638297873, 0.48911569239115693, 0.4616441601516229]   avg_f1=0.4181812304989266\n",
      "Params: text=no punc, C=0.1, kernel=linear,   F1:[0.4977587704314109, 0.5384312761249077, 0.5416778343607611, 0.5052619481521614, 0.5444877485031412]   avg_f1=0.5255235155144765\n",
      "Params: text=no punc, C=0.1, kernel=poly,   F1:[0.3771045454292967, 0.4447286821705426, 0.36965780097771145, 0.3972023809523809, 0.34553025045738434]   avg_f1=0.3868447319974632\n",
      "Params: text=no punc, C=1, kernel=rbf,   F1:[0.5822182774270259, 0.5931024026029907, 0.5089398136489549, 0.5444005270092227, 0.5787747605929424]   avg_f1=0.5614871562562274\n",
      "Params: text=no punc, C=1, kernel=linear,   F1:[0.4977587704314109, 0.540438750712058, 0.5416778343607611, 0.5052619481521614, 0.546439755381765]   avg_f1=0.5263154118076313\n",
      "Params: text=no punc, C=1, kernel=poly,   F1:[0.47494649946856926, 0.4633631954765898, 0.42044622044622043, 0.46332183830324336, 0.5088887634742367]   avg_f1=0.46619330343377197\n",
      "Params: text=no punc, C=10, kernel=rbf,   F1:[0.5592565055762082, 0.5668016194331983, 0.559731375133371, 0.5461942257217849, 0.5358876211809787]   avg_f1=0.5535742694091083\n",
      "Params: text=no punc, C=10, kernel=linear,   F1:[0.4977587704314109, 0.540438750712058, 0.5416778343607611, 0.5052619481521614, 0.546439755381765]   avg_f1=0.5263154118076313\n",
      "Params: text=no punc, C=10, kernel=poly,   F1:[0.5246735395189004, 0.5367172977408605, 0.5262557669379504, 0.5313425974297357, 0.5538997587778075]   avg_f1=0.5345777920810509\n"
     ]
    }
   ],
   "source": [
    "vectorizer=CountVectorizer(ngram_range=(1,3), max_features=4000)\n",
    "\n",
    "best=grid_search(text, C, kernel, essays_train, essays_test, vectorizer)"
   ]
  },
  {
   "cell_type": "code",
   "execution_count": 61,
   "metadata": {},
   "outputs": [
    {
     "name": "stdout",
     "output_type": "stream",
     "text": [
      "{'text': 'TEXT', 'C': 1, 'kernel': 'rbf'}\n"
     ]
    }
   ],
   "source": [
    "print(best)"
   ]
  },
  {
   "cell_type": "code",
   "execution_count": 62,
   "metadata": {},
   "outputs": [
    {
     "name": "stdout",
     "output_type": "stream",
     "text": [
      "Params: text=TEXT, C=0.1, kernel=rbf,   F1:[0.34828496042216356, 0.33423180592991913, 0.34308510638297873, 0.328804347826087, 0.32971506105834464]   avg_f1=0.3368242563238986\n",
      "CURRENT BEST!!\n",
      "Params: text=TEXT, C=0.1, kernel=linear,   F1:[0.34828496042216356, 0.4627042893035759, 0.34308510638297873, 0.353863217813494, 0.32971506105834464]   avg_f1=0.36753052699611133\n",
      "CURRENT BEST!!\n",
      "Params: text=TEXT, C=0.1, kernel=poly,   F1:[0.34828496042216356, 0.33423180592991913, 0.34308510638297873, 0.328804347826087, 0.32971506105834464]   avg_f1=0.3368242563238986\n",
      "Params: text=TEXT, C=1, kernel=rbf,   F1:[0.5894736842105264, 0.603232362968791, 0.5187922865013774, 0.5969661562429533, 0.5663934527562463]   avg_f1=0.574971588535979\n",
      "CURRENT BEST!!\n",
      "Params: text=TEXT, C=1, kernel=linear,   F1:[0.5615360139333143, 0.6194331983805669, 0.5234146850229454, 0.5888649734538671, 0.5693005689824017]   avg_f1=0.5725098879546191\n",
      "Params: text=TEXT, C=1, kernel=poly,   F1:[0.5983086680761099, 0.6092717131604724, 0.5399420529801324, 0.5928354389892851, 0.5617185574632383]   avg_f1=0.5804152861338476\n",
      "CURRENT BEST!!\n",
      "Params: text=TEXT, C=10, kernel=rbf,   F1:[0.5556135921766635, 0.5930356945247084, 0.5402716075376356, 0.5503419546356583, 0.5705968215439621]   avg_f1=0.5619719340837255\n",
      "Params: text=TEXT, C=10, kernel=linear,   F1:[0.5354155323466813, 0.586983606557377, 0.5328981324348541, 0.5342220910402729, 0.5340387139107612]   avg_f1=0.5447116152579893\n",
      "Params: text=TEXT, C=10, kernel=poly,   F1:[0.5927757793764987, 0.603232362968791, 0.5554310359465471, 0.586983606557377, 0.5685271069886455]   avg_f1=0.5813899783675718\n",
      "CURRENT BEST!!\n",
      "Params: text=lemmas, C=0.1, kernel=rbf,   F1:[0.34828496042216356, 0.33423180592991913, 0.34308510638297873, 0.328804347826087, 0.32971506105834464]   avg_f1=0.3368242563238986\n",
      "Params: text=lemmas, C=0.1, kernel=linear,   F1:[0.34828496042216356, 0.42043750092816723, 0.34308510638297873, 0.3691258511666865, 0.32971506105834464]   avg_f1=0.3621296959916681\n",
      "Params: text=lemmas, C=0.1, kernel=poly,   F1:[0.34828496042216356, 0.3368983375993826, 0.34308510638297873, 0.3332042698502326, 0.32971506105834464]   avg_f1=0.33823754706262044\n",
      "Params: text=lemmas, C=1, kernel=rbf,   F1:[0.5863547301257683, 0.603232362968791, 0.5296052631578947, 0.562688524590164, 0.5604185548323309]   avg_f1=0.5684598871349898\n",
      "Params: text=lemmas, C=1, kernel=linear,   F1:[0.5992405994915028, 0.615327868852459, 0.526366251198466, 0.5384539732494098, 0.5611345090813373]   avg_f1=0.5681046403746348\n",
      "Params: text=lemmas, C=1, kernel=poly,   F1:[0.5890798382937663, 0.5910931174089069, 0.5540073247593902, 0.5377037876175934, 0.5663467060464353]   avg_f1=0.5676461548252184\n",
      "Params: text=lemmas, C=10, kernel=rbf,   F1:[0.5711805555555556, 0.5748918174665618, 0.5602465782049942, 0.5193743713951436, 0.5444877485031412]   avg_f1=0.5540362142250792\n",
      "Params: text=lemmas, C=10, kernel=linear,   F1:[0.5400675620004943, 0.5485663471665021, 0.528129117259552, 0.5168803418803419, 0.5221418851343598]   avg_f1=0.53115705068825\n",
      "Params: text=lemmas, C=10, kernel=poly,   F1:[0.5849856188052227, 0.5768381102271842, 0.5734238765928907, 0.5339240298629913, 0.5505778214900419]   avg_f1=0.5639498913956661\n",
      "Params: text=no stop words, C=0.1, kernel=rbf,   F1:[0.34828496042216356, 0.33423180592991913, 0.34308510638297873, 0.328804347826087, 0.32971506105834464]   avg_f1=0.3368242563238986\n",
      "Params: text=no stop words, C=0.1, kernel=linear,   F1:[0.34828496042216356, 0.42892994763363307, 0.34308510638297873, 0.353863217813494, 0.32971506105834464]   avg_f1=0.3607756586621228\n",
      "Params: text=no stop words, C=0.1, kernel=poly,   F1:[0.34828496042216356, 0.33423180592991913, 0.34308510638297873, 0.328804347826087, 0.32971506105834464]   avg_f1=0.3368242563238986\n",
      "Params: text=no stop words, C=1, kernel=rbf,   F1:[0.5894736842105264, 0.6253202960047559, 0.5444178416245455, 0.5664534120734908, 0.5592096876991715]   avg_f1=0.576974984322498\n",
      "Params: text=no stop words, C=1, kernel=linear,   F1:[0.6036582070628338, 0.621443528789847, 0.5512369891158542, 0.5551471041756615, 0.5460825334317827]   avg_f1=0.5755136725151958\n",
      "Params: text=no stop words, C=1, kernel=poly,   F1:[0.5774921173902499, 0.6392152008417404, 0.4958135666899771, 0.5501353679547132, 0.5557920440858618]   avg_f1=0.5636896593925085\n",
      "Params: text=no stop words, C=10, kernel=rbf,   F1:[0.5928262265205957, 0.6092717131604724, 0.5485924834193073, 0.5495440729483283, 0.5566638117913181]   avg_f1=0.5713796615680043\n",
      "Params: text=no stop words, C=10, kernel=linear,   F1:[0.5352469691180759, 0.5803508771929824, 0.5169152689236863, 0.5153184589174655, 0.5464918032786885]   avg_f1=0.5388646754861798\n",
      "Params: text=no stop words, C=10, kernel=poly,   F1:[0.5805953169307048, 0.6413733933904207, 0.5023218109656953, 0.5417590175507725, 0.5644887533986982]   avg_f1=0.5661076584472582\n",
      "Params: text=no punc, C=0.1, kernel=rbf,   F1:[0.34828496042216356, 0.33423180592991913, 0.34308510638297873, 0.328804347826087, 0.32971506105834464]   avg_f1=0.3368242563238986\n",
      "Params: text=no punc, C=0.1, kernel=linear,   F1:[0.34828496042216356, 0.45358187134502925, 0.34308510638297873, 0.3497102399370656, 0.32971506105834464]   avg_f1=0.3648754478291164\n",
      "Params: text=no punc, C=0.1, kernel=poly,   F1:[0.34828496042216356, 0.33423180592991913, 0.34308510638297873, 0.328804347826087, 0.32971506105834464]   avg_f1=0.3368242563238986\n",
      "Params: text=no punc, C=1, kernel=rbf,   F1:[0.5883956976215725, 0.621455938697318, 0.5141668335447122, 0.5807637906647808, 0.5855159252434852]   avg_f1=0.5780596371543737\n",
      "Params: text=no punc, C=1, kernel=linear,   F1:[0.5708151638180208, 0.6072616998606671, 0.5200971463266546, 0.5929155648484103, 0.5812387865619805]   avg_f1=0.5744656722831467\n",
      "Params: text=no punc, C=1, kernel=poly,   F1:[0.5937415204531887, 0.6072616998606672, 0.5544267742701163, 0.5705052493438321, 0.5664534120734908]   avg_f1=0.5784777312002591\n",
      "Params: text=no punc, C=10, kernel=rbf,   F1:[0.5726430318255169, 0.5849777264139732, 0.5550612256867204, 0.5523215523215523, 0.5586755184001312]   avg_f1=0.5647358109295788\n",
      "Params: text=no punc, C=10, kernel=linear,   F1:[0.5520050125313283, 0.5768797308318068, 0.5369776247279995, 0.5070285453806256, 0.5323714179168699]   avg_f1=0.5410524662777261\n",
      "Params: text=no punc, C=10, kernel=poly,   F1:[0.6001502002670227, 0.6011998672278067, 0.5532691782691782, 0.5667732153102205, 0.5667377049180329]   avg_f1=0.5776260331984522\n"
     ]
    }
   ],
   "source": [
    "vectorizer=TfidfVectorizer(ngram_range=(1,3), max_features=4000)\n",
    "\n",
    "best=grid_search(text, C, kernel, essays_train, essays_test, vectorizer)"
   ]
  },
  {
   "cell_type": "code",
   "execution_count": 63,
   "metadata": {},
   "outputs": [
    {
     "name": "stdout",
     "output_type": "stream",
     "text": [
      "{'text': 'TEXT', 'C': 10, 'kernel': 'poly'}\n"
     ]
    }
   ],
   "source": [
    "print(best)"
   ]
  },
  {
   "cell_type": "code",
   "execution_count": 64,
   "metadata": {},
   "outputs": [
    {
     "name": "stdout",
     "output_type": "stream",
     "text": [
      "Params: text=TEXT, C=0.1, kernel=rbf,   F1:[0.34828496042216356, 0.3378160418482999, 0.34308510638297873, 0.328804347826087, 0.32971506105834464]   avg_f1=0.3375411035075747\n",
      "CURRENT BEST!!\n",
      "Params: text=TEXT, C=0.1, kernel=linear,   F1:[0.34828496042216356, 0.48673997564725185, 0.34308510638297873, 0.3548918316507146, 0.3341312974465148]   avg_f1=0.37342663430992473\n",
      "CURRENT BEST!!\n",
      "Params: text=TEXT, C=0.1, kernel=poly,   F1:[0.34828496042216356, 0.34573780860276665, 0.34308510638297873, 0.3332042698502326, 0.32971506105834464]   avg_f1=0.34000544126329724\n",
      "Params: text=TEXT, C=1, kernel=rbf,   F1:[0.6110835725026764, 0.6092332788222323, 0.544201848785872, 0.5620351672166675, 0.563056669752134]   avg_f1=0.5779221074159164\n",
      "CURRENT BEST!!\n",
      "Params: text=TEXT, C=1, kernel=linear,   F1:[0.6079561592568459, 0.6173947964774389, 0.5441846093102901, 0.5624015748031496, 0.5663934527562463]   avg_f1=0.5796661185207942\n",
      "CURRENT BEST!!\n",
      "Params: text=TEXT, C=1, kernel=poly,   F1:[0.6241940512564693, 0.621008668824642, 0.560966939210807, 0.5701456270830254, 0.5701456270830254]   avg_f1=0.5892921826915938\n",
      "CURRENT BEST!!\n",
      "Params: text=TEXT, C=10, kernel=rbf,   F1:[0.6192630898513252, 0.5889862984503274, 0.5448058146117325, 0.559774462335785, 0.5587044534412956]   avg_f1=0.5743068237380932\n",
      "Params: text=TEXT, C=10, kernel=linear,   F1:[0.5742296918767508, 0.6112786885245901, 0.5172612008934436, 0.5495440729483283, 0.5361159976544592]   avg_f1=0.5576859303795144\n",
      "Params: text=TEXT, C=10, kernel=poly,   F1:[0.6346199139708525, 0.604989604989605, 0.5557553956834531, 0.5558775836942467, 0.5505999213217938]   avg_f1=0.5803684839319903\n",
      "Params: text=lemmas, C=0.1, kernel=rbf,   F1:[0.34828496042216356, 0.35248642431051547, 0.34308510638297873, 0.34095372267759566, 0.32971506105834464]   avg_f1=0.3429050549703196\n",
      "Params: text=lemmas, C=0.1, kernel=linear,   F1:[0.34828496042216356, 0.4302191464821223, 0.34308510638297873, 0.3661633083472289, 0.32971506105834464]   avg_f1=0.3634935165385676\n",
      "Params: text=lemmas, C=0.1, kernel=poly,   F1:[0.34828496042216356, 0.4168886198547216, 0.34308510638297873, 0.36509121061359867, 0.32971506105834464]   avg_f1=0.3606129916663614\n",
      "Params: text=lemmas, C=1, kernel=rbf,   F1:[0.5974088392017554, 0.6072295081967213, 0.5450193931689347, 0.548166407586204, 0.5713974382697012]   avg_f1=0.5738443172846633\n",
      "Params: text=lemmas, C=1, kernel=linear,   F1:[0.5818759869459942, 0.6051838827478514, 0.5422642740619902, 0.5480477708443592, 0.5549274915149645]   avg_f1=0.5664598812230319\n",
      "Params: text=lemmas, C=1, kernel=poly,   F1:[0.5928262265205957, 0.611234076041513, 0.573510740947641, 0.5666879805879363, 0.5666240325331234]   avg_f1=0.5821766113261619\n",
      "Params: text=lemmas, C=10, kernel=rbf,   F1:[0.5843191605207148, 0.611336032388664, 0.5376038595550792, 0.5483590595084352, 0.5383934426229509]   avg_f1=0.5640023109191687\n",
      "Params: text=lemmas, C=10, kernel=linear,   F1:[0.5592565055762082, 0.5828865607528733, 0.5084211786759818, 0.5320646089876858, 0.5262459016393441]   avg_f1=0.5417749511264187\n",
      "Params: text=lemmas, C=10, kernel=poly,   F1:[0.5869956468199546, 0.6071844310002787, 0.5366408964881761, 0.558639344262295, 0.5363441494833742]   avg_f1=0.5651608936108158\n",
      "Params: text=no stop words, C=0.1, kernel=rbf,   F1:[0.34828496042216356, 0.33423180592991913, 0.34308510638297873, 0.328804347826087, 0.32971506105834464]   avg_f1=0.3368242563238986\n",
      "Params: text=no stop words, C=0.1, kernel=linear,   F1:[0.34828496042216356, 0.44742729306487694, 0.34308510638297873, 0.35283279835068765, 0.32971506105834464]   avg_f1=0.36426904385581027\n",
      "Params: text=no stop words, C=0.1, kernel=poly,   F1:[0.34828496042216356, 0.33423180592991913, 0.34308510638297873, 0.328804347826087, 0.32971506105834464]   avg_f1=0.3368242563238986\n",
      "Params: text=no stop words, C=1, kernel=rbf,   F1:[0.580080459189685, 0.6292979369902447, 0.5306793455656689, 0.5627243668551758, 0.5713974382697012]   avg_f1=0.5748359093740951\n",
      "Params: text=no stop words, C=1, kernel=linear,   F1:[0.5831954956309625, 0.6234262295081967, 0.5314194577352472, 0.5316959064327487, 0.5706742752197298]   avg_f1=0.5680822729053769\n",
      "Params: text=no stop words, C=1, kernel=poly,   F1:[0.5736211523013554, 0.6161044973544973, 0.49947952088162223, 0.5461942257217848, 0.5773887865227691]   avg_f1=0.5625576365564058\n",
      "Params: text=no stop words, C=10, kernel=rbf,   F1:[0.5883794102650202, 0.6291154352668956, 0.509666219521818, 0.5441140883717306, 0.5789197606753544]   avg_f1=0.5700389828201639\n",
      "Params: text=no stop words, C=10, kernel=linear,   F1:[0.5457518091664433, 0.5607125441037262, 0.5170787809085682, 0.5501353679547133, 0.5259350393700788]   avg_f1=0.539922708300706\n",
      "Params: text=no stop words, C=10, kernel=poly,   F1:[0.5799319727891157, 0.6161044973544973, 0.5201706608569354, 0.5479142300194932, 0.5742008570162045]   avg_f1=0.5676644436072492\n",
      "Params: text=no punc, C=0.1, kernel=rbf,   F1:[0.34828496042216356, 0.33423180592991913, 0.34308510638297873, 0.328804347826087, 0.32971506105834464]   avg_f1=0.3368242563238986\n",
      "Params: text=no punc, C=0.1, kernel=linear,   F1:[0.34828496042216356, 0.48002958579881655, 0.34308510638297873, 0.35072445481883374, 0.3341312974465148]   avg_f1=0.3712510809738615\n",
      "Params: text=no punc, C=0.1, kernel=poly,   F1:[0.34828496042216356, 0.3413333333333334, 0.34308510638297873, 0.328804347826087, 0.32971506105834464]   avg_f1=0.3382445618045814\n",
      "Params: text=no punc, C=1, kernel=rbf,   F1:[0.612516688918558, 0.6153593967707565, 0.5372365339578454, 0.5603233652296246, 0.5738930419781484]   avg_f1=0.5798658053709866\n",
      "Params: text=no punc, C=1, kernel=linear,   F1:[0.6125262676638242, 0.6153593967707565, 0.5493088668170004, 0.5526150794789102, 0.5594125939656484]   avg_f1=0.5778444409392278\n",
      "Params: text=no punc, C=1, kernel=poly,   F1:[0.6271234240212342, 0.6229812237394958, 0.5413848905544673, 0.5662257090336135, 0.5586393442622951]   avg_f1=0.5832709183222211\n",
      "Params: text=no punc, C=10, kernel=rbf,   F1:[0.6255638163480854, 0.6032128514056224, 0.5318310675191922, 0.556271046015151, 0.5463728191000918]   avg_f1=0.5726503200776285\n",
      "Params: text=no punc, C=10, kernel=linear,   F1:[0.5783436076119002, 0.6030762167125803, 0.5288507391511683, 0.5521011540654859, 0.5240555111411762]   avg_f1=0.5572854457364622\n",
      "Params: text=no punc, C=10, kernel=poly,   F1:[0.6449566294919455, 0.606765362394958, 0.5529896460129018, 0.5604243296550988, 0.5585235471599108]   avg_f1=0.584731902942963\n"
     ]
    }
   ],
   "source": [
    "vectorizer=TfidfVectorizer(max_features=4000)\n",
    "\n",
    "best=grid_search(text, C, kernel, essays_train, essays_test, vectorizer)"
   ]
  },
  {
   "cell_type": "code",
   "execution_count": 65,
   "metadata": {},
   "outputs": [
    {
     "name": "stdout",
     "output_type": "stream",
     "text": [
      "{'text': 'TEXT', 'C': 1, 'kernel': 'poly'}\n"
     ]
    }
   ],
   "source": [
    "print(best)"
   ]
  },
  {
   "cell_type": "code",
   "execution_count": 66,
   "metadata": {},
   "outputs": [
    {
     "name": "stdout",
     "output_type": "stream",
     "text": [
      "Params: text=TEXT, C=0.1, kernel=rbf,   F1:[0.34828496042216356, 0.46351554015617724, 0.34308510638297873, 0.4681865955210608, 0.46223627598361927]   avg_f1=0.41706169569319995\n",
      "CURRENT BEST!!\n",
      "Params: text=TEXT, C=0.1, kernel=linear,   F1:[0.5546929988845304, 0.5777777777777777, 0.5070285453806256, 0.5235867446393763, 0.5404688825416859]   avg_f1=0.5407109898447992\n",
      "CURRENT BEST!!\n",
      "Params: text=TEXT, C=0.1, kernel=poly,   F1:[0.3850035254715318, 0.45019874250198744, 0.36965780097771145, 0.4185974127030444, 0.34132291946644744]   avg_f1=0.3929560802241445\n",
      "Params: text=TEXT, C=1, kernel=rbf,   F1:[0.5925533168375161, 0.5809699428360685, 0.5155478352646277, 0.5522781576995963, 0.5665458481623014]   avg_f1=0.561579020160022\n",
      "CURRENT BEST!!\n",
      "Params: text=TEXT, C=1, kernel=linear,   F1:[0.5412393162393162, 0.5698348804731783, 0.5070285453806256, 0.5190110553754761, 0.5383934426229507]   avg_f1=0.5351014480183094\n",
      "Params: text=TEXT, C=1, kernel=poly,   F1:[0.5111237986487772, 0.46181549709181924, 0.4228823459782715, 0.46783625730994155, 0.53140542480644]   avg_f1=0.47901266476704996\n",
      "Params: text=TEXT, C=10, kernel=rbf,   F1:[0.580187955742931, 0.5746477949256228, 0.5419277229211569, 0.5240555111411762, 0.544517614854094]   avg_f1=0.5530673199169962\n",
      "Params: text=TEXT, C=10, kernel=linear,   F1:[0.5412393162393162, 0.5698348804731783, 0.5070285453806256, 0.5190110553754761, 0.5383934426229507]   avg_f1=0.5351014480183094\n",
      "Params: text=TEXT, C=10, kernel=poly,   F1:[0.5322991770446436, 0.5183566433566433, 0.497034370112343, 0.5200303572396596, 0.5514634197368147]   avg_f1=0.5238367934980208\n",
      "Params: text=lemmas, C=0.1, kernel=rbf,   F1:[0.34828496042216356, 0.415647226173542, 0.34308510638297873, 0.4796355772248664, 0.4402618657937807]   avg_f1=0.4053829471994662\n",
      "Params: text=lemmas, C=0.1, kernel=linear,   F1:[0.569997372224412, 0.5525857440853075, 0.531187990682426, 0.5017302740557297, 0.5121437498719446]   avg_f1=0.5335290261839639\n",
      "Params: text=lemmas, C=0.1, kernel=poly,   F1:[0.3937720509280565, 0.4406783744067838, 0.35240336134453787, 0.41764374984713964, 0.3432903803274174]   avg_f1=0.38955758337078705\n",
      "Params: text=lemmas, C=1, kernel=rbf,   F1:[0.5596250827772401, 0.5788369157116391, 0.498459212744927, 0.5644887533986982, 0.5519688109161793]   avg_f1=0.5506757551097368\n",
      "Params: text=lemmas, C=1, kernel=linear,   F1:[0.5555418612963259, 0.5624948747806406, 0.5188054597689339, 0.515747853870416, 0.5019508196721311]   avg_f1=0.5309081738776895\n",
      "Params: text=lemmas, C=1, kernel=poly,   F1:[0.4644549059209647, 0.4794427180722027, 0.41235383648386814, 0.4755838641188959, 0.5692616478020531]   avg_f1=0.48021939447959683\n",
      "Params: text=lemmas, C=10, kernel=rbf,   F1:[0.6092292832400745, 0.5525857440853077, 0.5604465709728867, 0.5424801245799524, 0.5320646089876859]   avg_f1=0.5593612663731815\n",
      "Params: text=lemmas, C=10, kernel=linear,   F1:[0.5555418612963259, 0.5624948747806406, 0.5188054597689339, 0.515747853870416, 0.5019916400295058]   avg_f1=0.5309163379491644\n",
      "Params: text=lemmas, C=10, kernel=poly,   F1:[0.5204137468448272, 0.533193060262823, 0.5053734730658834, 0.503496709350491, 0.536150234741784]   avg_f1=0.5197254448531617\n",
      "Params: text=no stop words, C=0.1, kernel=rbf,   F1:[0.34828496042216356, 0.3544567234008228, 0.34308510638297873, 0.4935877319609197, 0.32971506105834464]   avg_f1=0.37382591664504583\n",
      "Params: text=no stop words, C=0.1, kernel=linear,   F1:[0.5441377605668617, 0.5560233918128654, 0.48109243697478987, 0.5483590595084352, 0.5241335492201431]   avg_f1=0.530749239616619\n",
      "Params: text=no stop words, C=0.1, kernel=poly,   F1:[0.36911380297916974, 0.4017057482494708, 0.3532852763277819, 0.38979538979538975, 0.3528327983506876]   avg_f1=0.37334660314049994\n",
      "Params: text=no stop words, C=1, kernel=rbf,   F1:[0.5652342351826508, 0.5880136887815259, 0.5389169392689519, 0.5463728191000918, 0.5557170841084651]   avg_f1=0.558850953288337\n",
      "Params: text=no stop words, C=1, kernel=linear,   F1:[0.5400675620004943, 0.5624015748031497, 0.4768753386199084, 0.5379768643859217, 0.5242739532920537]   avg_f1=0.5283190586203056\n",
      "Params: text=no stop words, C=1, kernel=poly,   F1:[0.48291940241697595, 0.47636490493633354, 0.44262231300457155, 0.46734035537970736, 0.5245797639341432]   avg_f1=0.47876534793434633\n",
      "Params: text=no stop words, C=10, kernel=rbf,   F1:[0.5689728607641, 0.5724803228730451, 0.533788289969842, 0.5234302838728216, 0.5524830399049004]   avg_f1=0.5502309594769418\n",
      "Params: text=no stop words, C=10, kernel=linear,   F1:[0.5400675620004943, 0.5624015748031497, 0.4768753386199084, 0.5379768643859217, 0.5242739532920537]   avg_f1=0.5283190586203056\n",
      "Params: text=no stop words, C=10, kernel=poly,   F1:[0.5234146850229453, 0.5663882204219112, 0.5382481531735263, 0.5077621288496642, 0.5444005270092227]   avg_f1=0.536042742895454\n",
      "Params: text=no punc, C=0.1, kernel=rbf,   F1:[0.34828496042216356, 0.4561104994495045, 0.34308510638297873, 0.48492811609928116, 0.4652577319587629]   avg_f1=0.4195332828625381\n",
      "Params: text=no punc, C=0.1, kernel=linear,   F1:[0.5585125879799515, 0.5818376068376068, 0.5114230019493178, 0.536283330942182, 0.5302411752168281]   avg_f1=0.5436595405851772\n",
      "Params: text=no punc, C=0.1, kernel=poly,   F1:[0.3815833204085703, 0.4488304093567251, 0.36965780097771145, 0.4140837891352506, 0.34132291946644744]   avg_f1=0.39109564786894097\n",
      "Params: text=no punc, C=1, kernel=rbf,   F1:[0.5835175390397256, 0.5931024026029907, 0.5105449398443029, 0.5448802316399053, 0.5605828943862599]   avg_f1=0.5585256015026369\n",
      "Params: text=no punc, C=1, kernel=linear,   F1:[0.5570709397209792, 0.5698348804731783, 0.5172612008934436, 0.5362072853248058, 0.5060404884845504]   avg_f1=0.5372829589793915\n",
      "Params: text=no punc, C=1, kernel=poly,   F1:[0.4919810395710466, 0.47079802020475964, 0.43187184497638825, 0.47328411144074417, 0.5169692662229977]   avg_f1=0.47698085648318733\n",
      "Params: text=no punc, C=10, kernel=rbf,   F1:[0.5921938977677982, 0.5809699428360686, 0.5341955941255007, 0.5485811461470691, 0.5303335792148185]   avg_f1=0.557254832018251\n",
      "Params: text=no punc, C=10, kernel=linear,   F1:[0.5570709397209792, 0.5698348804731783, 0.5172612008934436, 0.5362072853248058, 0.5060404884845504]   avg_f1=0.5372829589793915\n",
      "Params: text=no punc, C=10, kernel=poly,   F1:[0.5467597079537379, 0.5264662536790943, 0.5164763458401305, 0.5112524890731255, 0.541119770730671]   avg_f1=0.5284149134553517\n"
     ]
    }
   ],
   "source": [
    "vectorizer=CountVectorizer(max_features=4000)\n",
    "\n",
    "best=grid_search(text, C, kernel, essays_train, essays_test, vectorizer)"
   ]
  },
  {
   "cell_type": "code",
   "execution_count": 67,
   "metadata": {},
   "outputs": [
    {
     "name": "stdout",
     "output_type": "stream",
     "text": [
      "{'text': 'TEXT', 'C': 1, 'kernel': 'rbf'}\n"
     ]
    }
   ],
   "source": [
    "print(best)"
   ]
  },
  {
   "cell_type": "code",
   "execution_count": 68,
   "metadata": {},
   "outputs": [
    {
     "name": "stdout",
     "output_type": "stream",
     "text": [
      "Params: text=TEXT, C=0.1, kernel=rbf,   F1:[0.34828496042216356, 0.48098060344827587, 0.34308510638297873, 0.4756393069646082, 0.4645777909153611]   avg_f1=0.4225135536266775\n",
      "CURRENT BEST!!\n",
      "Params: text=TEXT, C=0.1, kernel=linear,   F1:[0.5199460771543294, 0.5524096509029786, 0.5448058146117325, 0.5138831942007118, 0.5262459016393444]   avg_f1=0.5314581277018193\n",
      "CURRENT BEST!!\n",
      "Params: text=TEXT, C=0.1, kernel=poly,   F1:[0.3948834688346883, 0.4592252994011976, 0.3785480814129152, 0.42314749941614116, 0.38273619788346297]   avg_f1=0.407708109389681\n",
      "Params: text=TEXT, C=1, kernel=rbf,   F1:[0.5679993305299273, 0.5708220637652651, 0.5293703099510604, 0.5300295291399483, 0.55406381302521]   avg_f1=0.5504570092822823\n",
      "CURRENT BEST!!\n",
      "Params: text=TEXT, C=1, kernel=linear,   F1:[0.5218010027633909, 0.5626383355467022, 0.5479323308270677, 0.5195321637426901, 0.524195961260231]   avg_f1=0.5352199588280164\n",
      "Params: text=TEXT, C=1, kernel=poly,   F1:[0.5008233532934132, 0.4661518938527696, 0.4343702502786503, 0.4755838641188959, 0.5178474770593324]   avg_f1=0.4789553677206122\n",
      "Params: text=TEXT, C=10, kernel=rbf,   F1:[0.5438596491228069, 0.5627458693941778, 0.5643757183157455, 0.5503419546356583, 0.5283226856044617]   avg_f1=0.5499291754145701\n",
      "Params: text=TEXT, C=10, kernel=linear,   F1:[0.5162286011792853, 0.5646899220040411, 0.5538997587778075, 0.5235867446393763, 0.5282917573388084]   avg_f1=0.5373393567878637\n",
      "Params: text=TEXT, C=10, kernel=poly,   F1:[0.5094255989293643, 0.5336741683791957, 0.5145036071258439, 0.5009789860946561, 0.5297291679657459]   avg_f1=0.5176623056989611\n",
      "Params: text=lemmas, C=0.1, kernel=rbf,   F1:[0.34828496042216356, 0.43860107260127573, 0.34308510638297873, 0.48740245261984394, 0.4525257731958763]   avg_f1=0.4139798730444276\n",
      "Params: text=lemmas, C=0.1, kernel=linear,   F1:[0.5661216831948539, 0.609117930426583, 0.5318310675191922, 0.5320646089876858, 0.5182186234817814]   avg_f1=0.5514707827220192\n",
      "CURRENT BEST!!\n",
      "Params: text=lemmas, C=0.1, kernel=poly,   F1:[0.4033816425120773, 0.4406128080692739, 0.35608288770053476, 0.4147117565417555, 0.3548918316507146]   avg_f1=0.3939361852948712\n",
      "Params: text=lemmas, C=1, kernel=rbf,   F1:[0.5675591097277844, 0.576629884322192, 0.5041208791208791, 0.5609105723174165, 0.5495440729483283]   avg_f1=0.55175290368732\n",
      "CURRENT BEST!!\n",
      "Params: text=lemmas, C=1, kernel=linear,   F1:[0.5639426487815341, 0.5987693822298794, 0.5485450342600289, 0.5258183608171303, 0.514162077104642]   avg_f1=0.5502475006386429\n",
      "Params: text=lemmas, C=1, kernel=poly,   F1:[0.471452193366404, 0.47432827879755257, 0.42181647940074907, 0.48354506000386555, 0.5333114269284482]   avg_f1=0.47689068769940385\n",
      "Params: text=lemmas, C=10, kernel=rbf,   F1:[0.5799597147008322, 0.5566783453193189, 0.5681818181818181, 0.5441140883717306, 0.5181870338496843]   avg_f1=0.5534242000846769\n",
      "CURRENT BEST!!\n",
      "Params: text=lemmas, C=10, kernel=linear,   F1:[0.5661216831948539, 0.6089511958033067, 0.5444594689592147, 0.5339240298629913, 0.5141381853946397]   avg_f1=0.5535189126430013\n",
      "CURRENT BEST!!\n",
      "Params: text=lemmas, C=10, kernel=poly,   F1:[0.527380115068565, 0.523629855774292, 0.4997300974771921, 0.5213559777023711, 0.5241502683363148]   avg_f1=0.5192492628717469\n",
      "Params: text=no stop words, C=0.1, kernel=rbf,   F1:[0.34828496042216356, 0.39785286242509244, 0.34308510638297873, 0.5006599502113511, 0.328804347826087]   avg_f1=0.38373744545353455\n",
      "Params: text=no stop words, C=0.1, kernel=linear,   F1:[0.531039228610396, 0.5540638130252101, 0.5241502683363148, 0.5425026226068712, 0.5423901103405309]   avg_f1=0.5388292085838646\n",
      "Params: text=no stop words, C=0.1, kernel=poly,   F1:[0.40038506613092245, 0.42764030429873734, 0.3671014719953294, 0.4298245614035088, 0.38045260907756906]   avg_f1=0.40108080258121337\n",
      "Params: text=no stop words, C=1, kernel=rbf,   F1:[0.5506842456608811, 0.5872268437148843, 0.5316962784012722, 0.5344053238919486, 0.5516597058811452]   avg_f1=0.5511344795100263\n",
      "Params: text=no stop words, C=1, kernel=linear,   F1:[0.5297291679657459, 0.5576603959582683, 0.5323900905296254, 0.540483946974819, 0.5666879805879363]   avg_f1=0.545390316403279\n",
      "Params: text=no stop words, C=1, kernel=poly,   F1:[0.48695733532934127, 0.47245512152931, 0.467482777924283, 0.49867291178766593, 0.5153184589174654]   avg_f1=0.48817732109761314\n",
      "Params: text=no stop words, C=10, kernel=rbf,   F1:[0.5269449214106459, 0.5622938715235049, 0.5496660202542556, 0.5398050682261208, 0.49179464388589866]   avg_f1=0.5341009050600851\n"
     ]
    },
    {
     "ename": "KeyboardInterrupt",
     "evalue": "",
     "output_type": "error",
     "traceback": [
      "\u001b[1;31m---------------------------------------------------------------------------\u001b[0m",
      "\u001b[1;31mKeyboardInterrupt\u001b[0m                         Traceback (most recent call last)",
      "Cell \u001b[1;32mIn[68], line 3\u001b[0m\n\u001b[0;32m      1\u001b[0m vectorizer\u001b[39m=\u001b[39mCountVectorizer(max_features\u001b[39m=\u001b[39m\u001b[39m400\u001b[39m)\n\u001b[1;32m----> 3\u001b[0m best\u001b[39m=\u001b[39mgrid_search(text, C, kernel, essays_train, essays_test, vectorizer)\n",
      "Cell \u001b[1;32mIn[50], line 26\u001b[0m, in \u001b[0;36mgrid_search\u001b[1;34m(text, C, kernel, data_train, data_test, vectorizer)\u001b[0m\n\u001b[0;32m     22\u001b[0m y_test\u001b[39m=\u001b[39mdata_test[[personality]]\n\u001b[0;32m     24\u001b[0m model\u001b[39m=\u001b[39mSVC(C\u001b[39m=\u001b[39mC, kernel\u001b[39m=\u001b[39mkernel)\n\u001b[1;32m---> 26\u001b[0m model\u001b[39m.\u001b[39;49mfit(X_train, y_train)\n\u001b[0;32m     28\u001b[0m y_pred\u001b[39m=\u001b[39mmodel\u001b[39m.\u001b[39mpredict(X_test)\n\u001b[0;32m     30\u001b[0m f1\u001b[39m.\u001b[39mappend(f1_score(y_pred\u001b[39m=\u001b[39my_pred, y_true\u001b[39m=\u001b[39my_test, average\u001b[39m=\u001b[39m\u001b[39m\"\u001b[39m\u001b[39mmacro\u001b[39m\u001b[39m\"\u001b[39m))\n",
      "File \u001b[1;32mc:\\Users\\jurin\\anaconda3\\envs\\tarlab1\\lib\\site-packages\\sklearn\\svm\\_base.py:217\u001b[0m, in \u001b[0;36mBaseLibSVM.fit\u001b[1;34m(self, X, y, sample_weight)\u001b[0m\n\u001b[0;32m    214\u001b[0m     \u001b[39mprint\u001b[39m(\u001b[39m'\u001b[39m\u001b[39m[LibSVM]\u001b[39m\u001b[39m'\u001b[39m, end\u001b[39m=\u001b[39m\u001b[39m'\u001b[39m\u001b[39m'\u001b[39m)\n\u001b[0;32m    216\u001b[0m seed \u001b[39m=\u001b[39m rnd\u001b[39m.\u001b[39mrandint(np\u001b[39m.\u001b[39miinfo(\u001b[39m'\u001b[39m\u001b[39mi\u001b[39m\u001b[39m'\u001b[39m)\u001b[39m.\u001b[39mmax)\n\u001b[1;32m--> 217\u001b[0m fit(X, y, sample_weight, solver_type, kernel, random_seed\u001b[39m=\u001b[39;49mseed)\n\u001b[0;32m    218\u001b[0m \u001b[39m# see comment on the other call to np.iinfo in this file\u001b[39;00m\n\u001b[0;32m    220\u001b[0m \u001b[39mself\u001b[39m\u001b[39m.\u001b[39mshape_fit_ \u001b[39m=\u001b[39m X\u001b[39m.\u001b[39mshape \u001b[39mif\u001b[39;00m \u001b[39mhasattr\u001b[39m(X, \u001b[39m\"\u001b[39m\u001b[39mshape\u001b[39m\u001b[39m\"\u001b[39m) \u001b[39melse\u001b[39;00m (n_samples, )\n",
      "File \u001b[1;32mc:\\Users\\jurin\\anaconda3\\envs\\tarlab1\\lib\\site-packages\\sklearn\\svm\\_base.py:292\u001b[0m, in \u001b[0;36mBaseLibSVM._sparse_fit\u001b[1;34m(self, X, y, sample_weight, solver_type, kernel, random_seed)\u001b[0m\n\u001b[0;32m    285\u001b[0m kernel_type \u001b[39m=\u001b[39m \u001b[39mself\u001b[39m\u001b[39m.\u001b[39m_sparse_kernels\u001b[39m.\u001b[39mindex(kernel)\n\u001b[0;32m    287\u001b[0m libsvm_sparse\u001b[39m.\u001b[39mset_verbosity_wrap(\u001b[39mself\u001b[39m\u001b[39m.\u001b[39mverbose)\n\u001b[0;32m    289\u001b[0m \u001b[39mself\u001b[39m\u001b[39m.\u001b[39msupport_, \u001b[39mself\u001b[39m\u001b[39m.\u001b[39msupport_vectors_, dual_coef_data, \\\n\u001b[0;32m    290\u001b[0m     \u001b[39mself\u001b[39m\u001b[39m.\u001b[39mintercept_, \u001b[39mself\u001b[39m\u001b[39m.\u001b[39m_n_support, \\\n\u001b[0;32m    291\u001b[0m     \u001b[39mself\u001b[39m\u001b[39m.\u001b[39m_probA, \u001b[39mself\u001b[39m\u001b[39m.\u001b[39m_probB, \u001b[39mself\u001b[39m\u001b[39m.\u001b[39mfit_status_ \u001b[39m=\u001b[39m \\\n\u001b[1;32m--> 292\u001b[0m     libsvm_sparse\u001b[39m.\u001b[39;49mlibsvm_sparse_train(\n\u001b[0;32m    293\u001b[0m         X\u001b[39m.\u001b[39;49mshape[\u001b[39m1\u001b[39;49m], X\u001b[39m.\u001b[39;49mdata, X\u001b[39m.\u001b[39;49mindices, X\u001b[39m.\u001b[39;49mindptr, y, solver_type,\n\u001b[0;32m    294\u001b[0m         kernel_type, \u001b[39mself\u001b[39;49m\u001b[39m.\u001b[39;49mdegree, \u001b[39mself\u001b[39;49m\u001b[39m.\u001b[39;49m_gamma, \u001b[39mself\u001b[39;49m\u001b[39m.\u001b[39;49mcoef0, \u001b[39mself\u001b[39;49m\u001b[39m.\u001b[39;49mtol,\n\u001b[0;32m    295\u001b[0m         \u001b[39mself\u001b[39;49m\u001b[39m.\u001b[39;49mC, \u001b[39mself\u001b[39;49m\u001b[39m.\u001b[39;49mclass_weight_,\n\u001b[0;32m    296\u001b[0m         sample_weight, \u001b[39mself\u001b[39;49m\u001b[39m.\u001b[39;49mnu, \u001b[39mself\u001b[39;49m\u001b[39m.\u001b[39;49mcache_size, \u001b[39mself\u001b[39;49m\u001b[39m.\u001b[39;49mepsilon,\n\u001b[0;32m    297\u001b[0m         \u001b[39mint\u001b[39;49m(\u001b[39mself\u001b[39;49m\u001b[39m.\u001b[39;49mshrinking), \u001b[39mint\u001b[39;49m(\u001b[39mself\u001b[39;49m\u001b[39m.\u001b[39;49mprobability), \u001b[39mself\u001b[39;49m\u001b[39m.\u001b[39;49mmax_iter,\n\u001b[0;32m    298\u001b[0m         random_seed)\n\u001b[0;32m    300\u001b[0m \u001b[39mself\u001b[39m\u001b[39m.\u001b[39m_warn_from_fit_status()\n\u001b[0;32m    302\u001b[0m \u001b[39mif\u001b[39;00m \u001b[39mhasattr\u001b[39m(\u001b[39mself\u001b[39m, \u001b[39m\"\u001b[39m\u001b[39mclasses_\u001b[39m\u001b[39m\"\u001b[39m):\n",
      "File \u001b[1;32msklearn\\svm\\_libsvm_sparse.pyx:186\u001b[0m, in \u001b[0;36msklearn.svm._libsvm_sparse.libsvm_sparse_train\u001b[1;34m()\u001b[0m\n",
      "File \u001b[1;32mc:\\Users\\jurin\\anaconda3\\envs\\tarlab1\\lib\\site-packages\\scipy\\sparse\\_compressed.py:26\u001b[0m, in \u001b[0;36m_cs_matrix.__init__\u001b[1;34m(self, arg1, shape, dtype, copy)\u001b[0m\n\u001b[0;32m     23\u001b[0m \u001b[39mclass\u001b[39;00m \u001b[39m_cs_matrix\u001b[39;00m(_data_matrix, _minmax_mixin, IndexMixin):\n\u001b[0;32m     24\u001b[0m     \u001b[39m\"\"\"base matrix class for compressed row- and column-oriented matrices\"\"\"\u001b[39;00m\n\u001b[1;32m---> 26\u001b[0m     \u001b[39mdef\u001b[39;00m \u001b[39m__init__\u001b[39m(\u001b[39mself\u001b[39m, arg1, shape\u001b[39m=\u001b[39m\u001b[39mNone\u001b[39;00m, dtype\u001b[39m=\u001b[39m\u001b[39mNone\u001b[39;00m, copy\u001b[39m=\u001b[39m\u001b[39mFalse\u001b[39;00m):\n\u001b[0;32m     27\u001b[0m         _data_matrix\u001b[39m.\u001b[39m\u001b[39m__init__\u001b[39m(\u001b[39mself\u001b[39m)\n\u001b[0;32m     29\u001b[0m         \u001b[39mif\u001b[39;00m isspmatrix(arg1):\n",
      "\u001b[1;31mKeyboardInterrupt\u001b[0m: "
     ]
    }
   ],
   "source": [
    "vectorizer=CountVectorizer(max_features=400)\n",
    "\n",
    "best=grid_search(text, C, kernel, essays_train, essays_test, vectorizer)"
   ]
  },
  {
   "cell_type": "code",
   "execution_count": null,
   "metadata": {},
   "outputs": [],
   "source": [
    "print(best)"
   ]
  },
  {
   "cell_type": "code",
   "execution_count": null,
   "metadata": {},
   "outputs": [],
   "source": [
    "vectorizer=TfidfVectorizer(max_features=400)\n",
    "\n",
    "best=grid_search(text, C, kernel, essays_train, essays_test, vectorizer)"
   ]
  },
  {
   "cell_type": "code",
   "execution_count": null,
   "metadata": {},
   "outputs": [],
   "source": [
    "print(best)"
   ]
  },
  {
   "cell_type": "code",
   "execution_count": 11,
   "metadata": {},
   "outputs": [
    {
     "name": "stderr",
     "output_type": "stream",
     "text": [
      "c:\\Users\\jurin\\anaconda3\\envs\\tarlab1\\lib\\site-packages\\sklearn\\utils\\validation.py:72: DataConversionWarning: A column-vector y was passed when a 1d array was expected. Please change the shape of y to (n_samples, ), for example using ravel().\n",
      "  return f(**kwargs)\n"
     ]
    },
    {
     "name": "stdout",
     "output_type": "stream",
     "text": [
      "Params: text=TEXT, C=0.1, kernel=rbf,   F1:[0.3232876712328767, 0.3378016085790885, 0.34828496042216356, 0.3138888888888889, 0.34828496042216356]   avg_f1=0.33430961790903624\n",
      "CURRENT BEST!!\n",
      "Params: text=TEXT, C=0.1, kernel=linear,   F1:[0.3232876712328767, 0.3378016085790885, 0.34828496042216356, 0.3138888888888889, 0.34828496042216356]   avg_f1=0.33430961790903624\n",
      "Params: text=TEXT, C=0.1, kernel=poly,   F1:[0.3232876712328767, 0.3378016085790885, 0.34828496042216356, 0.3138888888888889, 0.34828496042216356]   avg_f1=0.33430961790903624\n",
      "Params: text=TEXT, C=1, kernel=rbf,   F1:[0.49490855760200236, 0.6072295081967213, 0.4343702502786503, 0.5404839469748192, 0.5052218874126831]   avg_f1=0.5164428300929752\n",
      "CURRENT BEST!!\n",
      "Params: text=TEXT, C=1, kernel=linear,   F1:[0.5506842456608811, 0.615378311041175, 0.5032604708370196, 0.5707196131970956, 0.5477417604774176]   avg_f1=0.5575568802427179\n",
      "CURRENT BEST!!\n",
      "Params: text=TEXT, C=1, kernel=poly,   F1:[0.3232876712328767, 0.5924751375260646, 0.34828496042216356, 0.5480477708443592, 0.519386682924931]   avg_f1=0.4662964445900791\n",
      "Params: text=TEXT, C=10, kernel=rbf,   F1:[0.5539271372989618, 0.613346064165031, 0.4975430344490175, 0.5671212588707188, 0.5358793357371388]   avg_f1=0.5535633661041736\n",
      "Params: text=TEXT, C=10, kernel=linear,   F1:[0.5620351672166675, 0.603232362968791, 0.5118985815484065, 0.5527792866195909, 0.549815866674989]   avg_f1=0.5559522530056891\n",
      "Params: text=TEXT, C=10, kernel=poly,   F1:[0.3765673343103729, 0.5994270355262671, 0.37511530919435465, 0.544517614854094, 0.5196014171454031]   avg_f1=0.48304574220609836\n",
      "Params: text=lemmas, C=0.1, kernel=rbf,   F1:[0.3232876712328767, 0.3378016085790885, 0.34828496042216356, 0.3138888888888889, 0.34828496042216356]   avg_f1=0.33430961790903624\n",
      "Params: text=lemmas, C=0.1, kernel=linear,   F1:[0.3232876712328767, 0.3378016085790885, 0.34828496042216356, 0.3138888888888889, 0.34828496042216356]   avg_f1=0.33430961790903624\n",
      "Params: text=lemmas, C=0.1, kernel=poly,   F1:[0.3232876712328767, 0.3378016085790885, 0.34828496042216356, 0.3138888888888889, 0.34828496042216356]   avg_f1=0.33430961790903624\n",
      "Params: text=lemmas, C=1, kernel=rbf,   F1:[0.4981553761428648, 0.5888649734538671, 0.4697640542042819, 0.5422400078723368, 0.5218786613010035]   avg_f1=0.5241806145948708\n",
      "Params: text=lemmas, C=1, kernel=linear,   F1:[0.539600877651238, 0.6012129407666933, 0.517056856187291, 0.5594125939656484, 0.5545273732470334]   avg_f1=0.5543621283635808\n",
      "Params: text=lemmas, C=1, kernel=poly,   F1:[0.4234023927633499, 0.5994270355262671, 0.41471332759205615, 0.5259350393700787, 0.5080428728162714]   avg_f1=0.4943041336136046\n",
      "Params: text=lemmas, C=10, kernel=rbf,   F1:[0.5519042392362333, 0.5931024026029906, 0.5383118997576829, 0.5487136437706781, 0.5575096196303538]   avg_f1=0.5579083609995876\n",
      "CURRENT BEST!!\n",
      "Params: text=lemmas, C=10, kernel=linear,   F1:[0.5537708579687295, 0.6071264593991867, 0.5379435056432, 0.5361159976544592, 0.5592565055762082]   avg_f1=0.5588426652483568\n",
      "CURRENT BEST!!\n",
      "Params: text=lemmas, C=10, kernel=poly,   F1:[0.5065855185180252, 0.5923807959933497, 0.47103469421448624, 0.5424801245799524, 0.5212210086299892]   avg_f1=0.5267404283871606\n",
      "Params: text=no stop words, C=0.1, kernel=rbf,   F1:[0.3232876712328767, 0.3378016085790885, 0.34828496042216356, 0.3138888888888889, 0.34828496042216356]   avg_f1=0.33430961790903624\n",
      "Params: text=no stop words, C=0.1, kernel=linear,   F1:[0.3232876712328767, 0.3378016085790885, 0.34828496042216356, 0.3138888888888889, 0.34828496042216356]   avg_f1=0.33430961790903624\n",
      "Params: text=no stop words, C=0.1, kernel=poly,   F1:[0.3232876712328767, 0.3378016085790885, 0.34828496042216356, 0.3138888888888889, 0.34828496042216356]   avg_f1=0.33430961790903624\n",
      "Params: text=no stop words, C=1, kernel=rbf,   F1:[0.39337894393905215, 0.6065070292996978, 0.398110661268556, 0.5467983132777949, 0.5533676177836762]   avg_f1=0.4996325131137554\n",
      "Params: text=no stop words, C=1, kernel=linear,   F1:[0.5614545784868716, 0.5949757313393677, 0.5052146598643805, 0.5425925925925925, 0.5662609491708799]   avg_f1=0.5540997022908184\n",
      "Params: text=no stop words, C=1, kernel=poly,   F1:[0.3232876712328767, 0.3378016085790885, 0.34828496042216356, 0.31293463143254524, 0.5099632008411237]   avg_f1=0.3664544145015595\n",
      "Params: text=no stop words, C=10, kernel=rbf,   F1:[0.5616644588826509, 0.6133587395250681, 0.4809376175589254, 0.5407233555499543, 0.5680955235811351]   avg_f1=0.5529559390195468\n",
      "Params: text=no stop words, C=10, kernel=linear,   F1:[0.5545390454642336, 0.586610878661088, 0.5282701794329702, 0.5303406084656084, 0.548431059699508]   avg_f1=0.5496383543446817\n",
      "Params: text=no stop words, C=10, kernel=poly,   F1:[0.3232876712328767, 0.35837531451924065, 0.34828496042216356, 0.3455063455063455, 0.5172514101567649]   avg_f1=0.3785411403674782\n",
      "Params: text=no punc, C=0.1, kernel=rbf,   F1:[0.3232876712328767, 0.3378016085790885, 0.34828496042216356, 0.3138888888888889, 0.34828496042216356]   avg_f1=0.33430961790903624\n",
      "Params: text=no punc, C=0.1, kernel=linear,   F1:[0.3232876712328767, 0.3378016085790885, 0.34828496042216356, 0.3138888888888889, 0.34828496042216356]   avg_f1=0.33430961790903624\n",
      "Params: text=no punc, C=0.1, kernel=poly,   F1:[0.3232876712328767, 0.3378016085790885, 0.34828496042216356, 0.3138888888888889, 0.34828496042216356]   avg_f1=0.33430961790903624\n",
      "Params: text=no punc, C=1, kernel=rbf,   F1:[0.48564628885914024, 0.605222715369389, 0.4255078255078255, 0.5302950819672131, 0.5198613928329952]   avg_f1=0.5133066609073126\n",
      "Params: text=no punc, C=1, kernel=linear,   F1:[0.5461578433206543, 0.615327868852459, 0.5125, 0.5721012336049591, 0.5330576419951051]   avg_f1=0.5558289175546355\n",
      "Params: text=no punc, C=1, kernel=poly,   F1:[0.3232876712328767, 0.5939726027397261, 0.34828496042216356, 0.5493589743589744, 0.5110426385278778]   avg_f1=0.4651893694563237\n"
     ]
    },
    {
     "ename": "KeyboardInterrupt",
     "evalue": "",
     "output_type": "error",
     "traceback": [
      "\u001b[1;31m---------------------------------------------------------------------------\u001b[0m",
      "\u001b[1;31mKeyboardInterrupt\u001b[0m                         Traceback (most recent call last)",
      "Cell \u001b[1;32mIn[11], line 3\u001b[0m\n\u001b[0;32m      1\u001b[0m vectorizer\u001b[39m=\u001b[39mTfidfVectorizer(ngram_range\u001b[39m=\u001b[39m(\u001b[39m1\u001b[39m,\u001b[39m2\u001b[39m))\u001b[39m#, max_features=4000)\u001b[39;00m\n\u001b[1;32m----> 3\u001b[0m best\u001b[39m=\u001b[39mgrid_search(text, C, kernel, essays_train, essays_test, vectorizer)\n",
      "Cell \u001b[1;32mIn[9], line 26\u001b[0m, in \u001b[0;36mgrid_search\u001b[1;34m(text, C, kernel, data_train, data_test, vectorizer)\u001b[0m\n\u001b[0;32m     22\u001b[0m y_test\u001b[39m=\u001b[39mdata_test[[personality]]\n\u001b[0;32m     24\u001b[0m model\u001b[39m=\u001b[39mSVC(C\u001b[39m=\u001b[39mC, kernel\u001b[39m=\u001b[39mkernel)\n\u001b[1;32m---> 26\u001b[0m model\u001b[39m.\u001b[39;49mfit(X_train, y_train)\n\u001b[0;32m     28\u001b[0m y_pred\u001b[39m=\u001b[39mmodel\u001b[39m.\u001b[39mpredict(X_test)\n\u001b[0;32m     30\u001b[0m f1\u001b[39m.\u001b[39mappend(f1_score(y_pred\u001b[39m=\u001b[39my_pred, y_true\u001b[39m=\u001b[39my_test, average\u001b[39m=\u001b[39m\u001b[39m\"\u001b[39m\u001b[39mmacro\u001b[39m\u001b[39m\"\u001b[39m))\n",
      "File \u001b[1;32mc:\\Users\\jurin\\anaconda3\\envs\\tarlab1\\lib\\site-packages\\sklearn\\svm\\_base.py:217\u001b[0m, in \u001b[0;36mBaseLibSVM.fit\u001b[1;34m(self, X, y, sample_weight)\u001b[0m\n\u001b[0;32m    214\u001b[0m     \u001b[39mprint\u001b[39m(\u001b[39m'\u001b[39m\u001b[39m[LibSVM]\u001b[39m\u001b[39m'\u001b[39m, end\u001b[39m=\u001b[39m\u001b[39m'\u001b[39m\u001b[39m'\u001b[39m)\n\u001b[0;32m    216\u001b[0m seed \u001b[39m=\u001b[39m rnd\u001b[39m.\u001b[39mrandint(np\u001b[39m.\u001b[39miinfo(\u001b[39m'\u001b[39m\u001b[39mi\u001b[39m\u001b[39m'\u001b[39m)\u001b[39m.\u001b[39mmax)\n\u001b[1;32m--> 217\u001b[0m fit(X, y, sample_weight, solver_type, kernel, random_seed\u001b[39m=\u001b[39;49mseed)\n\u001b[0;32m    218\u001b[0m \u001b[39m# see comment on the other call to np.iinfo in this file\u001b[39;00m\n\u001b[0;32m    220\u001b[0m \u001b[39mself\u001b[39m\u001b[39m.\u001b[39mshape_fit_ \u001b[39m=\u001b[39m X\u001b[39m.\u001b[39mshape \u001b[39mif\u001b[39;00m \u001b[39mhasattr\u001b[39m(X, \u001b[39m\"\u001b[39m\u001b[39mshape\u001b[39m\u001b[39m\"\u001b[39m) \u001b[39melse\u001b[39;00m (n_samples, )\n",
      "File \u001b[1;32mc:\\Users\\jurin\\anaconda3\\envs\\tarlab1\\lib\\site-packages\\sklearn\\svm\\_base.py:292\u001b[0m, in \u001b[0;36mBaseLibSVM._sparse_fit\u001b[1;34m(self, X, y, sample_weight, solver_type, kernel, random_seed)\u001b[0m\n\u001b[0;32m    285\u001b[0m kernel_type \u001b[39m=\u001b[39m \u001b[39mself\u001b[39m\u001b[39m.\u001b[39m_sparse_kernels\u001b[39m.\u001b[39mindex(kernel)\n\u001b[0;32m    287\u001b[0m libsvm_sparse\u001b[39m.\u001b[39mset_verbosity_wrap(\u001b[39mself\u001b[39m\u001b[39m.\u001b[39mverbose)\n\u001b[0;32m    289\u001b[0m \u001b[39mself\u001b[39m\u001b[39m.\u001b[39msupport_, \u001b[39mself\u001b[39m\u001b[39m.\u001b[39msupport_vectors_, dual_coef_data, \\\n\u001b[0;32m    290\u001b[0m     \u001b[39mself\u001b[39m\u001b[39m.\u001b[39mintercept_, \u001b[39mself\u001b[39m\u001b[39m.\u001b[39m_n_support, \\\n\u001b[0;32m    291\u001b[0m     \u001b[39mself\u001b[39m\u001b[39m.\u001b[39m_probA, \u001b[39mself\u001b[39m\u001b[39m.\u001b[39m_probB, \u001b[39mself\u001b[39m\u001b[39m.\u001b[39mfit_status_ \u001b[39m=\u001b[39m \\\n\u001b[1;32m--> 292\u001b[0m     libsvm_sparse\u001b[39m.\u001b[39;49mlibsvm_sparse_train(\n\u001b[0;32m    293\u001b[0m         X\u001b[39m.\u001b[39;49mshape[\u001b[39m1\u001b[39;49m], X\u001b[39m.\u001b[39;49mdata, X\u001b[39m.\u001b[39;49mindices, X\u001b[39m.\u001b[39;49mindptr, y, solver_type,\n\u001b[0;32m    294\u001b[0m         kernel_type, \u001b[39mself\u001b[39;49m\u001b[39m.\u001b[39;49mdegree, \u001b[39mself\u001b[39;49m\u001b[39m.\u001b[39;49m_gamma, \u001b[39mself\u001b[39;49m\u001b[39m.\u001b[39;49mcoef0, \u001b[39mself\u001b[39;49m\u001b[39m.\u001b[39;49mtol,\n\u001b[0;32m    295\u001b[0m         \u001b[39mself\u001b[39;49m\u001b[39m.\u001b[39;49mC, \u001b[39mself\u001b[39;49m\u001b[39m.\u001b[39;49mclass_weight_,\n\u001b[0;32m    296\u001b[0m         sample_weight, \u001b[39mself\u001b[39;49m\u001b[39m.\u001b[39;49mnu, \u001b[39mself\u001b[39;49m\u001b[39m.\u001b[39;49mcache_size, \u001b[39mself\u001b[39;49m\u001b[39m.\u001b[39;49mepsilon,\n\u001b[0;32m    297\u001b[0m         \u001b[39mint\u001b[39;49m(\u001b[39mself\u001b[39;49m\u001b[39m.\u001b[39;49mshrinking), \u001b[39mint\u001b[39;49m(\u001b[39mself\u001b[39;49m\u001b[39m.\u001b[39;49mprobability), \u001b[39mself\u001b[39;49m\u001b[39m.\u001b[39;49mmax_iter,\n\u001b[0;32m    298\u001b[0m         random_seed)\n\u001b[0;32m    300\u001b[0m \u001b[39mself\u001b[39m\u001b[39m.\u001b[39m_warn_from_fit_status()\n\u001b[0;32m    302\u001b[0m \u001b[39mif\u001b[39;00m \u001b[39mhasattr\u001b[39m(\u001b[39mself\u001b[39m, \u001b[39m\"\u001b[39m\u001b[39mclasses_\u001b[39m\u001b[39m\"\u001b[39m):\n",
      "File \u001b[1;32msklearn\\svm\\_libsvm_sparse.pyx:186\u001b[0m, in \u001b[0;36msklearn.svm._libsvm_sparse.libsvm_sparse_train\u001b[1;34m()\u001b[0m\n",
      "File \u001b[1;32mc:\\Users\\jurin\\anaconda3\\envs\\tarlab1\\lib\\site-packages\\scipy\\sparse\\_compressed.py:26\u001b[0m, in \u001b[0;36m_cs_matrix.__init__\u001b[1;34m(self, arg1, shape, dtype, copy)\u001b[0m\n\u001b[0;32m     23\u001b[0m \u001b[39mclass\u001b[39;00m \u001b[39m_cs_matrix\u001b[39;00m(_data_matrix, _minmax_mixin, IndexMixin):\n\u001b[0;32m     24\u001b[0m     \u001b[39m\"\"\"base matrix class for compressed row- and column-oriented matrices\"\"\"\u001b[39;00m\n\u001b[1;32m---> 26\u001b[0m     \u001b[39mdef\u001b[39;00m \u001b[39m__init__\u001b[39m(\u001b[39mself\u001b[39m, arg1, shape\u001b[39m=\u001b[39m\u001b[39mNone\u001b[39;00m, dtype\u001b[39m=\u001b[39m\u001b[39mNone\u001b[39;00m, copy\u001b[39m=\u001b[39m\u001b[39mFalse\u001b[39;00m):\n\u001b[0;32m     27\u001b[0m         _data_matrix\u001b[39m.\u001b[39m\u001b[39m__init__\u001b[39m(\u001b[39mself\u001b[39m)\n\u001b[0;32m     29\u001b[0m         \u001b[39mif\u001b[39;00m isspmatrix(arg1):\n",
      "\u001b[1;31mKeyboardInterrupt\u001b[0m: "
     ]
    }
   ],
   "source": [
    "vectorizer=TfidfVectorizer(ngram_range=(1,2))#, max_features=4000)\n",
    "\n",
    "best=grid_search(text, C, kernel, essays_train, essays_test, vectorizer)"
   ]
  }
 ],
 "metadata": {
  "kernelspec": {
   "display_name": "tarlab1",
   "language": "python",
   "name": "python3"
  },
  "language_info": {
   "codemirror_mode": {
    "name": "ipython",
    "version": 3
   },
   "file_extension": ".py",
   "mimetype": "text/x-python",
   "name": "python",
   "nbconvert_exporter": "python",
   "pygments_lexer": "ipython3",
   "version": "3.9.16"
  },
  "orig_nbformat": 4
 },
 "nbformat": 4,
 "nbformat_minor": 2
}
