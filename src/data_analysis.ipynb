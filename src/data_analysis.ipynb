{
 "cells": [
  {
   "cell_type": "markdown",
   "source": [
    "# Data analysis for Text Analysis and Retrieval project 2022/2023 - SOTA team"
   ],
   "metadata": {
    "collapsed": false
   }
  },
  {
   "cell_type": "code",
   "execution_count": 65,
   "outputs": [],
   "source": [
    "import pandas as pd\n",
    "from scipy.stats import chi2_contingency"
   ],
   "metadata": {
    "collapsed": false
   }
  },
  {
   "cell_type": "code",
   "execution_count": 52,
   "outputs": [],
   "source": [
    "#import data set\n",
    "df = pd.read_excel('../data/essays.xlsx')"
   ],
   "metadata": {
    "collapsed": false
   }
  },
  {
   "cell_type": "code",
   "execution_count": 4,
   "outputs": [
    {
     "data": {
      "text/plain": "           #AUTHID                                               TEXT cEXT   \n0  1997_504851.txt  Well, right now I just woke up from a mid-day ...    n  \\\n1  1997_605191.txt  Well, here we go with the stream of consciousn...    n   \n2  1997_687252.txt  An open keyboard and buttons to push. The thin...    n   \n3  1997_568848.txt  I can't believe it!  It's really happening!  M...    y   \n4  1997_688160.txt  Well, here I go with the good old stream of co...    y   \n\n  cNEU cAGR cCON cOPN  \n0    y    y    n    y  \n1    n    y    n    n  \n2    y    n    y    y  \n3    n    y    y    n  \n4    n    y    n    y  ",
      "text/html": "<div>\n<style scoped>\n    .dataframe tbody tr th:only-of-type {\n        vertical-align: middle;\n    }\n\n    .dataframe tbody tr th {\n        vertical-align: top;\n    }\n\n    .dataframe thead th {\n        text-align: right;\n    }\n</style>\n<table border=\"1\" class=\"dataframe\">\n  <thead>\n    <tr style=\"text-align: right;\">\n      <th></th>\n      <th>#AUTHID</th>\n      <th>TEXT</th>\n      <th>cEXT</th>\n      <th>cNEU</th>\n      <th>cAGR</th>\n      <th>cCON</th>\n      <th>cOPN</th>\n    </tr>\n  </thead>\n  <tbody>\n    <tr>\n      <th>0</th>\n      <td>1997_504851.txt</td>\n      <td>Well, right now I just woke up from a mid-day ...</td>\n      <td>n</td>\n      <td>y</td>\n      <td>y</td>\n      <td>n</td>\n      <td>y</td>\n    </tr>\n    <tr>\n      <th>1</th>\n      <td>1997_605191.txt</td>\n      <td>Well, here we go with the stream of consciousn...</td>\n      <td>n</td>\n      <td>n</td>\n      <td>y</td>\n      <td>n</td>\n      <td>n</td>\n    </tr>\n    <tr>\n      <th>2</th>\n      <td>1997_687252.txt</td>\n      <td>An open keyboard and buttons to push. The thin...</td>\n      <td>n</td>\n      <td>y</td>\n      <td>n</td>\n      <td>y</td>\n      <td>y</td>\n    </tr>\n    <tr>\n      <th>3</th>\n      <td>1997_568848.txt</td>\n      <td>I can't believe it!  It's really happening!  M...</td>\n      <td>y</td>\n      <td>n</td>\n      <td>y</td>\n      <td>y</td>\n      <td>n</td>\n    </tr>\n    <tr>\n      <th>4</th>\n      <td>1997_688160.txt</td>\n      <td>Well, here I go with the good old stream of co...</td>\n      <td>y</td>\n      <td>n</td>\n      <td>y</td>\n      <td>n</td>\n      <td>y</td>\n    </tr>\n  </tbody>\n</table>\n</div>"
     },
     "execution_count": 4,
     "metadata": {},
     "output_type": "execute_result"
    }
   ],
   "source": [
    "df.head()"
   ],
   "metadata": {
    "collapsed": false
   }
  },
  {
   "cell_type": "code",
   "execution_count": 8,
   "outputs": [
    {
     "name": "stdout",
     "output_type": "stream",
     "text": [
      "<class 'pandas.core.frame.DataFrame'>\n",
      "RangeIndex: 2467 entries, 0 to 2466\n",
      "Data columns (total 7 columns):\n",
      " #   Column   Non-Null Count  Dtype \n",
      "---  ------   --------------  ----- \n",
      " 0   #AUTHID  2467 non-null   object\n",
      " 1   TEXT     2467 non-null   object\n",
      " 2   cEXT     2467 non-null   object\n",
      " 3   cNEU     2467 non-null   object\n",
      " 4   cAGR     2467 non-null   object\n",
      " 5   cCON     2467 non-null   object\n",
      " 6   cOPN     2467 non-null   object\n",
      "dtypes: object(7)\n",
      "memory usage: 135.0+ KB\n"
     ]
    }
   ],
   "source": [
    "#check data info\n",
    "df.info()"
   ],
   "metadata": {
    "collapsed": false
   }
  },
  {
   "cell_type": "code",
   "execution_count": 10,
   "outputs": [
    {
     "data": {
      "text/plain": "                #AUTHID                                               TEXT   \ncount              2467                                               2467  \\\nunique             2467                                               2467   \ntop     1997_504851.txt  Well, right now I just woke up from a mid-day ...   \nfreq                  1                                                  1   \n\n        cEXT  cNEU  cAGR  cCON  cOPN  \ncount   2467  2467  2467  2467  2467  \nunique     2     2     2     2     2  \ntop        y     n     y     y     y  \nfreq    1276  1234  1310  1253  1271  ",
      "text/html": "<div>\n<style scoped>\n    .dataframe tbody tr th:only-of-type {\n        vertical-align: middle;\n    }\n\n    .dataframe tbody tr th {\n        vertical-align: top;\n    }\n\n    .dataframe thead th {\n        text-align: right;\n    }\n</style>\n<table border=\"1\" class=\"dataframe\">\n  <thead>\n    <tr style=\"text-align: right;\">\n      <th></th>\n      <th>#AUTHID</th>\n      <th>TEXT</th>\n      <th>cEXT</th>\n      <th>cNEU</th>\n      <th>cAGR</th>\n      <th>cCON</th>\n      <th>cOPN</th>\n    </tr>\n  </thead>\n  <tbody>\n    <tr>\n      <th>count</th>\n      <td>2467</td>\n      <td>2467</td>\n      <td>2467</td>\n      <td>2467</td>\n      <td>2467</td>\n      <td>2467</td>\n      <td>2467</td>\n    </tr>\n    <tr>\n      <th>unique</th>\n      <td>2467</td>\n      <td>2467</td>\n      <td>2</td>\n      <td>2</td>\n      <td>2</td>\n      <td>2</td>\n      <td>2</td>\n    </tr>\n    <tr>\n      <th>top</th>\n      <td>1997_504851.txt</td>\n      <td>Well, right now I just woke up from a mid-day ...</td>\n      <td>y</td>\n      <td>n</td>\n      <td>y</td>\n      <td>y</td>\n      <td>y</td>\n    </tr>\n    <tr>\n      <th>freq</th>\n      <td>1</td>\n      <td>1</td>\n      <td>1276</td>\n      <td>1234</td>\n      <td>1310</td>\n      <td>1253</td>\n      <td>1271</td>\n    </tr>\n  </tbody>\n</table>\n</div>"
     },
     "execution_count": 10,
     "metadata": {},
     "output_type": "execute_result"
    }
   ],
   "source": [
    "#data description\n",
    "df.describe()"
   ],
   "metadata": {
    "collapsed": false
   }
  },
  {
   "cell_type": "code",
   "execution_count": 76,
   "outputs": [],
   "source": [
    "def chi2_test(crosstab, alpha=0.05, plot=False, col_names=None):\n",
    "    stat, p, dof, expected = chi2_contingency(crosstab)\n",
    "\n",
    "    print(\"p value is \" + str(p))\n",
    "    if p <= alpha:\n",
    "        print(col_names, 'are dependent (reject H0)')\n",
    "    else:\n",
    "        print(col_names, 'are independent (H0 holds true)')\n",
    "\n",
    "    if plot:\n",
    "        crosstab.plot(kind='bar')"
   ],
   "metadata": {
    "collapsed": false
   }
  },
  {
   "cell_type": "code",
   "execution_count": 78,
   "outputs": [
    {
     "name": "stdout",
     "output_type": "stream",
     "text": [
      "p value is 2.444811777049674e-15\n",
      "cEXT cNEU are dependent (reject H0)\n",
      "\n",
      "p value is 8.760553412406839e-10\n",
      "cEXT cAGR are dependent (reject H0)\n",
      "\n",
      "p value is 1.787066710462952e-11\n",
      "cEXT cCON are dependent (reject H0)\n",
      "\n",
      "p value is 0.00010529059197911394\n",
      "cEXT cOPN are dependent (reject H0)\n",
      "\n",
      "p value is 6.672729280979142e-21\n",
      "cNEU cAGR are dependent (reject H0)\n",
      "\n",
      "p value is 2.691551256358377e-13\n",
      "cNEU cCON are dependent (reject H0)\n",
      "\n",
      "p value is 0.020569711026882685\n",
      "cNEU cOPN are dependent (reject H0)\n",
      "\n",
      "p value is 3.37922625078336e-11\n",
      "cAGR cCON are dependent (reject H0)\n",
      "\n",
      "p value is 0.3927407789269992\n",
      "cAGR cOPN are independent (H0 holds true)\n",
      "\n",
      "p value is 0.19600085301681122\n",
      "cCON cOPN are independent (H0 holds true)\n",
      "\n"
     ]
    }
   ],
   "source": [
    "p_array = ['cEXT', 'cNEU', 'cAGR', 'cCON', 'cOPN']\n",
    "\n",
    "for i in range(len(p_array)-1):\n",
    "    for j in range(1,len(p_array)-i):\n",
    "        ct = pd.crosstab(df[p_array[i]], df[p_array[i+j]])\n",
    "        chi2_test(ct, col_names=str(p_array[i]) + ' ' + str(p_array[i+j]))\n",
    "        print()"
   ],
   "metadata": {
    "collapsed": false
   }
  }
 ],
 "metadata": {
  "kernelspec": {
   "display_name": "Python 3",
   "language": "python",
   "name": "python3"
  },
  "language_info": {
   "codemirror_mode": {
    "name": "ipython",
    "version": 2
   },
   "file_extension": ".py",
   "mimetype": "text/x-python",
   "name": "python",
   "nbconvert_exporter": "python",
   "pygments_lexer": "ipython2",
   "version": "2.7.6"
  }
 },
 "nbformat": 4,
 "nbformat_minor": 0
}
